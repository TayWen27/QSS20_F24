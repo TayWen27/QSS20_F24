{
 "cells": [
  {
   "cell_type": "markdown",
   "metadata": {},
   "source": [
    "# Notebook for topic modeling "
   ]
  },
  {
   "cell_type": "markdown",
   "metadata": {},
   "source": [
    "# 0. Imports"
   ]
  },
  {
   "cell_type": "code",
   "execution_count": 20,
   "metadata": {},
   "outputs": [],
   "source": [
    "#p# load packages \n",
    "import pandas as pd\n",
    "import re\n",
    "import numpy as np\n",
    "\n",
    "## nltk imports\n",
    "# !pip install nltk # can install on terminal or by uncommenting this line\n",
    "# pimport nltk; nltk.download('punkt'); nltk.download('stopwords')\n",
    "from nltk.tokenize import word_tokenize, wordpunct_tokenize\n",
    "from nltk.corpus import stopwords\n",
    "from nltk.stem.porter import PorterStemmer\n",
    "\n",
    "## sklearn imports\n",
    "from sklearn.feature_extraction.text import CountVectorizer\n",
    "\n",
    "## lda\n",
    "# !pip install gensim # can install by uncommenting this line\n",
    "from gensim import corpora\n",
    "import gensim\n",
    "\n",
    "## visualizing LDA--likely need to install\n",
    "#!pip install pyLDAvis # can install by uncommenting this line\n",
    "import pyLDAvis.gensim_models as gensimvis\n",
    "import pyLDAvis\n",
    "pyLDAvis.enable_notebook()\n",
    "\n",
    "## print mult things\n",
    "from IPython.core.interactiveshell import InteractiveShell\n",
    "InteractiveShell.ast_node_interactivity = \"all\"\n",
    "\n",
    "## random\n",
    "import random\n",
    "import string; punctlist = [char for char in string.punctuation] # list of english punctuation marks"
   ]
  },
  {
   "cell_type": "code",
   "execution_count": 21,
   "metadata": {},
   "outputs": [],
   "source": [
    "import pandas as pd"
   ]
  },
  {
   "cell_type": "markdown",
   "metadata": {},
   "source": [
    "# 0. Load data"
   ]
  },
  {
   "cell_type": "code",
   "execution_count": 22,
   "metadata": {},
   "outputs": [
    {
     "data": {
      "text/html": [
       "<div>\n",
       "<style scoped>\n",
       "    .dataframe tbody tr th:only-of-type {\n",
       "        vertical-align: middle;\n",
       "    }\n",
       "\n",
       "    .dataframe tbody tr th {\n",
       "        vertical-align: top;\n",
       "    }\n",
       "\n",
       "    .dataframe thead th {\n",
       "        text-align: right;\n",
       "    }\n",
       "</style>\n",
       "<table border=\"1\" class=\"dataframe\">\n",
       "  <thead>\n",
       "    <tr style=\"text-align: right;\">\n",
       "      <th></th>\n",
       "      <th>id</th>\n",
       "      <th>name</th>\n",
       "      <th>name_upper</th>\n",
       "      <th>neighbourhood_group</th>\n",
       "      <th>price</th>\n",
       "    </tr>\n",
       "  </thead>\n",
       "  <tbody>\n",
       "    <tr>\n",
       "      <th>0</th>\n",
       "      <td>2539</td>\n",
       "      <td>Clean &amp; quiet apt home by the park</td>\n",
       "      <td>CLEAN &amp; QUIET APT HOME BY THE PARK</td>\n",
       "      <td>Brooklyn</td>\n",
       "      <td>149</td>\n",
       "    </tr>\n",
       "    <tr>\n",
       "      <th>1</th>\n",
       "      <td>2595</td>\n",
       "      <td>Skylit Midtown Castle</td>\n",
       "      <td>SKYLIT MIDTOWN CASTLE</td>\n",
       "      <td>Manhattan</td>\n",
       "      <td>225</td>\n",
       "    </tr>\n",
       "    <tr>\n",
       "      <th>2</th>\n",
       "      <td>3647</td>\n",
       "      <td>THE VILLAGE OF HARLEM....NEW YORK !</td>\n",
       "      <td>THE VILLAGE OF HARLEM....NEW YORK !</td>\n",
       "      <td>Manhattan</td>\n",
       "      <td>150</td>\n",
       "    </tr>\n",
       "    <tr>\n",
       "      <th>3</th>\n",
       "      <td>3831</td>\n",
       "      <td>Cozy Entire Floor of Brownstone</td>\n",
       "      <td>COZY ENTIRE FLOOR OF BROWNSTONE</td>\n",
       "      <td>Brooklyn</td>\n",
       "      <td>89</td>\n",
       "    </tr>\n",
       "    <tr>\n",
       "      <th>4</th>\n",
       "      <td>5022</td>\n",
       "      <td>Entire Apt: Spacious Studio/Loft by central park</td>\n",
       "      <td>ENTIRE APT: SPACIOUS STUDIO/LOFT BY CENTRAL PARK</td>\n",
       "      <td>Manhattan</td>\n",
       "      <td>80</td>\n",
       "    </tr>\n",
       "  </tbody>\n",
       "</table>\n",
       "</div>"
      ],
      "text/plain": [
       "     id                                              name  \\\n",
       "0  2539                Clean & quiet apt home by the park   \n",
       "1  2595                             Skylit Midtown Castle   \n",
       "2  3647               THE VILLAGE OF HARLEM....NEW YORK !   \n",
       "3  3831                   Cozy Entire Floor of Brownstone   \n",
       "4  5022  Entire Apt: Spacious Studio/Loft by central park   \n",
       "\n",
       "                                         name_upper neighbourhood_group  price  \n",
       "0                CLEAN & QUIET APT HOME BY THE PARK            Brooklyn    149  \n",
       "1                             SKYLIT MIDTOWN CASTLE           Manhattan    225  \n",
       "2               THE VILLAGE OF HARLEM....NEW YORK !           Manhattan    150  \n",
       "3                   COZY ENTIRE FLOOR OF BROWNSTONE            Brooklyn     89  \n",
       "4  ENTIRE APT: SPACIOUS STUDIO/LOFT BY CENTRAL PARK           Manhattan     80  "
      ]
     },
     "execution_count": 22,
     "metadata": {},
     "output_type": "execute_result"
    }
   ],
   "source": [
    "ab = pd.read_csv(\"../public_data/airbnb_text.zip\")\n",
    "ab.head()"
   ]
  },
  {
   "cell_type": "markdown",
   "metadata": {},
   "source": [
    "# 1. Preprocess documents\n",
    "\n",
    "In this case, each name/name_upper, or listing title, we're treating as a document"
   ]
  },
  {
   "cell_type": "markdown",
   "metadata": {},
   "source": [
    "## 1.1 Load stopwords list and augment with our own custom ones"
   ]
  },
  {
   "cell_type": "code",
   "execution_count": 23,
   "metadata": {},
   "outputs": [],
   "source": [
    "list_stopwords = stopwords.words(\"english\")\n",
    "\n",
    "custom_words_toadd = ['apartment', 'new york', 'nyc',\n",
    "                      'bronx', 'brooklyn',\n",
    "                     'manhattan', 'queens', \n",
    "                      'staten island']\n",
    "\n",
    "list_stopwords_new = list_stopwords + custom_words_toadd"
   ]
  },
  {
   "cell_type": "markdown",
   "metadata": {},
   "source": [
    "## 1.2 Remove stopwords from lowercase version of corpus\n"
   ]
  },
  {
   "cell_type": "code",
   "execution_count": 24,
   "metadata": {},
   "outputs": [
    {
     "data": {
      "text/plain": [
       "['clean & quiet apt home by the park',\n",
       " 'skylit midtown castle',\n",
       " 'the village of harlem....new york !',\n",
       " 'cozy entire floor of brownstone',\n",
       " 'entire apt: spacious studio/loft by central park']"
      ]
     },
     "execution_count": 24,
     "metadata": {},
     "output_type": "execute_result"
    },
    {
     "data": {
      "text/plain": [
       "['cozy', 'entire', 'floor', 'brownstone']"
      ]
     },
     "execution_count": 24,
     "metadata": {},
     "output_type": "execute_result"
    }
   ],
   "source": [
    "## convert to lowercase and a list\n",
    "corpus_lower = ab.name.str.lower().to_list()\n",
    "corpus_lower[0:5]\n",
    "\n",
    "## use wordpunct tokenize and filter out with one\n",
    "example_listing = corpus_lower[3]\n",
    "nostop_listing = [word for word in wordpunct_tokenize(example_listing) \n",
    "                          if word not in list_stopwords_new]\n",
    "nostop_listing"
   ]
  },
  {
   "cell_type": "markdown",
   "metadata": {},
   "source": [
    "## 1.3 stem and remove non-alpha\n",
    "\n",
    "Other contexts we may want to leave digits in"
   ]
  },
  {
   "cell_type": "code",
   "execution_count": 25,
   "metadata": {},
   "outputs": [
    {
     "data": {
      "text/plain": [
       "['cozi', 'entir', 'floor', 'brownston']"
      ]
     },
     "execution_count": 25,
     "metadata": {},
     "output_type": "execute_result"
    }
   ],
   "source": [
    "## initialize stemmer\n",
    "porter = PorterStemmer()\n",
    "\n",
    "## apply to one by iterating\n",
    "## over the tokens in the list\n",
    "example_listing_preprocess = [porter.stem(token) \n",
    "                            for token in nostop_listing \n",
    "                            if token.isalpha() and \n",
    "                            len(token) > 2]\n",
    "\n",
    "example_listing_preprocess"
   ]
  },
  {
   "cell_type": "code",
   "execution_count": 26,
   "metadata": {},
   "outputs": [
    {
     "data": {
      "text/plain": [
       "'cozy entire floor of brownstone'"
      ]
     },
     "execution_count": 26,
     "metadata": {},
     "output_type": "execute_result"
    },
    {
     "data": {
      "text/plain": [
       "['cozi', 'entir', 'floor', 'brownston']"
      ]
     },
     "execution_count": 26,
     "metadata": {},
     "output_type": "execute_result"
    }
   ],
   "source": [
    "example_listing\n",
    "example_listing_preprocess"
   ]
  },
  {
   "cell_type": "markdown",
   "metadata": {},
   "source": [
    "## 1.4 Activity 1\n",
    "\n",
    "The above example performed preprocessing on a single Airbnb listing. We want to generalize this preprocessing across all listings.\n",
    "\n",
    "- Embed step two (remove stopwords) and step three (stem) into one or two functions that take in a raw string (eg the raw text of an Airbnb review) and return a preprocessed string \n",
    "- Apply the function iteratively to preprocess all the texts in `corpus_lower`. Output could either be a list where each list element is a string of a list (e.g., `cozy brownstone apt`), or a list of lists where each element is a tokenized string (e.g., `['cozy', 'brownstone', 'apt'])`\n",
    "\n",
    "Output is flexible: it could be a list of lists containing tokenized/stemmed text or a list of strings."
   ]
  },
  {
   "cell_type": "code",
   "execution_count": 27,
   "metadata": {},
   "outputs": [],
   "source": [
    "# your code here to define the function(s)\n",
    "\n",
    "# your code here to apply the function"
   ]
  },
  {
   "cell_type": "markdown",
   "metadata": {},
   "source": [
    "# 2. Create a document-term matrix and do some basic diagnostics (more manual approach)\n",
    "\n",
    "Here we'll create a DTM first using the raw documents; in the activity, you'll create one using the preprocessed docs\n",
    "that you created in activity 1"
   ]
  },
  {
   "cell_type": "markdown",
   "metadata": {},
   "source": [
    "## 2.1 Define the dtm function and select data to transform into a document-term matrix"
   ]
  },
  {
   "cell_type": "code",
   "execution_count": 28,
   "metadata": {},
   "outputs": [],
   "source": [
    "## function provided\n",
    "def create_dtm(list_of_strings, metadata):\n",
    "    \"\"\" \n",
    "    Function to create dense document-term matrix (DTM) from a list of strings and provided metadata. \n",
    "    A sparse DTM is a list of term_index/doc_index tuples: if a given term occurs in a given doc at least once, \n",
    "        then this count is listed as a tuple; if not, that term/doc pair is omitted. \n",
    "    In a dense DTM, each row is one text (e.g., an Airbnb listing), each column is a term, and \n",
    "        each cell indicates the frequency of that word in that text. \n",
    "    \n",
    "    Parameters:\n",
    "        list_of_strings (Series): each row contains a preprocessed string (need not be tokenized)\n",
    "        metadata (DataFrame): contains document-level covariates\n",
    "    \n",
    "    Returns:\n",
    "        Dense DTM with metadata on left and then one column per word in lexicon\n",
    "    \"\"\"\n",
    "    \n",
    "    # initialize a sklearn tokenizer; this helps us tokenize the preprocessed string input\n",
    "    vectorizer = CountVectorizer(lowercase = True) \n",
    "    dtm_sparse = vectorizer.fit_transform(list_of_strings)\n",
    "    print('Sparse matrix form:\\n', dtm_sparse[:3]) # take a look at sparse representation\n",
    "    print()\n",
    "    \n",
    "    # switch the dataframe from the sparse representation to the normal dense representation (so we can treat it as regular dataframe)\n",
    "    dtm_dense_named = pd.DataFrame(dtm_sparse.todense(), columns=vectorizer.get_feature_names_out ())\n",
    "    print('Dense matrix form:\\n', dtm_dense_named.head()) # take a look at dense representation\n",
    "    dtm_dense_named_withid = pd.concat([metadata.reset_index(), dtm_dense_named], axis = 1) # add back document-level covariates\n",
    "\n",
    "    return(dtm_dense_named_withid)"
   ]
  },
  {
   "cell_type": "code",
   "execution_count": 29,
   "metadata": {},
   "outputs": [
    {
     "data": {
      "text/html": [
       "<div>\n",
       "<style scoped>\n",
       "    .dataframe tbody tr th:only-of-type {\n",
       "        vertical-align: middle;\n",
       "    }\n",
       "\n",
       "    .dataframe tbody tr th {\n",
       "        vertical-align: top;\n",
       "    }\n",
       "\n",
       "    .dataframe thead th {\n",
       "        text-align: right;\n",
       "    }\n",
       "</style>\n",
       "<table border=\"1\" class=\"dataframe\">\n",
       "  <thead>\n",
       "    <tr style=\"text-align: right;\">\n",
       "      <th></th>\n",
       "      <th>id</th>\n",
       "      <th>neighbourhood_group</th>\n",
       "      <th>price_rawdata</th>\n",
       "      <th>name</th>\n",
       "      <th>name_lower</th>\n",
       "    </tr>\n",
       "  </thead>\n",
       "  <tbody>\n",
       "    <tr>\n",
       "      <th>23821</th>\n",
       "      <td>19227560</td>\n",
       "      <td>Queens</td>\n",
       "      <td>100</td>\n",
       "      <td>Super Cozy!</td>\n",
       "      <td>super cozy!</td>\n",
       "    </tr>\n",
       "    <tr>\n",
       "      <th>22905</th>\n",
       "      <td>18560625</td>\n",
       "      <td>Brooklyn</td>\n",
       "      <td>30</td>\n",
       "      <td>Beautiful Private Bedroom by Prospect Park</td>\n",
       "      <td>beautiful private bedroom by prospect park</td>\n",
       "    </tr>\n",
       "    <tr>\n",
       "      <th>20426</th>\n",
       "      <td>16289576</td>\n",
       "      <td>Manhattan</td>\n",
       "      <td>80</td>\n",
       "      <td>Best Location on the Upper West Side! - Part II</td>\n",
       "      <td>best location on the upper west side! - part ii</td>\n",
       "    </tr>\n",
       "    <tr>\n",
       "      <th>2018</th>\n",
       "      <td>893413</td>\n",
       "      <td>Manhattan</td>\n",
       "      <td>2500</td>\n",
       "      <td>Architecturally Stunning Former Synagogue!</td>\n",
       "      <td>architecturally stunning former synagogue!</td>\n",
       "    </tr>\n",
       "    <tr>\n",
       "      <th>18790</th>\n",
       "      <td>14882137</td>\n",
       "      <td>Queens</td>\n",
       "      <td>50</td>\n",
       "      <td>Large, beautiful room near Bushwick</td>\n",
       "      <td>large, beautiful room near bushwick</td>\n",
       "    </tr>\n",
       "  </tbody>\n",
       "</table>\n",
       "</div>"
      ],
      "text/plain": [
       "             id neighbourhood_group  price_rawdata  \\\n",
       "23821  19227560              Queens            100   \n",
       "22905  18560625            Brooklyn             30   \n",
       "20426  16289576           Manhattan             80   \n",
       "2018     893413           Manhattan           2500   \n",
       "18790  14882137              Queens             50   \n",
       "\n",
       "                                                  name  \\\n",
       "23821                                      Super Cozy!   \n",
       "22905       Beautiful Private Bedroom by Prospect Park   \n",
       "20426  Best Location on the Upper West Side! - Part II   \n",
       "2018        Architecturally Stunning Former Synagogue!   \n",
       "18790              Large, beautiful room near Bushwick   \n",
       "\n",
       "                                            name_lower  \n",
       "23821                                      super cozy!  \n",
       "22905       beautiful private bedroom by prospect park  \n",
       "20426  best location on the upper west side! - part ii  \n",
       "2018        architecturally stunning former synagogue!  \n",
       "18790              large, beautiful room near bushwick  "
      ]
     },
     "execution_count": 29,
     "metadata": {},
     "output_type": "execute_result"
    }
   ],
   "source": [
    "\n",
    "## filter out na's\n",
    "## for shorter runtime, random sampling of 1000\n",
    "## get metadata for those\n",
    "## and also renaming price col since it's likely to be corpus word\n",
    "ab_small = ab.loc[~ab.name.isnull(),\n",
    "           ['id', 'neighbourhood_group', 'price', 'name']].copy().rename(columns = {'price':\n",
    "            'price_rawdata'}).sample(n = 1000, random_state = 422)\n",
    "\n",
    "ab_small['name_lower'] = ab_small['name'].str.lower()\n",
    "ab_small.head()"
   ]
  },
  {
   "cell_type": "markdown",
   "metadata": {},
   "source": [
    "## 2.2 Execute the dtm function to create the document-term matrix"
   ]
  },
  {
   "cell_type": "code",
   "execution_count": 39,
   "metadata": {
    "scrolled": true
   },
   "outputs": [
    {
     "name": "stdout",
     "output_type": "stream",
     "text": [
      "Sparse matrix form:\n",
      "   (0, 841)\t1\n",
      "  (0, 281)\t1\n",
      "  (1, 152)\t1\n",
      "  (1, 693)\t1\n",
      "  (1, 157)\t1\n",
      "  (1, 205)\t1\n",
      "  (1, 698)\t1\n",
      "  (1, 653)\t1\n",
      "  (2, 165)\t1\n",
      "  (2, 537)\t1\n",
      "  (2, 637)\t1\n",
      "  (2, 856)\t1\n",
      "  (2, 902)\t1\n",
      "  (2, 939)\t1\n",
      "  (2, 774)\t1\n",
      "  (2, 657)\t1\n",
      "  (2, 471)\t1\n",
      "\n",
      "Dense matrix form:\n",
      "    001  10  10m  10min  10mins  1100  12mins  14  15  15min  ...  yoga  york  \\\n",
      "0    0   0    0      0       0     0       0   0   0      0  ...     0     0   \n",
      "1    0   0    0      0       0     0       0   0   0      0  ...     0     0   \n",
      "2    0   0    0      0       0     0       0   0   0      0  ...     0     0   \n",
      "3    0   0    0      0       0     0       0   0   0      0  ...     0     0   \n",
      "4    0   0    0      0       0     0       0   0   0      0  ...     0     0   \n",
      "\n",
      "   you  your  yu  zen  ღღღsteps  法拉盛中心私人房間獨立衛浴  溫馨大套房  獨一無二的紐約閣樓  \n",
      "0    0     0   0    0         0              0      0          0  \n",
      "1    0     0   0    0         0              0      0          0  \n",
      "2    0     0   0    0         0              0      0          0  \n",
      "3    0     0   0    0         0              0      0          0  \n",
      "4    0     0   0    0         0              0      0          0  \n",
      "\n",
      "[5 rows x 970 columns]\n"
     ]
    }
   ],
   "source": [
    "## example application on raw lowercase texts; \n",
    "dtm_nopre = create_dtm(list_of_strings= ab_small.name_lower,\n",
    "                      metadata = ab_small[['id', 'neighbourhood_group', 'price_rawdata']])"
   ]
  },
  {
   "cell_type": "code",
   "execution_count": 31,
   "metadata": {},
   "outputs": [
    {
     "data": {
      "text/html": [
       "<div>\n",
       "<style scoped>\n",
       "    .dataframe tbody tr th:only-of-type {\n",
       "        vertical-align: middle;\n",
       "    }\n",
       "\n",
       "    .dataframe tbody tr th {\n",
       "        vertical-align: top;\n",
       "    }\n",
       "\n",
       "    .dataframe thead th {\n",
       "        text-align: right;\n",
       "    }\n",
       "</style>\n",
       "<table border=\"1\" class=\"dataframe\">\n",
       "  <thead>\n",
       "    <tr style=\"text-align: right;\">\n",
       "      <th></th>\n",
       "      <th>index</th>\n",
       "      <th>id</th>\n",
       "      <th>neighbourhood_group</th>\n",
       "      <th>price_rawdata</th>\n",
       "      <th>001</th>\n",
       "      <th>10</th>\n",
       "      <th>10m</th>\n",
       "      <th>10min</th>\n",
       "      <th>10mins</th>\n",
       "      <th>1100</th>\n",
       "      <th>...</th>\n",
       "      <th>yoga</th>\n",
       "      <th>york</th>\n",
       "      <th>you</th>\n",
       "      <th>your</th>\n",
       "      <th>yu</th>\n",
       "      <th>zen</th>\n",
       "      <th>ღღღsteps</th>\n",
       "      <th>法拉盛中心私人房間獨立衛浴</th>\n",
       "      <th>溫馨大套房</th>\n",
       "      <th>獨一無二的紐約閣樓</th>\n",
       "    </tr>\n",
       "  </thead>\n",
       "  <tbody>\n",
       "    <tr>\n",
       "      <th>0</th>\n",
       "      <td>23821</td>\n",
       "      <td>19227560</td>\n",
       "      <td>Queens</td>\n",
       "      <td>100</td>\n",
       "      <td>0</td>\n",
       "      <td>0</td>\n",
       "      <td>0</td>\n",
       "      <td>0</td>\n",
       "      <td>0</td>\n",
       "      <td>0</td>\n",
       "      <td>...</td>\n",
       "      <td>0</td>\n",
       "      <td>0</td>\n",
       "      <td>0</td>\n",
       "      <td>0</td>\n",
       "      <td>0</td>\n",
       "      <td>0</td>\n",
       "      <td>0</td>\n",
       "      <td>0</td>\n",
       "      <td>0</td>\n",
       "      <td>0</td>\n",
       "    </tr>\n",
       "    <tr>\n",
       "      <th>1</th>\n",
       "      <td>22905</td>\n",
       "      <td>18560625</td>\n",
       "      <td>Brooklyn</td>\n",
       "      <td>30</td>\n",
       "      <td>0</td>\n",
       "      <td>0</td>\n",
       "      <td>0</td>\n",
       "      <td>0</td>\n",
       "      <td>0</td>\n",
       "      <td>0</td>\n",
       "      <td>...</td>\n",
       "      <td>0</td>\n",
       "      <td>0</td>\n",
       "      <td>0</td>\n",
       "      <td>0</td>\n",
       "      <td>0</td>\n",
       "      <td>0</td>\n",
       "      <td>0</td>\n",
       "      <td>0</td>\n",
       "      <td>0</td>\n",
       "      <td>0</td>\n",
       "    </tr>\n",
       "    <tr>\n",
       "      <th>2</th>\n",
       "      <td>20426</td>\n",
       "      <td>16289576</td>\n",
       "      <td>Manhattan</td>\n",
       "      <td>80</td>\n",
       "      <td>0</td>\n",
       "      <td>0</td>\n",
       "      <td>0</td>\n",
       "      <td>0</td>\n",
       "      <td>0</td>\n",
       "      <td>0</td>\n",
       "      <td>...</td>\n",
       "      <td>0</td>\n",
       "      <td>0</td>\n",
       "      <td>0</td>\n",
       "      <td>0</td>\n",
       "      <td>0</td>\n",
       "      <td>0</td>\n",
       "      <td>0</td>\n",
       "      <td>0</td>\n",
       "      <td>0</td>\n",
       "      <td>0</td>\n",
       "    </tr>\n",
       "    <tr>\n",
       "      <th>3</th>\n",
       "      <td>2018</td>\n",
       "      <td>893413</td>\n",
       "      <td>Manhattan</td>\n",
       "      <td>2500</td>\n",
       "      <td>0</td>\n",
       "      <td>0</td>\n",
       "      <td>0</td>\n",
       "      <td>0</td>\n",
       "      <td>0</td>\n",
       "      <td>0</td>\n",
       "      <td>...</td>\n",
       "      <td>0</td>\n",
       "      <td>0</td>\n",
       "      <td>0</td>\n",
       "      <td>0</td>\n",
       "      <td>0</td>\n",
       "      <td>0</td>\n",
       "      <td>0</td>\n",
       "      <td>0</td>\n",
       "      <td>0</td>\n",
       "      <td>0</td>\n",
       "    </tr>\n",
       "    <tr>\n",
       "      <th>4</th>\n",
       "      <td>18790</td>\n",
       "      <td>14882137</td>\n",
       "      <td>Queens</td>\n",
       "      <td>50</td>\n",
       "      <td>0</td>\n",
       "      <td>0</td>\n",
       "      <td>0</td>\n",
       "      <td>0</td>\n",
       "      <td>0</td>\n",
       "      <td>0</td>\n",
       "      <td>...</td>\n",
       "      <td>0</td>\n",
       "      <td>0</td>\n",
       "      <td>0</td>\n",
       "      <td>0</td>\n",
       "      <td>0</td>\n",
       "      <td>0</td>\n",
       "      <td>0</td>\n",
       "      <td>0</td>\n",
       "      <td>0</td>\n",
       "      <td>0</td>\n",
       "    </tr>\n",
       "  </tbody>\n",
       "</table>\n",
       "<p>5 rows × 974 columns</p>\n",
       "</div>"
      ],
      "text/plain": [
       "   index        id neighbourhood_group  price_rawdata  001  10  10m  10min  \\\n",
       "0  23821  19227560              Queens            100    0   0    0      0   \n",
       "1  22905  18560625            Brooklyn             30    0   0    0      0   \n",
       "2  20426  16289576           Manhattan             80    0   0    0      0   \n",
       "3   2018    893413           Manhattan           2500    0   0    0      0   \n",
       "4  18790  14882137              Queens             50    0   0    0      0   \n",
       "\n",
       "   10mins  1100  ...  yoga  york  you  your  yu  zen  ღღღsteps  法拉盛中心私人房間獨立衛浴  \\\n",
       "0       0     0  ...     0     0    0     0   0    0         0              0   \n",
       "1       0     0  ...     0     0    0     0   0    0         0              0   \n",
       "2       0     0  ...     0     0    0     0   0    0         0              0   \n",
       "3       0     0  ...     0     0    0     0   0    0         0              0   \n",
       "4       0     0  ...     0     0    0     0   0    0         0              0   \n",
       "\n",
       "   溫馨大套房  獨一無二的紐約閣樓  \n",
       "0      0          0  \n",
       "1      0          0  \n",
       "2      0          0  \n",
       "3      0          0  \n",
       "4      0          0  \n",
       "\n",
       "[5 rows x 974 columns]"
      ]
     },
     "execution_count": 31,
     "metadata": {},
     "output_type": "execute_result"
    },
    {
     "data": {
      "text/plain": [
       "(1000, 974)"
      ]
     },
     "execution_count": 31,
     "metadata": {},
     "output_type": "execute_result"
    },
    {
     "data": {
      "text/html": [
       "<div>\n",
       "<style scoped>\n",
       "    .dataframe tbody tr th:only-of-type {\n",
       "        vertical-align: middle;\n",
       "    }\n",
       "\n",
       "    .dataframe tbody tr th {\n",
       "        vertical-align: top;\n",
       "    }\n",
       "\n",
       "    .dataframe thead th {\n",
       "        text-align: right;\n",
       "    }\n",
       "</style>\n",
       "<table border=\"1\" class=\"dataframe\">\n",
       "  <thead>\n",
       "    <tr style=\"text-align: right;\">\n",
       "      <th></th>\n",
       "      <th>inclusive</th>\n",
       "      <th>incredible</th>\n",
       "      <th>incredibly</th>\n",
       "      <th>indoor</th>\n",
       "      <th>inn</th>\n",
       "      <th>inq</th>\n",
       "      <th>insane</th>\n",
       "      <th>int</th>\n",
       "      <th>interior</th>\n",
       "      <th>international</th>\n",
       "      <th>interns</th>\n",
       "      <th>invincible</th>\n",
       "      <th>inviting</th>\n",
       "      <th>inwood</th>\n",
       "      <th>island</th>\n",
       "      <th>it</th>\n",
       "      <th>italy</th>\n",
       "      <th>its</th>\n",
       "      <th>jefferson</th>\n",
       "      <th>jewel</th>\n",
       "    </tr>\n",
       "  </thead>\n",
       "  <tbody>\n",
       "    <tr>\n",
       "      <th>0</th>\n",
       "      <td>0</td>\n",
       "      <td>0</td>\n",
       "      <td>0</td>\n",
       "      <td>0</td>\n",
       "      <td>0</td>\n",
       "      <td>0</td>\n",
       "      <td>0</td>\n",
       "      <td>0</td>\n",
       "      <td>0</td>\n",
       "      <td>0</td>\n",
       "      <td>0</td>\n",
       "      <td>0</td>\n",
       "      <td>0</td>\n",
       "      <td>0</td>\n",
       "      <td>0</td>\n",
       "      <td>0</td>\n",
       "      <td>0</td>\n",
       "      <td>0</td>\n",
       "      <td>0</td>\n",
       "      <td>0</td>\n",
       "    </tr>\n",
       "    <tr>\n",
       "      <th>1</th>\n",
       "      <td>0</td>\n",
       "      <td>0</td>\n",
       "      <td>0</td>\n",
       "      <td>0</td>\n",
       "      <td>0</td>\n",
       "      <td>0</td>\n",
       "      <td>0</td>\n",
       "      <td>0</td>\n",
       "      <td>0</td>\n",
       "      <td>0</td>\n",
       "      <td>0</td>\n",
       "      <td>0</td>\n",
       "      <td>0</td>\n",
       "      <td>0</td>\n",
       "      <td>0</td>\n",
       "      <td>0</td>\n",
       "      <td>0</td>\n",
       "      <td>0</td>\n",
       "      <td>0</td>\n",
       "      <td>0</td>\n",
       "    </tr>\n",
       "    <tr>\n",
       "      <th>2</th>\n",
       "      <td>0</td>\n",
       "      <td>0</td>\n",
       "      <td>0</td>\n",
       "      <td>0</td>\n",
       "      <td>0</td>\n",
       "      <td>0</td>\n",
       "      <td>0</td>\n",
       "      <td>0</td>\n",
       "      <td>0</td>\n",
       "      <td>0</td>\n",
       "      <td>0</td>\n",
       "      <td>0</td>\n",
       "      <td>0</td>\n",
       "      <td>0</td>\n",
       "      <td>0</td>\n",
       "      <td>0</td>\n",
       "      <td>0</td>\n",
       "      <td>0</td>\n",
       "      <td>0</td>\n",
       "      <td>0</td>\n",
       "    </tr>\n",
       "    <tr>\n",
       "      <th>3</th>\n",
       "      <td>0</td>\n",
       "      <td>0</td>\n",
       "      <td>0</td>\n",
       "      <td>0</td>\n",
       "      <td>0</td>\n",
       "      <td>0</td>\n",
       "      <td>0</td>\n",
       "      <td>0</td>\n",
       "      <td>0</td>\n",
       "      <td>0</td>\n",
       "      <td>0</td>\n",
       "      <td>0</td>\n",
       "      <td>0</td>\n",
       "      <td>0</td>\n",
       "      <td>0</td>\n",
       "      <td>0</td>\n",
       "      <td>0</td>\n",
       "      <td>0</td>\n",
       "      <td>0</td>\n",
       "      <td>0</td>\n",
       "    </tr>\n",
       "    <tr>\n",
       "      <th>4</th>\n",
       "      <td>0</td>\n",
       "      <td>0</td>\n",
       "      <td>0</td>\n",
       "      <td>0</td>\n",
       "      <td>0</td>\n",
       "      <td>0</td>\n",
       "      <td>0</td>\n",
       "      <td>0</td>\n",
       "      <td>0</td>\n",
       "      <td>0</td>\n",
       "      <td>0</td>\n",
       "      <td>0</td>\n",
       "      <td>0</td>\n",
       "      <td>0</td>\n",
       "      <td>0</td>\n",
       "      <td>0</td>\n",
       "      <td>0</td>\n",
       "      <td>0</td>\n",
       "      <td>0</td>\n",
       "      <td>0</td>\n",
       "    </tr>\n",
       "  </tbody>\n",
       "</table>\n",
       "</div>"
      ],
      "text/plain": [
       "   inclusive  incredible  incredibly  indoor  inn  inq  insane  int  interior  \\\n",
       "0          0           0           0       0    0    0       0    0         0   \n",
       "1          0           0           0       0    0    0       0    0         0   \n",
       "2          0           0           0       0    0    0       0    0         0   \n",
       "3          0           0           0       0    0    0       0    0         0   \n",
       "4          0           0           0       0    0    0       0    0         0   \n",
       "\n",
       "   international  interns  invincible  inviting  inwood  island  it  italy  \\\n",
       "0              0        0           0         0       0       0   0      0   \n",
       "1              0        0           0         0       0       0   0      0   \n",
       "2              0        0           0         0       0       0   0      0   \n",
       "3              0        0           0         0       0       0   0      0   \n",
       "4              0        0           0         0       0       0   0      0   \n",
       "\n",
       "   its  jefferson  jewel  \n",
       "0    0          0      0  \n",
       "1    0          0      0  \n",
       "2    0          0      0  \n",
       "3    0          0      0  \n",
       "4    0          0      0  "
      ]
     },
     "execution_count": 31,
     "metadata": {},
     "output_type": "execute_result"
    }
   ],
   "source": [
    "## show first set of rows/cols\n",
    "dtm_nopre.head()\n",
    "\n",
    "## show arbitrary later cols in resulting data\n",
    "dtm_nopre.shape\n",
    "dtm_nopre.iloc[0:5, 480:500]"
   ]
  },
  {
   "cell_type": "markdown",
   "metadata": {},
   "source": [
    "## 2.3 Use that matrix/column sums to get basic summary stats of top words"
   ]
  },
  {
   "cell_type": "code",
   "execution_count": 32,
   "metadata": {},
   "outputs": [
    {
     "data": {
      "text/plain": [
       "in           367\n",
       "room         244\n",
       "private      163\n",
       "bedroom      152\n",
       "apartment    130\n",
       "            ... \n",
       "gay            1\n",
       "gente          1\n",
       "geodesic       1\n",
       "george         1\n",
       "獨一無二的紐約閣樓      1\n",
       "Length: 970, dtype: int64"
      ]
     },
     "execution_count": 32,
     "metadata": {},
     "output_type": "execute_result"
    }
   ],
   "source": [
    "## summing each col\n",
    "top_terms = dtm_nopre[dtm_nopre.columns[4:]].sum(axis = 0)\n",
    "\n",
    "## sorting from most frequent to least frequent\n",
    "top_terms.sort_values(ascending = False)"
   ]
  },
  {
   "cell_type": "markdown",
   "metadata": {},
   "source": [
    "## 2.4 Activity 2: repeat the above but using the preprocessed text data\n",
    "\n",
    "- Stick with the same random sample of 1000 `ab_small`\n",
    "- Apply the preprocessing steps from activity 1 to create a new column in `ab_small` with the preprocessed text (if you got stuck on that, try just removing stopwords)\n",
    "- Use the `create_dtm` function to create a document-term matrix from the preprocessed data\n",
    "- Use colsums to summarize"
   ]
  },
  {
   "cell_type": "code",
   "execution_count": 33,
   "metadata": {},
   "outputs": [],
   "source": [
    "## your code here \n"
   ]
  },
  {
   "cell_type": "markdown",
   "metadata": {},
   "source": [
    "# 3. Use gensim to more automatically preprocess/estimate a topic model"
   ]
  },
  {
   "cell_type": "markdown",
   "metadata": {},
   "source": [
    "## 3.1 Creating the objects to feed the LDA modeling function\n",
    "\n",
    "Different outputs described below: \n",
    "- Tokenized and preprocessed text \n",
    "- Dictionary \n",
    "- Corpus "
   ]
  },
  {
   "cell_type": "code",
   "execution_count": 34,
   "metadata": {},
   "outputs": [
    {
     "data": {
      "text/plain": [
       "{0: '!', 1: 'cozy', 2: 'super', 3: 'beautiful', 4: 'bedroom'}"
      ]
     },
     "execution_count": 34,
     "metadata": {},
     "output_type": "execute_result"
    },
    {
     "name": "stdout",
     "output_type": "stream",
     "text": [
      "Filtering out very rare and very common words reduced the length of dictionary from 1047 to 31.\n"
     ]
    },
    {
     "data": {
      "text/plain": [
       "{0: '!', 1: 'cozy', 2: 'beautiful', 3: 'bedroom', 4: 'park'}"
      ]
     },
     "execution_count": 34,
     "metadata": {},
     "output_type": "execute_result"
    },
    {
     "name": "stdout",
     "output_type": "stream",
     "text": [
      "Sample of documents represented in dictionary format (with omitted words noted):\n"
     ]
    },
    {
     "data": {
      "text/plain": [
       "[([(0, 1), (1, 1)], {'super': 1}),\n",
       " ([(2, 1), (3, 1), (4, 1), (5, 1)], {'by': 1, 'prospect': 1}),\n",
       " ([(0, 1), (6, 1), (7, 1)],\n",
       "  {'best': 1,\n",
       "   'ii': 1,\n",
       "   'location': 1,\n",
       "   'on': 1,\n",
       "   'part': 1,\n",
       "   'side': 1,\n",
       "   'upper': 1,\n",
       "   'west': 1}),\n",
       " ([(0, 1)],\n",
       "  {'architecturally': 1, 'former': 1, 'stunning': 1, 'synagogue': 1}),\n",
       " ([(2, 1), (8, 1), (9, 1), (10, 1), (11, 1)], {'bushwick': 1}),\n",
       " ([(4, 1), (8, 1), (9, 1), (12, 1), (13, 2)],\n",
       "  {'bath': 1, 'bed': 1, 'by': 1, 'central': 1, 'college': 1, 'hunter': 1}),\n",
       " ([(9, 1), (11, 1), (14, 1), (15, 1)], {'bohemian': 1, 'brownstone': 1}),\n",
       " ([(16, 1)],\n",
       "  {'fidi': 1, 'huge': 1, 'loft': 1, 'views': 1, 'w': 1, 'water': 1}),\n",
       " ([], {'hillside': 1, 'hotel': 1}),\n",
       " ([(5, 1), (9, 1), (11, 1), (14, 1), (15, 1)], {'airy': 1})]"
      ]
     },
     "execution_count": 34,
     "metadata": {},
     "output_type": "execute_result"
    }
   ],
   "source": [
    "\n",
    "## Step 1: re-tokenize and store in list\n",
    "## here, i'm doing with the raw random sample of text\n",
    "## in activity, you should do with the preprocessed texts\n",
    "text_raw_tokens = [wordpunct_tokenize(one_text) for one_text in \n",
    "                  ab_small.name_lower]\n",
    "\n",
    "\n",
    "## Step 2: use gensim create dictionary - gets all unique words across documents\n",
    "text_raw_dict = corpora.Dictionary(text_raw_tokens)\n",
    "raw_len = len(text_raw_dict) # get length for comparison below\n",
    "\n",
    "### explore first few keys and values\n",
    "### see that key is just an arbitrary counter; value is the word itself\n",
    "{k: text_raw_dict[k] for k in list(text_raw_dict)[:5]}\n",
    "\n",
    "\n",
    "## Step 3: filter out very rare and very common words\n",
    "## here, i'm using the threshold that a word needs to appear in at least\n",
    "## 5% of docs but not more than 95%\n",
    "## this is an integer count of docs so i round\n",
    "lower_bound = round(ab_small.shape[0]*0.05)\n",
    "upper_bound = round(ab_small.shape[0]*0.95)\n",
    "\n",
    "### apply filtering to dictionary\n",
    "text_raw_dict.filter_extremes(no_below = lower_bound,\n",
    "                             no_above = upper_bound)\n",
    "print(f'Filtering out very rare and very common words reduced the \\\n",
    "length of dictionary from {str(raw_len)} to {str(len(text_raw_dict))}.')\n",
    "{k: text_raw_dict[k] for k in list(text_raw_dict)[:5]} # show first five entries after filtering\n",
    "\n",
    "\n",
    "## Step 4: apply dictionary to TOKENIZED texts\n",
    "## this creates a mapping between each word \n",
    "## in a specific listing and the key in the dictionary.\n",
    "## for words that remain in the filtered dictionary,\n",
    "## output is a list where len(list) == n documents\n",
    "## and each element in the list is a list of tuples\n",
    "## containing the mappings\n",
    "corpus_fromdict = [text_raw_dict.doc2bow(one_text) \n",
    "                   for one_text in text_raw_tokens]\n",
    "\n",
    "### can apply doc2bow(one_text, return_missing = True) to print words\n",
    "### eliminated from the listing bc they're not in filtered dictionary.\n",
    "### but feeding that one with missing values to\n",
    "### the lda function can cause errors\n",
    "corpus_fromdict_showmiss = [text_raw_dict.doc2bow(one_text, return_missing = True)\n",
    "                            for one_text in text_raw_tokens]\n",
    "print('Sample of documents represented in dictionary format (with omitted words noted):')\n",
    "corpus_fromdict_showmiss[:10]"
   ]
  },
  {
   "cell_type": "markdown",
   "metadata": {},
   "source": [
    "##  3.2 Estimating the model"
   ]
  },
  {
   "cell_type": "code",
   "execution_count": 35,
   "metadata": {},
   "outputs": [
    {
     "name": "stdout",
     "output_type": "stream",
     "text": [
      "<class 'gensim.models.ldamodel.LdaModel'>\n"
     ]
    }
   ],
   "source": [
    "## Step 5: we're finally ready to estimate the model!\n",
    "## full documentation here - https://radimrehurek.com/gensim/models/ldamodel.html\n",
    "## here, we're feeding the lda function:\n",
    "## (1) the corpus we created from the dictionary,\n",
    "## (2) a parameter we decide on for the number of topics (k),\n",
    "## (3) the dictionary itself,\n",
    "## (4) parameter for number of passes through training data (more means slower), and\n",
    "## (5) parameter that returns, for each word remaining in dict, the topic probabilities.\n",
    "## see documentation for many other arguments you can vary\n",
    "ldamod = gensim.models.ldamodel.LdaModel(corpus_fromdict, \n",
    "                                         num_topics = 5, \n",
    "                                         id2word=text_raw_dict, \n",
    "                                         passes=6, \n",
    "                                         alpha = 'auto',\n",
    "                                         per_word_topics = True)\n",
    "\n",
    "print(type(ldamod))\n",
    "\n"
   ]
  },
  {
   "cell_type": "markdown",
   "metadata": {},
   "source": [
    "## 3.3  Seeing what topics the estimated model discovers"
   ]
  },
  {
   "cell_type": "code",
   "execution_count": 36,
   "metadata": {},
   "outputs": [
    {
     "name": "stdout",
     "output_type": "stream",
     "text": [
      "(0, '0.213*\"in\" + 0.119*\"bedroom\" + 0.113*\"apartment\" + 0.084*\"brooklyn\" + 0.048*\"cozy\" + 0.045*\"2\" + 0.044*\"the\" + 0.042*\"williamsburg\" + 0.041*\"beautiful\" + 0.035*\"room\"')\n",
      "(1, '0.126*\"in\" + 0.126*\"room\" + 0.093*\"to\" + 0.090*\"manhattan\" + 0.072*\"park\" + 0.063*\"studio\" + 0.063*\"apt\" + 0.055*\"near\" + 0.047*\"/\" + 0.033*\"large\"')\n",
      "(2, '0.310*\"-\" + 0.154*\"1\" + 0.099*\"east\" + 0.079*\"/\" + 0.053*\"apt\" + 0.047*\"2\" + 0.038*\"apartment\" + 0.036*\",\" + 0.030*\"studio\" + 0.023*\"bedroom\"')\n",
      "(3, '0.193*\"!\" + 0.140*\"with\" + 0.115*\"private\" + 0.081*\"room\" + 0.071*\"and\" + 0.057*\"the\" + 0.046*\"&\" + 0.035*\"bedroom\" + 0.033*\"of\" + 0.033*\"sunny\"')\n",
      "(4, '0.253*\",\" + 0.109*\"room\" + 0.106*\"spacious\" + 0.097*\"private\" + 0.089*\"in\" + 0.059*\".\" + 0.041*\"cozy\" + 0.029*\"and\" + 0.023*\"&\" + 0.022*\"/\"')\n"
     ]
    }
   ],
   "source": [
    "## Post-model 1: explore corpus-wide summary of topics\n",
    "### getting the topics and top words; can retrieve diff top words\n",
    "topics = ldamod.print_topics(num_words = 10)\n",
    "for topic in topics:\n",
    "    print(topic)\n"
   ]
  },
  {
   "cell_type": "code",
   "execution_count": 37,
   "metadata": {},
   "outputs": [
    {
     "data": {
      "text/plain": [
       "[['super', 'cozy', '!'],\n",
       " ['beautiful', 'private', 'bedroom', 'by', 'prospect', 'park'],\n",
       " ['best',\n",
       "  'location',\n",
       "  'on',\n",
       "  'the',\n",
       "  'upper',\n",
       "  'west',\n",
       "  'side',\n",
       "  '!',\n",
       "  '-',\n",
       "  'part',\n",
       "  'ii'],\n",
       " ['architecturally', 'stunning', 'former', 'synagogue', '!'],\n",
       " ['large', ',', 'beautiful', 'room', 'near', 'bushwick']]"
      ]
     },
     "execution_count": 37,
     "metadata": {},
     "output_type": "execute_result"
    },
    {
     "data": {
      "text/plain": [
       "[[(0, 0.4455488),\n",
       "  (1, 0.06517041),\n",
       "  (2, 0.045082394),\n",
       "  (3, 0.38709068),\n",
       "  (4, 0.057107694)],\n",
       " [(0, 0.63528067),\n",
       "  (1, 0.27784553),\n",
       "  (2, 0.026359107),\n",
       "  (3, 0.027004559),\n",
       "  (4, 0.033510093)],\n",
       " [(0, 0.058471292),\n",
       "  (1, 0.047553133),\n",
       "  (2, 0.29773298),\n",
       "  (3, 0.5544664),\n",
       "  (4, 0.041776218)],\n",
       " [(0, 0.12072296),\n",
       "  (1, 0.10011527),\n",
       "  (2, 0.06987888),\n",
       "  (3, 0.62151146),\n",
       "  (4, 0.08777141)],\n",
       " [(0, 0.03936959),\n",
       "  (1, 0.6792109),\n",
       "  (2, 0.02182899),\n",
       "  (3, 0.022283623),\n",
       "  (4, 0.2373069)]]"
      ]
     },
     "execution_count": 37,
     "metadata": {},
     "output_type": "execute_result"
    }
   ],
   "source": [
    "    \n",
    "## Post-model 2: explore topics associated with each document\n",
    "### for each item in our original dictionary, get list of topic probabilities\n",
    "l=[ldamod.get_document_topics(item) for item in corpus_fromdict]\n",
    "### print result\n",
    "text_raw_tokens[0:5]\n",
    "l[0:5]"
   ]
  },
  {
   "cell_type": "markdown",
   "metadata": {},
   "source": [
    "### Visualizing "
   ]
  },
  {
   "cell_type": "code",
   "execution_count": 38,
   "metadata": {},
   "outputs": [
    {
     "data": {
      "text/html": [
       "\n",
       "<link rel=\"stylesheet\" type=\"text/css\" href=\"https://cdn.jsdelivr.net/gh/bmabey/pyLDAvis@3.4.0/pyLDAvis/js/ldavis.v1.0.0.css\">\n",
       "\n",
       "\n",
       "<div id=\"ldavis_el288535767460336480634390\" style=\"background-color:white;\"></div>\n",
       "<script type=\"text/javascript\">\n",
       "\n",
       "var ldavis_el288535767460336480634390_data = {\"mdsDat\": {\"x\": [-0.013493974480529804, 0.03211528973240368, 0.08374679904907319, 0.16326416373335478, -0.2656322780343018], \"y\": [-0.16906218440726542, -0.03622499346208019, -0.01552048976125332, 0.13717877959869706, 0.08362888803190212], \"topics\": [1, 2, 3, 4, 5], \"cluster\": [1, 1, 1, 1, 1], \"Freq\": [29.456700587386898, 23.076929487444588, 20.42908821870735, 14.040721382069604, 12.996560324391563]}, \"tinfo\": {\"Term\": [\"-\", \",\", \"!\", \"with\", \"1\", \"in\", \"spacious\", \"apartment\", \"east\", \"manhattan\", \"to\", \"private\", \"room\", \"brooklyn\", \"and\", \"bedroom\", \"park\", \"the\", \"/\", \"apt\", \"near\", \".\", \"studio\", \"2\", \"of\", \"&\", \"williamsburg\", \"large\", \"beautiful\", \"cozy\", \"brooklyn\", \"apartment\", \"bedroom\", \"beautiful\", \"williamsburg\", \"in\", \"of\", \"the\", \"2\", \"cozy\", \"large\", \"sunny\", \"&\", \"east\", \"park\", \"studio\", \"spacious\", \"room\", \"1\", \"private\", \"!\", \"/\", \"and\", \"apt\", \"-\", \"with\", \".\", \",\", \"to\", \"near\", \"manhattan\", \"manhattan\", \"to\", \"park\", \"near\", \"studio\", \"apt\", \"room\", \"large\", \"/\", \"williamsburg\", \".\", \"in\", \"sunny\", \"cozy\", \"beautiful\", \"2\", \"!\", \"private\", \"&\", \",\", \"1\", \"east\", \"the\", \"apartment\", \"bedroom\", \"and\", \"of\", \"spacious\", \"with\", \"-\", \"spacious\", \",\", \".\", \"private\", \"and\", \"room\", \"cozy\", \"&\", \"sunny\", \"in\", \"to\", \"of\", \"/\", \"beautiful\", \"1\", \"!\", \"the\", \"2\", \"brooklyn\", \"bedroom\", \"large\", \"apt\", \"-\", \"with\", \"williamsburg\", \"park\", \"east\", \"apartment\", \"manhattan\", \"near\", \"with\", \"!\", \"and\", \"&\", \"the\", \"private\", \"of\", \"sunny\", \"near\", \"room\", \"studio\", \".\", \"apt\", \"bedroom\", \"manhattan\", \"/\", \"brooklyn\", \"williamsburg\", \",\", \"2\", \"apartment\", \"cozy\", \"1\", \"-\", \"large\", \"to\", \"spacious\", \"east\", \"beautiful\", \"park\", \"in\", \"-\", \"east\", \"1\", \"/\", \"apt\", \"2\", \"large\", \"studio\", \"apartment\", \"sunny\", \",\", \"bedroom\", \"near\", \"cozy\", \"beautiful\", \"private\", \"park\", \"williamsburg\", \"&\", \"and\", \"to\", \"spacious\", \"!\", \"of\", \"manhattan\", \"room\", \"with\", \"the\", \".\", \"brooklyn\", \"in\"], \"Freq\": [142.0, 205.0, 132.0, 67.0, 88.0, 358.0, 85.0, 129.0, 54.0, 77.0, 86.0, 162.0, 239.0, 94.0, 58.0, 151.0, 69.0, 75.0, 99.0, 92.0, 55.0, 69.0, 86.0, 83.0, 58.0, 60.0, 66.0, 64.0, 58.0, 95.0, 79.8887014446386, 107.91075204209527, 113.29012749072591, 38.98547637328219, 40.03353544148112, 203.47090618140192, 32.34541954316633, 41.69022725875676, 43.20531896337944, 45.68842669955494, 25.768218888963798, 18.966814205892767, 16.704855570077896, 10.423131724155331, 11.286509789984237, 13.199974657245047, 12.182642589570348, 33.477136380172524, 9.174743808611485, 16.784783091684446, 11.121450349950129, 7.642816231260852, 4.362473896622627, 4.352788849132348, 4.805843721480147, 1.2772456827980418, 1.2479705063912647, 3.5572514331739944, 0.5275988932859401, 0.32363979144643323, 0.40580547248062765, 67.18607536798773, 69.57093192440125, 54.0669863344706, 41.17599338544329, 47.37937932660197, 46.75841087587309, 93.87554486289243, 24.783111833053717, 35.19393994914133, 20.397104472981912, 19.202331635676316, 94.32796123360839, 16.52104567818741, 16.513012361085096, 9.846693643537606, 12.927745722834388, 19.966120491082762, 21.988815064037617, 5.983976141833731, 11.468557018846925, 3.6491607465900398, 1.7004929470882095, 1.8356247920547046, 3.1409225678049726, 3.0569444705818576, 0.9591975536002391, 0.8865678220241401, 1.156383988670115, 0.8880705883408315, 0.6424787188655244, 70.07120140764566, 167.72964914228317, 38.76956524527781, 64.31117960397683, 19.28186073585957, 72.4207774615264, 26.85412785825536, 15.406082489823888, 12.923586515461794, 58.814919631294075, 13.746583229469383, 9.058027616829062, 14.854614877782714, 6.900072800252237, 9.861007770323157, 11.06013538268395, 5.948460703036972, 6.003736261419356, 6.544055214359838, 9.671064593863386, 3.872517643785849, 5.464863657653013, 5.522578967369191, 1.4004639468709088, 0.909582388829711, 0.9118319486365039, 0.6136490717583188, 1.3285425857062791, 0.6781479563026239, 0.4541832594083421, 63.81564983557771, 87.56392364342787, 32.10656282737976, 20.891590434852933, 25.757990715447956, 52.151554434689665, 15.136433260271042, 14.800280113207894, 9.869054435756514, 36.82534888480926, 13.00258012680632, 10.21815029896649, 12.991739045502106, 15.789703706681422, 7.5872313005555645, 8.695418016386666, 7.074421810310135, 3.372361116195932, 8.031113351733694, 1.9570023827063103, 1.7190897582279283, 1.240876345615366, 0.9274294951891509, 0.7078318432751093, 0.3076471302914699, 0.4056191512361646, 0.3602289529526846, 0.21017739509749514, 0.2147420553368235, 0.21199074076420252, 0.835231384549854, 130.52207913897163, 41.50027869452532, 64.91977569273831, 33.068682303797175, 22.446634002175916, 19.7653690621653, 9.432754292140537, 12.529591931777862, 15.843384361303741, 5.093485209048647, 15.210122957488439, 9.685908463962866, 3.332353953316191, 5.471099798349491, 2.8893145502152526, 6.815662159884509, 2.691321565367196, 2.0850471940079074, 1.5462411878851265, 1.3714781392239204, 1.9711765874885665, 1.8363953041416006, 2.8337368119889526, 1.0701214406135273, 1.2285910625486918, 2.6742778563272096, 0.525508072959108, 0.5003027037170574, 0.45554275249986254, 0.5503350666462292, 1.0920448760499033], \"Total\": [142.0, 205.0, 132.0, 67.0, 88.0, 358.0, 85.0, 129.0, 54.0, 77.0, 86.0, 162.0, 239.0, 94.0, 58.0, 151.0, 69.0, 75.0, 99.0, 92.0, 55.0, 69.0, 86.0, 83.0, 58.0, 60.0, 66.0, 64.0, 58.0, 95.0, 94.46973686829526, 129.94269131513818, 151.49374872581544, 58.83629942262411, 66.79763061349658, 358.5410633069041, 58.496569682904095, 75.73260617301344, 83.8591723925048, 95.76754306286024, 64.16424978823537, 68.30521172179851, 60.53274582447358, 54.447729832624674, 69.16864037922274, 86.42255476239984, 85.60685224298041, 239.27308544572784, 88.53211751345215, 162.05199435427306, 132.54536667913368, 99.45547137836874, 58.08157315268611, 92.01443643033646, 142.2008123899616, 67.9069381265466, 69.89356043881175, 205.99669390352622, 86.22190978588131, 55.15522482537077, 77.08585115987522, 77.08585115987522, 86.22190978588131, 69.16864037922274, 55.15522482537077, 86.42255476239984, 92.01443643033646, 239.27308544572784, 64.16424978823537, 99.45547137836874, 66.79763061349658, 69.89356043881175, 358.5410633069041, 68.30521172179851, 95.76754306286024, 58.83629942262411, 83.8591723925048, 132.54536667913368, 162.05199435427306, 60.53274582447358, 205.99669390352622, 88.53211751345215, 54.447729832624674, 75.73260617301344, 129.94269131513818, 151.49374872581544, 58.08157315268611, 58.496569682904095, 85.60685224298041, 67.9069381265466, 142.2008123899616, 85.60685224298041, 205.99669390352622, 69.89356043881175, 162.05199435427306, 58.08157315268611, 239.27308544572784, 95.76754306286024, 60.53274582447358, 68.30521172179851, 358.5410633069041, 86.22190978588131, 58.496569682904095, 99.45547137836874, 58.83629942262411, 88.53211751345215, 132.54536667913368, 75.73260617301344, 83.8591723925048, 94.46973686829526, 151.49374872581544, 64.16424978823537, 92.01443643033646, 142.2008123899616, 67.9069381265466, 66.79763061349658, 69.16864037922274, 54.447729832624674, 129.94269131513818, 77.08585115987522, 55.15522482537077, 67.9069381265466, 132.54536667913368, 58.08157315268611, 60.53274582447358, 75.73260617301344, 162.05199435427306, 58.496569682904095, 68.30521172179851, 55.15522482537077, 239.27308544572784, 86.42255476239984, 69.89356043881175, 92.01443643033646, 151.49374872581544, 77.08585115987522, 99.45547137836874, 94.46973686829526, 66.79763061349658, 205.99669390352622, 83.8591723925048, 129.94269131513818, 95.76754306286024, 88.53211751345215, 142.2008123899616, 64.16424978823537, 86.22190978588131, 85.60685224298041, 54.447729832624674, 58.83629942262411, 69.16864037922274, 358.5410633069041, 142.2008123899616, 54.447729832624674, 88.53211751345215, 99.45547137836874, 92.01443643033646, 83.8591723925048, 64.16424978823537, 86.42255476239984, 129.94269131513818, 68.30521172179851, 205.99669390352622, 151.49374872581544, 55.15522482537077, 95.76754306286024, 58.83629942262411, 162.05199435427306, 69.16864037922274, 66.79763061349658, 60.53274582447358, 58.08157315268611, 86.22190978588131, 85.60685224298041, 132.54536667913368, 58.496569682904095, 77.08585115987522, 239.27308544572784, 67.9069381265466, 75.73260617301344, 69.89356043881175, 94.46973686829526, 358.5410633069041], \"Category\": [\"Default\", \"Default\", \"Default\", \"Default\", \"Default\", \"Default\", \"Default\", \"Default\", \"Default\", \"Default\", \"Default\", \"Default\", \"Default\", \"Default\", \"Default\", \"Default\", \"Default\", \"Default\", \"Default\", \"Default\", \"Default\", \"Default\", \"Default\", \"Default\", \"Default\", \"Default\", \"Default\", \"Default\", \"Default\", \"Default\", \"Topic1\", \"Topic1\", \"Topic1\", \"Topic1\", \"Topic1\", \"Topic1\", \"Topic1\", \"Topic1\", \"Topic1\", \"Topic1\", \"Topic1\", \"Topic1\", \"Topic1\", \"Topic1\", \"Topic1\", \"Topic1\", \"Topic1\", \"Topic1\", \"Topic1\", \"Topic1\", \"Topic1\", \"Topic1\", \"Topic1\", \"Topic1\", \"Topic1\", \"Topic1\", \"Topic1\", \"Topic1\", \"Topic1\", \"Topic1\", \"Topic1\", \"Topic2\", \"Topic2\", \"Topic2\", \"Topic2\", \"Topic2\", \"Topic2\", \"Topic2\", \"Topic2\", \"Topic2\", \"Topic2\", \"Topic2\", \"Topic2\", \"Topic2\", \"Topic2\", \"Topic2\", \"Topic2\", \"Topic2\", \"Topic2\", \"Topic2\", \"Topic2\", \"Topic2\", \"Topic2\", \"Topic2\", \"Topic2\", \"Topic2\", \"Topic2\", \"Topic2\", \"Topic2\", \"Topic2\", \"Topic2\", \"Topic3\", \"Topic3\", \"Topic3\", \"Topic3\", \"Topic3\", \"Topic3\", \"Topic3\", \"Topic3\", \"Topic3\", \"Topic3\", \"Topic3\", \"Topic3\", \"Topic3\", \"Topic3\", \"Topic3\", \"Topic3\", \"Topic3\", \"Topic3\", \"Topic3\", \"Topic3\", \"Topic3\", \"Topic3\", \"Topic3\", \"Topic3\", \"Topic3\", \"Topic3\", \"Topic3\", \"Topic3\", \"Topic3\", \"Topic3\", \"Topic4\", \"Topic4\", \"Topic4\", \"Topic4\", \"Topic4\", \"Topic4\", \"Topic4\", \"Topic4\", \"Topic4\", \"Topic4\", \"Topic4\", \"Topic4\", \"Topic4\", \"Topic4\", \"Topic4\", \"Topic4\", \"Topic4\", \"Topic4\", \"Topic4\", \"Topic4\", \"Topic4\", \"Topic4\", \"Topic4\", \"Topic4\", \"Topic4\", \"Topic4\", \"Topic4\", \"Topic4\", \"Topic4\", \"Topic4\", \"Topic4\", \"Topic5\", \"Topic5\", \"Topic5\", \"Topic5\", \"Topic5\", \"Topic5\", \"Topic5\", \"Topic5\", \"Topic5\", \"Topic5\", \"Topic5\", \"Topic5\", \"Topic5\", \"Topic5\", \"Topic5\", \"Topic5\", \"Topic5\", \"Topic5\", \"Topic5\", \"Topic5\", \"Topic5\", \"Topic5\", \"Topic5\", \"Topic5\", \"Topic5\", \"Topic5\", \"Topic5\", \"Topic5\", \"Topic5\", \"Topic5\", \"Topic5\"], \"logprob\": [30.0, 29.0, 28.0, 27.0, 26.0, 25.0, 24.0, 23.0, 22.0, 21.0, 20.0, 19.0, 18.0, 17.0, 16.0, 15.0, 14.0, 13.0, 12.0, 11.0, 10.0, 9.0, 8.0, 7.0, 6.0, 5.0, 4.0, 3.0, 2.0, 1.0, -2.4801, -2.1795, -2.1308, -3.1976, -3.1711, -1.5452, -3.3843, -3.1305, -3.0948, -3.0389, -3.6116, -3.9181, -4.0451, -4.5167, -4.4372, -4.2806, -4.3608, -3.3499, -4.6443, -4.0403, -4.4519, -4.827, -5.3877, -5.39, -5.2909, -6.6161, -6.6393, -5.5918, -7.5002, -7.9889, -7.7627, -2.4092, -2.3743, -2.6265, -2.8988, -2.7585, -2.7717, -2.0747, -3.4065, -3.0558, -3.6013, -3.6617, -2.0699, -3.812, -3.8125, -4.3295, -4.0573, -3.6226, -3.5261, -4.8276, -4.1771, -5.3222, -6.0858, -6.0093, -5.4722, -5.4993, -6.6583, -6.7371, -6.4714, -6.7354, -7.0591, -2.2453, -1.3725, -2.8372, -2.3311, -3.5356, -2.2123, -3.2044, -3.76, -3.9358, -2.4204, -3.874, -4.2912, -3.7965, -4.5633, -4.2062, -4.0915, -4.7117, -4.7024, -4.6163, -4.2257, -5.1409, -4.7965, -4.786, -6.158, -6.5896, -6.5871, -6.9831, -6.2107, -6.8832, -7.2841, -1.9638, -1.6474, -2.6508, -3.0805, -2.8711, -2.1657, -3.4027, -3.4252, -3.8304, -2.5136, -3.5547, -3.7956, -3.5555, -3.3605, -4.0933, -3.957, -4.1633, -4.9042, -4.0365, -5.4484, -5.578, -5.904, -6.1952, -6.4654, -7.2986, -7.0222, -7.1408, -7.6796, -7.6581, -7.671, -6.2999, -1.171, -2.3168, -1.8694, -2.5439, -2.9314, -3.0586, -3.7983, -3.5144, -3.2798, -4.4146, -3.3206, -3.7719, -4.8389, -4.3431, -4.9815, -4.1233, -5.0525, -5.3077, -5.6067, -5.7266, -5.3639, -5.4347, -5.0009, -5.9748, -5.8367, -5.0589, -6.6859, -6.7351, -6.8288, -6.6398, -5.9545], \"loglift\": [30.0, 29.0, 28.0, 27.0, 26.0, 25.0, 24.0, 23.0, 22.0, 21.0, 20.0, 19.0, 18.0, 17.0, 16.0, 15.0, 14.0, 13.0, 12.0, 11.0, 10.0, 9.0, 8.0, 7.0, 6.0, 5.0, 4.0, 3.0, 2.0, 1.0, 1.0546, 1.0365, 0.9317, 0.8107, 0.7103, 0.6557, 0.6298, 0.6253, 0.5591, 0.4822, 0.3099, -0.059, -0.0652, -0.431, -0.5907, -0.6568, -0.7275, -0.7445, -1.0447, -1.0452, -1.2558, -1.3437, -1.3666, -1.8289, -2.1652, -2.7512, -2.8032, -2.8366, -3.8741, -3.916, -4.0246, 1.3289, 1.2518, 1.22, 1.174, 0.8653, 0.7894, 0.5307, 0.5151, 0.4275, 0.2801, 0.1744, 0.1311, 0.047, -0.2914, -0.3213, -0.4034, -0.4266, -0.531, -0.8478, -1.4219, -1.7225, -2.0, -2.2535, -2.2562, -2.4368, -2.6372, -2.723, -2.8381, -2.8705, -3.9333, 1.388, 1.3827, 0.9989, 0.664, 0.4855, 0.3931, 0.3167, 0.2198, -0.0767, -0.2194, -0.2479, -0.2771, -0.3132, -0.555, -0.6066, -0.8954, -0.9559, -1.0485, -1.0815, -1.1632, -1.2193, -1.2354, -1.6602, -2.2931, -2.7082, -2.7406, -2.8974, -2.9948, -3.1451, -3.2112, 1.9011, 1.5487, 1.3704, 0.8994, 0.8847, 0.8294, 0.6113, 0.4339, 0.2425, 0.0918, 0.0691, 0.0404, 0.0056, -0.298, -0.3552, -0.4737, -0.6286, -1.0228, -1.2813, -1.7945, -2.3621, -2.3829, -2.5955, -3.3396, -3.377, -3.3961, -3.5076, -3.5938, -3.6499, -3.8246, -4.0989, 1.9548, 1.7689, 1.7303, 0.9394, 0.6297, 0.5953, 0.1232, 0.1093, -0.0639, -0.5555, -0.5654, -0.7094, -0.766, -0.822, -0.9733, -1.1282, -1.206, -1.4264, -1.6269, -1.7055, -1.7378, -1.8015, -1.8048, -1.9607, -2.0986, -2.4534, -2.821, -2.9793, -2.9928, -3.105, -3.7535]}, \"token.table\": {\"Topic\": [1, 2, 3, 4, 5, 1, 2, 3, 4, 5, 1, 2, 3, 4, 5, 1, 2, 3, 4, 5, 1, 2, 3, 4, 1, 2, 3, 4, 5, 1, 2, 3, 4, 5, 1, 2, 3, 4, 5, 1, 2, 3, 4, 5, 1, 2, 3, 4, 5, 1, 2, 3, 4, 5, 1, 2, 3, 5, 1, 2, 3, 4, 5, 1, 3, 4, 5, 1, 2, 3, 4, 5, 1, 2, 3, 5, 1, 2, 3, 4, 5, 1, 2, 3, 5, 2, 3, 4, 5, 2, 4, 5, 1, 2, 3, 4, 5, 1, 2, 3, 5, 1, 2, 3, 4, 5, 1, 2, 3, 4, 5, 1, 2, 3, 5, 1, 2, 4, 5, 1, 2, 3, 4, 5, 1, 2, 3, 4, 5, 1, 2, 3, 5, 1, 2, 3, 4, 5, 1, 2, 3, 4, 5], \"Freq\": [0.0829904528207979, 0.1508917324014507, 0.0829904528207979, 0.6639236225663832, 0.022633759860217605, 0.28083973010731733, 0.09911990474375906, 0.24779976185939764, 0.3469196666031567, 0.03303996824791969, 0.01941778736445793, 0.053398915252259316, 0.8155470693072332, 0.03883557472891586, 0.07281670261671724, 0.03516154314427085, 0.00703230862885417, 0.04219385177312502, 0.00703230862885417, 0.9212324303798962, 0.014307469725704547, 0.27184192478838637, 0.5579913193024773, 0.14307469725704547, 0.0804380079760999, 0.3519162848954371, 0.1508212649551873, 0.09049275897311239, 0.3318067829014121, 0.1016580225660194, 0.04518134336267529, 0.11295335840668823, 0.011295335840668823, 0.7341968296434734, 0.5127644212697151, 0.1550218017792162, 0.07154852389809979, 0.023849507966033263, 0.23849507966033262, 0.06886865804210765, 0.017217164510526912, 0.3271261257000113, 0.5509492643368612, 0.017217164510526912, 0.831135625304831, 0.02308710070291197, 0.007695700234303991, 0.015391400468607982, 0.12313120374886385, 0.04347143943035911, 0.5107894133067196, 0.05433929928794889, 0.14128217814866711, 0.2390929168669751, 0.6628561004467842, 0.16996310267866263, 0.11897417187506384, 0.050988930803598786, 0.7459053654056428, 0.019802797311654234, 0.06600932437218078, 0.10561491899548925, 0.06600932437218078, 0.8468320401011786, 0.07409780350885313, 0.07409780350885313, 0.010585400501264733, 0.4803297498172878, 0.1775131684107368, 0.281932679240582, 0.010441951082984518, 0.05220975541492259, 0.18366238648958463, 0.03673247729791693, 0.018366238648958463, 0.7713820232562555, 0.5661834048454193, 0.26217359633236165, 0.16455576791073764, 0.0027890808120464004, 0.0027890808120464004, 0.40521006769048434, 0.3896250650870042, 0.06234001041392067, 0.14026502343132152, 0.8691607991853489, 0.012972549241572371, 0.10378039393257897, 0.012972549241572371, 0.7433565927763287, 0.181306486043007, 0.054391945812902104, 0.547040624321466, 0.017095019510045814, 0.15385517559041234, 0.2564252926506872, 0.017095019510045814, 0.15903160651549025, 0.7807006138033157, 0.014457418774135476, 0.04337225632240643, 0.10490460217870029, 0.13575889693714155, 0.39493497290804813, 0.3208846654877891, 0.043196012661817766, 0.1379177266783944, 0.392856554780881, 0.3009114036619514, 0.15463502688183614, 0.012537975152581309, 0.14017569488409704, 0.011681307907008087, 0.8176915534905661, 0.023362615814016174, 0.15042369478362094, 0.5438395119100141, 0.15042369478362094, 0.15042369478362094, 0.278163254619361, 0.2488829120278493, 0.19032222684482594, 0.2196025694363376, 0.0732008564787792, 0.5545827896645961, 0.02640870426974267, 0.079226112809228, 0.3433131555066547, 0.013204352134871335, 0.011597980170972138, 0.8118586119680496, 0.16237172239360995, 0.023195960341944277, 0.598823635398797, 0.2994118176993985, 0.014970590884969926, 0.04491177265490978, 0.029941181769939852, 0.014726035771727333, 0.014726035771727333, 0.014726035771727333, 0.9424662893905493, 0.014726035771727333], \"Term\": [\"!\", \"!\", \"!\", \"!\", \"!\", \"&\", \"&\", \"&\", \"&\", \"&\", \",\", \",\", \",\", \",\", \",\", \"-\", \"-\", \"-\", \"-\", \"-\", \".\", \".\", \".\", \".\", \"/\", \"/\", \"/\", \"/\", \"/\", \"1\", \"1\", \"1\", \"1\", \"1\", \"2\", \"2\", \"2\", \"2\", \"2\", \"and\", \"and\", \"and\", \"and\", \"and\", \"apartment\", \"apartment\", \"apartment\", \"apartment\", \"apartment\", \"apt\", \"apt\", \"apt\", \"apt\", \"apt\", \"beautiful\", \"beautiful\", \"beautiful\", \"beautiful\", \"bedroom\", \"bedroom\", \"bedroom\", \"bedroom\", \"bedroom\", \"brooklyn\", \"brooklyn\", \"brooklyn\", \"brooklyn\", \"cozy\", \"cozy\", \"cozy\", \"cozy\", \"cozy\", \"east\", \"east\", \"east\", \"east\", \"in\", \"in\", \"in\", \"in\", \"in\", \"large\", \"large\", \"large\", \"large\", \"manhattan\", \"manhattan\", \"manhattan\", \"manhattan\", \"near\", \"near\", \"near\", \"of\", \"of\", \"of\", \"of\", \"of\", \"park\", \"park\", \"park\", \"park\", \"private\", \"private\", \"private\", \"private\", \"private\", \"room\", \"room\", \"room\", \"room\", \"room\", \"spacious\", \"spacious\", \"spacious\", \"spacious\", \"studio\", \"studio\", \"studio\", \"studio\", \"sunny\", \"sunny\", \"sunny\", \"sunny\", \"sunny\", \"the\", \"the\", \"the\", \"the\", \"the\", \"to\", \"to\", \"to\", \"to\", \"williamsburg\", \"williamsburg\", \"williamsburg\", \"williamsburg\", \"williamsburg\", \"with\", \"with\", \"with\", \"with\", \"with\"]}, \"R\": 30, \"lambda.step\": 0.01, \"plot.opts\": {\"xlab\": \"PC1\", \"ylab\": \"PC2\"}, \"topic.order\": [1, 2, 5, 4, 3]};\n",
       "\n",
       "function LDAvis_load_lib(url, callback){\n",
       "  var s = document.createElement('script');\n",
       "  s.src = url;\n",
       "  s.async = true;\n",
       "  s.onreadystatechange = s.onload = callback;\n",
       "  s.onerror = function(){console.warn(\"failed to load library \" + url);};\n",
       "  document.getElementsByTagName(\"head\")[0].appendChild(s);\n",
       "}\n",
       "\n",
       "if(typeof(LDAvis) !== \"undefined\"){\n",
       "   // already loaded: just create the visualization\n",
       "   !function(LDAvis){\n",
       "       new LDAvis(\"#\" + \"ldavis_el288535767460336480634390\", ldavis_el288535767460336480634390_data);\n",
       "   }(LDAvis);\n",
       "}else if(typeof define === \"function\" && define.amd){\n",
       "   // require.js is available: use it to load d3/LDAvis\n",
       "   require.config({paths: {d3: \"https://d3js.org/d3.v5\"}});\n",
       "   require([\"d3\"], function(d3){\n",
       "      window.d3 = d3;\n",
       "      LDAvis_load_lib(\"https://cdn.jsdelivr.net/gh/bmabey/pyLDAvis@3.4.0/pyLDAvis/js/ldavis.v3.0.0.js\", function(){\n",
       "        new LDAvis(\"#\" + \"ldavis_el288535767460336480634390\", ldavis_el288535767460336480634390_data);\n",
       "      });\n",
       "    });\n",
       "}else{\n",
       "    // require.js not available: dynamically load d3 & LDAvis\n",
       "    LDAvis_load_lib(\"https://d3js.org/d3.v5.js\", function(){\n",
       "         LDAvis_load_lib(\"https://cdn.jsdelivr.net/gh/bmabey/pyLDAvis@3.4.0/pyLDAvis/js/ldavis.v3.0.0.js\", function(){\n",
       "                 new LDAvis(\"#\" + \"ldavis_el288535767460336480634390\", ldavis_el288535767460336480634390_data);\n",
       "            })\n",
       "         });\n",
       "}\n",
       "</script>"
      ],
      "text/plain": [
       "<IPython.core.display.HTML object>"
      ]
     },
     "execution_count": 38,
     "metadata": {},
     "output_type": "execute_result"
    }
   ],
   "source": [
    "lda_display = gensimvis.prepare(ldamod, corpus_fromdict, text_raw_dict)\n",
    "pyLDAvis.display(lda_display)"
   ]
  },
  {
   "cell_type": "markdown",
   "metadata": {},
   "source": [
    "## 3.4 Activity 3\n",
    "\n",
    "- Preprocess the texts if you haven't already\n",
    "- Run the topic model with preprocessed texts\n",
    "- Play around with other parameters like `n_topics` to find a configuration that produces useful topics\n",
    "\n",
    "If you get stuck on the preprocessing part, you can use below function and example code for applying it. Then continue as above (start with tokenizing)."
   ]
  },
  {
   "cell_type": "code",
   "execution_count": 19,
   "metadata": {},
   "outputs": [],
   "source": [
    "# your code here\n"
   ]
  },
  {
   "cell_type": "code",
   "execution_count": null,
   "metadata": {},
   "outputs": [],
   "source": []
  },
  {
   "cell_type": "code",
   "execution_count": null,
   "metadata": {},
   "outputs": [],
   "source": []
  },
  {
   "cell_type": "code",
   "execution_count": null,
   "metadata": {},
   "outputs": [],
   "source": []
  }
 ],
 "metadata": {
  "kernelspec": {
   "display_name": "Python 3 (ipykernel)",
   "language": "python",
   "name": "python3"
  },
  "language_info": {
   "codemirror_mode": {
    "name": "ipython",
    "version": 3
   },
   "file_extension": ".py",
   "mimetype": "text/x-python",
   "name": "python",
   "nbconvert_exporter": "python",
   "pygments_lexer": "ipython3",
   "version": "3.9.20"
  }
 },
 "nbformat": 4,
 "nbformat_minor": 4
}
