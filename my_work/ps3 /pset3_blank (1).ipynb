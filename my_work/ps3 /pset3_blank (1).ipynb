{
 "cells": [
  {
   "cell_type": "markdown",
   "metadata": {},
   "source": [
    "# Problem set 3: Text analysis of DOJ press releases\n",
    "\n",
    "**Total points (without extra credit)**: 52 \n",
    "\n",
    "- For background:\n",
    "\n",
    "    - DOJ is the federal law enforcement agency responsible for federal prosecutions; this contrasts with the local prosecutions in the Cook County dataset we analyzed earlier. Here's a short explainer on which crimes get prosecuted federally versus locally: https://www.criminaldefenselawyer.com/resources/criminal-defense/federal-crime/state-vs-federal-crimes.htm#:~:text=Federal%20criminal%20prosecutions%20are%20handled,of%20state%20and%20local%20law. \n",
    "    - Here's the Kaggle that contains the data: https://www.kaggle.com/jbencina/department-of-justice-20092018-press-releases \n",
    "    - Here's the code the dataset creator used to scrape those press releases here if you're interested: https://github.com/jbencina/dojreleases"
   ]
  },
  {
   "cell_type": "markdown",
   "metadata": {},
   "source": [
    "## 0.0 Import packages"
   ]
  },
  {
   "cell_type": "code",
   "execution_count": 1,
   "metadata": {},
   "outputs": [
    {
     "ename": "ImportError",
     "evalue": "Unable to import required dependencies:\nnumpy: No module named 'numpy'",
     "output_type": "error",
     "traceback": [
      "\u001b[0;31m---------------------------------------------------------------------------\u001b[0m",
      "\u001b[0;31mImportError\u001b[0m                               Traceback (most recent call last)",
      "Cell \u001b[0;32mIn[1], line 5\u001b[0m\n\u001b[1;32m      2\u001b[0m \u001b[38;5;28;01mimport\u001b[39;00m \u001b[38;5;21;01mwarnings\u001b[39;00m\n\u001b[1;32m      3\u001b[0m warnings\u001b[38;5;241m.\u001b[39mfilterwarnings(\u001b[38;5;124m\"\u001b[39m\u001b[38;5;124mignore\u001b[39m\u001b[38;5;124m\"\u001b[39m)\n\u001b[0;32m----> 5\u001b[0m \u001b[38;5;28;01mimport\u001b[39;00m \u001b[38;5;21;01mpandas\u001b[39;00m \u001b[38;5;28;01mas\u001b[39;00m \u001b[38;5;21;01mpd\u001b[39;00m\n\u001b[1;32m      6\u001b[0m \u001b[38;5;28;01mimport\u001b[39;00m \u001b[38;5;21;01mnumpy\u001b[39;00m \u001b[38;5;28;01mas\u001b[39;00m \u001b[38;5;21;01mnp\u001b[39;00m\n\u001b[1;32m      7\u001b[0m \u001b[38;5;28;01mimport\u001b[39;00m \u001b[38;5;21;01mrandom\u001b[39;00m\n",
      "File \u001b[0;32m/opt/anaconda3/lib/python3.12/site-packages/pandas/__init__.py:19\u001b[0m\n\u001b[1;32m     16\u001b[0m         _missing_dependencies\u001b[38;5;241m.\u001b[39mappend(\u001b[38;5;124mf\u001b[39m\u001b[38;5;124m\"\u001b[39m\u001b[38;5;132;01m{\u001b[39;00m_dependency\u001b[38;5;132;01m}\u001b[39;00m\u001b[38;5;124m: \u001b[39m\u001b[38;5;132;01m{\u001b[39;00m_e\u001b[38;5;132;01m}\u001b[39;00m\u001b[38;5;124m\"\u001b[39m)\n\u001b[1;32m     18\u001b[0m \u001b[38;5;28;01mif\u001b[39;00m _missing_dependencies:  \u001b[38;5;66;03m# pragma: no cover\u001b[39;00m\n\u001b[0;32m---> 19\u001b[0m     \u001b[38;5;28;01mraise\u001b[39;00m \u001b[38;5;167;01mImportError\u001b[39;00m(\n\u001b[1;32m     20\u001b[0m         \u001b[38;5;124m\"\u001b[39m\u001b[38;5;124mUnable to import required dependencies:\u001b[39m\u001b[38;5;130;01m\\n\u001b[39;00m\u001b[38;5;124m\"\u001b[39m \u001b[38;5;241m+\u001b[39m \u001b[38;5;124m\"\u001b[39m\u001b[38;5;130;01m\\n\u001b[39;00m\u001b[38;5;124m\"\u001b[39m\u001b[38;5;241m.\u001b[39mjoin(_missing_dependencies)\n\u001b[1;32m     21\u001b[0m     )\n\u001b[1;32m     22\u001b[0m \u001b[38;5;28;01mdel\u001b[39;00m _hard_dependencies, _dependency, _missing_dependencies\n\u001b[1;32m     24\u001b[0m \u001b[38;5;28;01mtry\u001b[39;00m:\n\u001b[1;32m     25\u001b[0m     \u001b[38;5;66;03m# numpy compat\u001b[39;00m\n",
      "\u001b[0;31mImportError\u001b[0m: Unable to import required dependencies:\nnumpy: No module named 'numpy'"
     ]
    }
   ],
   "source": [
    "## helpful packages\n",
    "import warnings\n",
    "warnings.filterwarnings(\"ignore\")\n",
    "\n",
    "import pandas as pd\n",
    "import numpy as np\n",
    "import random\n",
    "import re\n",
    "import string\n",
    "\n",
    "## nltk imports\n",
    "import nltk\n",
    "### uncomment and run these lines if you haven't downloaded relevant nltk add-ons yet\n",
    "nltk.download('averaged_perceptron_tagger')\n",
    "nltk.download('stopwords')\n",
    "from nltk import pos_tag\n",
    "from nltk.tokenize import word_tokenize, wordpunct_tokenize\n",
    "from nltk.stem.snowball import SnowballStemmer\n",
    "from nltk.corpus import stopwords\n",
    "\n",
    "## spacy imports\n",
    "import spacy\n",
    "### uncomment and run the below line if you haven't loaded the en_core_web_sm library yet\n",
    "### ! python -m spacy download en_core_web_sm\n",
    "import en_core_web_sm\n",
    "nlp = en_core_web_sm.load()\n",
    "\n",
    "## vectorizer\n",
    "from sklearn.feature_extraction.text import CountVectorizer\n",
    "\n",
    "## sentiment\n",
    "from vaderSentiment.vaderSentiment import SentimentIntensityAnalyzer\n",
    "\n",
    "## lda\n",
    "from gensim import corpora\n",
    "import gensim\n",
    "\n",
    "## repeated printouts and wide-format text\n",
    "from IPython.core.interactiveshell import InteractiveShell\n",
    "InteractiveShell.ast_node_interactivity = \"all\"\n",
    "pd.set_option('display.max_colwidth', None)\n"
   ]
  },
  {
   "cell_type": "code",
   "execution_count": 3,
   "metadata": {},
   "outputs": [
    {
     "ename": "NameError",
     "evalue": "name 'pd' is not defined",
     "output_type": "error",
     "traceback": [
      "\u001b[0;31m---------------------------------------------------------------------------\u001b[0m",
      "\u001b[0;31mNameError\u001b[0m                                 Traceback (most recent call last)",
      "Cell \u001b[0;32mIn[3], line 6\u001b[0m\n\u001b[1;32m      1\u001b[0m \u001b[38;5;66;03m## 0.1 Load and clean text data\u001b[39;00m\n\u001b[1;32m      2\u001b[0m \u001b[38;5;66;03m## first, unzip the file pset3_inputdata.zip \u001b[39;00m\n\u001b[1;32m      3\u001b[0m \u001b[38;5;66;03m## then, run this code to load the unzipped json file and convert to a dataframe\u001b[39;00m\n\u001b[1;32m      4\u001b[0m \u001b[38;5;66;03m## (may need to change the pathname depending on where you store stuff)\u001b[39;00m\n\u001b[1;32m      5\u001b[0m \u001b[38;5;66;03m## and convert some of the attributes from lists to values\u001b[39;00m\n\u001b[0;32m----> 6\u001b[0m doj \u001b[38;5;241m=\u001b[39m pd\u001b[38;5;241m.\u001b[39mread_json(\u001b[38;5;124m\"\u001b[39m\u001b[38;5;124m./combined.json\u001b[39m\u001b[38;5;124m\"\u001b[39m, lines \u001b[38;5;241m=\u001b[39m \u001b[38;5;28;01mTrue\u001b[39;00m)\n\u001b[1;32m      8\u001b[0m \u001b[38;5;66;03m## due to json, topics are in a list so remove them and concatenate with ;\u001b[39;00m\n\u001b[1;32m      9\u001b[0m doj[\u001b[38;5;124m'\u001b[39m\u001b[38;5;124mtopics_clean\u001b[39m\u001b[38;5;124m'\u001b[39m] \u001b[38;5;241m=\u001b[39m [\u001b[38;5;124m\"\u001b[39m\u001b[38;5;124m; \u001b[39m\u001b[38;5;124m\"\u001b[39m\u001b[38;5;241m.\u001b[39mjoin(topic) \n\u001b[1;32m     10\u001b[0m                       \u001b[38;5;28;01mif\u001b[39;00m \u001b[38;5;28mlen\u001b[39m(topic) \u001b[38;5;241m>\u001b[39m \u001b[38;5;241m0\u001b[39m \u001b[38;5;28;01melse\u001b[39;00m \u001b[38;5;124m\"\u001b[39m\u001b[38;5;124mNo topic\u001b[39m\u001b[38;5;124m\"\u001b[39m \n\u001b[1;32m     11\u001b[0m                       \u001b[38;5;28;01mfor\u001b[39;00m topic \u001b[38;5;129;01min\u001b[39;00m doj\u001b[38;5;241m.\u001b[39mtopics]\n",
      "\u001b[0;31mNameError\u001b[0m: name 'pd' is not defined"
     ]
    }
   ],
   "source": [
    "## 0.1 Load and clean text data\n",
    "## first, unzip the file pset3_inputdata.zip \n",
    "## then, run this code to load the unzipped json file and convert to a dataframe\n",
    "## (may need to change the pathname depending on where you store stuff)\n",
    "## and convert some of the attributes from lists to values\n",
    "doj = pd.read_json(\"./combined.json\", lines = True)\n",
    "\n",
    "## due to json, topics are in a list so remove them and concatenate with ;\n",
    "doj['topics_clean'] = [\"; \".join(topic) \n",
    "                      if len(topic) > 0 else \"No topic\" \n",
    "                      for topic in doj.topics]\n",
    "\n",
    "## similarly with components\n",
    "doj['components_clean'] = [\"; \".join(comp) \n",
    "                           if len(comp) > 0 else \"No component\" \n",
    "                           for comp in doj.components]\n",
    "\n",
    "## drop older columns from data\n",
    "doj = doj[['id', 'title', 'contents', 'date', 'topics_clean', \n",
    "           'components_clean']].copy()\n",
    "\n",
    "doj.head()"
   ]
  },
  {
   "cell_type": "code",
   "execution_count": 5,
   "metadata": {},
   "outputs": [
    {
     "ename": "NameError",
     "evalue": "name 'doj' is not defined",
     "output_type": "error",
     "traceback": [
      "\u001b[0;31m---------------------------------------------------------------------------\u001b[0m",
      "\u001b[0;31mNameError\u001b[0m                                 Traceback (most recent call last)",
      "Cell \u001b[0;32mIn[5], line 2\u001b[0m\n\u001b[1;32m      1\u001b[0m \u001b[38;5;66;03m## your code to subset to one press release and take the string\u001b[39;00m\n\u001b[0;32m----> 2\u001b[0m pharma \u001b[38;5;241m=\u001b[39m doj[doj[\u001b[38;5;124m'\u001b[39m\u001b[38;5;124mid\u001b[39m\u001b[38;5;124m'\u001b[39m]\u001b[38;5;241m==\u001b[39m \u001b[38;5;124m'\u001b[39m\u001b[38;5;124m17-1204\u001b[39m\u001b[38;5;124m'\u001b[39m][\u001b[38;5;124m\"\u001b[39m\u001b[38;5;124mcontents\u001b[39m\u001b[38;5;124m\"\u001b[39m]\u001b[38;5;241m.\u001b[39mto_string()\n\u001b[1;32m      3\u001b[0m pharma\n",
      "\u001b[0;31mNameError\u001b[0m: name 'doj' is not defined"
     ]
    }
   ],
   "source": [
    "## your code to subset to one press release and take the string\n",
    "pharma = doj[doj['id']== '17-1204'][\"contents\"].to_string()\n",
    "pharma"
   ]
  },
  {
   "cell_type": "markdown",
   "metadata": {},
   "source": [
    "## 1. Tagging and sentiment scoring (17 points)\n",
    "\n",
    "Focus on the following press release: `id` == \"17-1204\" about this pharmaceutical kickback prosecution: https://www.forbes.com/sites/michelatindera/2017/11/16/fentanyl-billionaire-john-kapoor-to-plead-not-guilty-in-opioid-kickback-case/?sh=21b8574d6c6c \n",
    "\n",
    "The `contents` column is the one we're treating as a document. You may need to to convert it from a pandas series to a single string.\n",
    "\n",
    "We'll call the raw string of this press release `pharma`"
   ]
  },
  {
   "cell_type": "markdown",
   "metadata": {},
   "source": [
    "### 1.1 part of speech tagging (3 points)\n",
    "\n",
    "A. Preprocess the `pharma` press release to remove all punctuation / digits (you can use `.isalpha()` to subset)\n",
    "\n",
    "B. With the preprocessed press release from part A, use the part of speech tagger within nltk to tag all the words in that one press release with their part of speech. \n",
    "\n",
    "C. Using the output from B, extract the adjectives and sort those adjectives from most occurrences to fewest occurrences. Print a dataframe with the 5 most frequent adjectives and their counts in the `pharma` release. See here for a list of the names of adjectives within nltk: https://pythonprogramming.net/natural-language-toolkit-nltk-part-speech-tagging/\n",
    "\n",
    "**Resources**:\n",
    "\n",
    "- Documentation for `.isalpha()`: https://www.w3schools.com/python/ref_string_isalpha.asp"
   ]
  },
  {
   "cell_type": "code",
   "execution_count": 9,
   "metadata": {},
   "outputs": [
    {
     "ename": "NameError",
     "evalue": "name 'wordpunct_tokenize' is not defined",
     "output_type": "error",
     "traceback": [
      "\u001b[0;31m---------------------------------------------------------------------------\u001b[0m",
      "\u001b[0;31mNameError\u001b[0m                                 Traceback (most recent call last)",
      "Cell \u001b[0;32mIn[9], line 2\u001b[0m\n\u001b[1;32m      1\u001b[0m \u001b[38;5;66;03m## your code here to restrict to alpha\u001b[39;00m\n\u001b[0;32m----> 2\u001b[0m pharma_tokenized \u001b[38;5;241m=\u001b[39m wordpunct_tokenize(pharma)\n\u001b[1;32m      3\u001b[0m pharma_wordsonly \u001b[38;5;241m=\u001b[39m [token \u001b[38;5;28;01mfor\u001b[39;00m token \u001b[38;5;129;01min\u001b[39;00m pharma_tokenized \u001b[38;5;28;01mif\u001b[39;00m token\u001b[38;5;241m.\u001b[39misalpha()]\n\u001b[1;32m      4\u001b[0m pharma_wordsonly\n",
      "\u001b[0;31mNameError\u001b[0m: name 'wordpunct_tokenize' is not defined"
     ]
    }
   ],
   "source": [
    "## your code here to restrict to alpha\n",
    "pharma_tokenized = wordpunct_tokenize(pharma)\n",
    "pharma_wordsonly = [token for token in pharma_tokenized if token.isalpha()]\n",
    "pharma_wordsonly"
   ]
  },
  {
   "cell_type": "code",
   "execution_count": 11,
   "metadata": {},
   "outputs": [
    {
     "ename": "NameError",
     "evalue": "name 'pos_tag' is not defined",
     "output_type": "error",
     "traceback": [
      "\u001b[0;31m---------------------------------------------------------------------------\u001b[0m",
      "\u001b[0;31mNameError\u001b[0m                                 Traceback (most recent call last)",
      "Cell \u001b[0;32mIn[11], line 2\u001b[0m\n\u001b[1;32m      1\u001b[0m \u001b[38;5;66;03m## your code here for part of speech tagging\u001b[39;00m\n\u001b[0;32m----> 2\u001b[0m pharma_tagged \u001b[38;5;241m=\u001b[39m pos_tag(pharma_wordsonly)\n\u001b[1;32m      3\u001b[0m pharma_tagged\n\u001b[1;32m      4\u001b[0m pharma_adjonly \u001b[38;5;241m=\u001b[39m [token[\u001b[38;5;241m0\u001b[39m] \u001b[38;5;28;01mfor\u001b[39;00m token \u001b[38;5;129;01min\u001b[39;00m pharma_tagged \u001b[38;5;28;01mif\u001b[39;00m token[\u001b[38;5;241m1\u001b[39m] \u001b[38;5;129;01min\u001b[39;00m ([\u001b[38;5;124m\"\u001b[39m\u001b[38;5;124mJJ\u001b[39m\u001b[38;5;124m\"\u001b[39m,\u001b[38;5;124m\"\u001b[39m\u001b[38;5;124mJJS\u001b[39m\u001b[38;5;124m\"\u001b[39m, \u001b[38;5;124m\"\u001b[39m\u001b[38;5;124mJJR\u001b[39m\u001b[38;5;124m\"\u001b[39m])]\n",
      "\u001b[0;31mNameError\u001b[0m: name 'pos_tag' is not defined"
     ]
    }
   ],
   "source": [
    "## your code here for part of speech tagging\n",
    "pharma_tagged = pos_tag(pharma_wordsonly)\n",
    "pharma_tagged\n",
    "pharma_adjonly = [token[0] for token in pharma_tagged if token[1] in ([\"JJ\",\"JJS\", \"JJR\"])]\n",
    "df_pharma_adjonly = pd.DataFrame(pharma_adjonly)\n",
    "df_pharma_adjonly.value_counts().sort_values(ascending=False)[:5]"
   ]
  },
  {
   "cell_type": "markdown",
   "metadata": {},
   "source": [
    "## 1.2 named entity recognition (4 points)"
   ]
  },
  {
   "cell_type": "markdown",
   "metadata": {},
   "source": [
    "A. Using the original `pharma` press release (so the one before stripping punctuation/digits), use spaCy to extract all named entities from the press release.\n",
    "\n",
    "B. Print the unique named entities with the tag: `LAW`"
   ]
  },
  {
   "cell_type": "code",
   "execution_count": 40,
   "metadata": {},
   "outputs": [
    {
     "ename": "NameError",
     "evalue": "name 'nlp' is not defined",
     "output_type": "error",
     "traceback": [
      "\u001b[0;31m---------------------------------------------------------------------------\u001b[0m",
      "\u001b[0;31mNameError\u001b[0m                                 Traceback (most recent call last)",
      "Cell \u001b[0;32mIn[40], line 2\u001b[0m\n\u001b[1;32m      1\u001b[0m \u001b[38;5;66;03m## your code here for part A\u001b[39;00m\n\u001b[0;32m----> 2\u001b[0m spacy_pharma \u001b[38;5;241m=\u001b[39m nlp(pharma)\n\u001b[1;32m      3\u001b[0m spacy_pharma\u001b[38;5;241m.\u001b[39ments\n",
      "\u001b[0;31mNameError\u001b[0m: name 'nlp' is not defined"
     ]
    }
   ],
   "source": [
    "## your code here for part A\n",
    "spacy_pharma = nlp(pharma)\n",
    "spacy_pharma.ents\n",
    "\n",
    "#for one_tok in spacy_pharma.ents:\n",
    "#   print(\"Entity: \" + one_tok.text + \"; NER tag: \" + one_tok.label_)"
   ]
  },
  {
   "cell_type": "code",
   "execution_count": 42,
   "metadata": {},
   "outputs": [
    {
     "ename": "NameError",
     "evalue": "name 'spacy_pharma' is not defined",
     "output_type": "error",
     "traceback": [
      "\u001b[0;31m---------------------------------------------------------------------------\u001b[0m",
      "\u001b[0;31mNameError\u001b[0m                                 Traceback (most recent call last)",
      "Cell \u001b[0;32mIn[42], line 2\u001b[0m\n\u001b[1;32m      1\u001b[0m \u001b[38;5;66;03m## your code here for part B\u001b[39;00m\n\u001b[0;32m----> 2\u001b[0m pharma_law \u001b[38;5;241m=\u001b[39m [token\u001b[38;5;241m.\u001b[39mtext \u001b[38;5;28;01mfor\u001b[39;00m token \u001b[38;5;129;01min\u001b[39;00m spacy_pharma\u001b[38;5;241m.\u001b[39ments \u001b[38;5;28;01mif\u001b[39;00m token\u001b[38;5;241m.\u001b[39mlabel_ \u001b[38;5;241m==\u001b[39m \u001b[38;5;124m\"\u001b[39m\u001b[38;5;124mLAW\u001b[39m\u001b[38;5;124m\"\u001b[39m]\n\u001b[1;32m      3\u001b[0m \u001b[38;5;28mset\u001b[39m(pharma_law)\n",
      "\u001b[0;31mNameError\u001b[0m: name 'spacy_pharma' is not defined"
     ]
    }
   ],
   "source": [
    "## your code here for part B\n",
    "pharma_law = [token.text for token in spacy_pharma.ents if token.label_ == \"LAW\"]\n",
    "set(pharma_law)"
   ]
  },
  {
   "cell_type": "markdown",
   "metadata": {},
   "source": [
    "C. Use Google to summarize in one sentence what the `RICO` named entity means and why this might apply to a pharmaceutical kickbacks case (and not just a mafia case...) "
   ]
  },
  {
   "cell_type": "code",
   "execution_count": 24,
   "metadata": {},
   "outputs": [],
   "source": [
    "\n",
    "#RICO stands for The Racketeer Influenced and Corrupt Organization Act. \n",
    "#Under RICO, it is illegal to participate in a pattern of racketeering activity or unlawful debt collection through an enterprise. \n",
    "# RICO applies to this case because the charges involve racketeering, mail fraud, and wire fraud, as Kapoor might have used fraud and bribes to market the drug."
   ]
  },
  {
   "cell_type": "markdown",
   "metadata": {},
   "source": [
    "D. You want to extract the possible sentence lengths the CEO is facing; pull out the named entities with (1) the label `DATE` and (2) that contain the word year or years (hint: you may want to use the `re` module for that second part). Print these named entities."
   ]
  },
  {
   "cell_type": "code",
   "execution_count": 25,
   "metadata": {},
   "outputs": [
    {
     "data": {
      "text/plain": [
       "['20 years', 'three years', 'five years', 'three years']"
      ]
     },
     "execution_count": 25,
     "metadata": {},
     "output_type": "execute_result"
    }
   ],
   "source": [
    "## your code here\n",
    "regex_year = r\".*year?s\"\n",
    "potential_sentence = [token.text for token in spacy_pharma.ents if (token.label_ == \"DATE\") and (re.search(regex_year,token.text))]\n",
    "potential_sentence\n"
   ]
  },
  {
   "cell_type": "markdown",
   "metadata": {},
   "source": [
    "E. Pull and print the original parts of the press releases where those year lengths are mentioned (e.g., the sentences or rough region of the press release). Describe in your own words (1 sentence) what length of sentence (prison) and probation (supervised release) the CEO may be facing if convicted after this indictment (if there are multiple lengths mentioned describe the maximum). \n",
    "\n",
    "**Hint**: you may want to use re.search or re.findall \n",
    "\n",
    "- For part E, you can use `re.search` and `re.findall`, or anything that works 😳."
   ]
  },
  {
   "cell_type": "code",
   "execution_count": 26,
   "metadata": {},
   "outputs": [
    {
     "data": {
      "text/plain": [
       "[' This investigation highlights our commitment to defending our mail system from illegal misuse and ensuring public trust in the mail.”“The U.S. Department of Veterans Affairs, Office of Inspector General will continue to aggressively investigate those that attempt to fraudulently impact programs designed to benefit our veterans and their families,” said Donna L. Neves, Special Agent in Charge of the VA OIG Northeast Field Office.The charges of conspiracy to commit RICO and conspiracy to commit mail and wire fraud each provide for a sentence of no greater than 20 years in prison, three years of supervised release and a fine of $250,000, or twice the amount of pecuniary gain or loss.',\n",
       " ' The charges of conspiracy to violate the Anti-Kickback Law provide for a sentence of no greater than five years in prison, three years of supervised release and a $25,000 fine. Sentences are imposed by a federal district court judge based upon the U.S. Sentencing Guidelines and other statutory factors.The investigation was conducted by a team that included the FBI; HHS-OIG; FDA Office of Criminal Investigations; the Defense Criminal Investigative Service; the Drug Enforcement Administration; the Department of Labor, Employee Benefits Security Administration; the Office of Personnel Management; the U.S. Postal Inspection Service; the U.S. Postal Service Office of Inspector General; and the Department of Veterans Affairs.']"
      ]
     },
     "execution_count": 26,
     "metadata": {},
     "output_type": "execute_result"
    }
   ],
   "source": [
    "## your code here\n",
    "pharma_split = pharma.split(\"\\xa0\")\n",
    "regex_year_sentence = r\".*year?s.*\"\n",
    "list = [sentence for sentence in pharma_split if re.search(regex_year_sentence,sentence)]\n",
    "list\n",
    "#re.search(pharma_split,pharma).string\n",
    "\n",
    "#At maximum, the CEO will face a sentence of up to 20 years in prison and a probation of 3 years."
   ]
  },
  {
   "cell_type": "markdown",
   "metadata": {},
   "source": [
    "## 1.3 sentiment analysis  (10 points)\n",
    "\n",
    "A. Subset the press releases to those labeled with one of three topics via `topics_clean`: Civil Rights, Hate Crimes, and Project Safe Childhood. We'll call this `doj_subset` going forward and it should have 717 rows.\n",
    "\n"
   ]
  },
  {
   "cell_type": "code",
   "execution_count": 27,
   "metadata": {},
   "outputs": [
    {
     "data": {
      "text/plain": [
       "(717, 6)"
      ]
     },
     "execution_count": 27,
     "metadata": {},
     "output_type": "execute_result"
    },
    {
     "data": {
      "text/html": [
       "<div>\n",
       "<style scoped>\n",
       "    .dataframe tbody tr th:only-of-type {\n",
       "        vertical-align: middle;\n",
       "    }\n",
       "\n",
       "    .dataframe tbody tr th {\n",
       "        vertical-align: top;\n",
       "    }\n",
       "\n",
       "    .dataframe thead th {\n",
       "        text-align: right;\n",
       "    }\n",
       "</style>\n",
       "<table border=\"1\" class=\"dataframe\">\n",
       "  <thead>\n",
       "    <tr style=\"text-align: right;\">\n",
       "      <th></th>\n",
       "      <th>id</th>\n",
       "      <th>title</th>\n",
       "      <th>contents</th>\n",
       "      <th>date</th>\n",
       "      <th>topics_clean</th>\n",
       "      <th>components_clean</th>\n",
       "    </tr>\n",
       "  </thead>\n",
       "  <tbody>\n",
       "    <tr>\n",
       "      <th>77</th>\n",
       "      <td>17-1235</td>\n",
       "      <td>Additional Former Correctional Officer Pleads Guilty to Beating of Handcuffed and Shackled Inmate at Angola State Prison</td>\n",
       "      <td>A former supervisory correctional officer at Louisiana State Penitentiary in Angola, Louisiana, pleaded guilty yesterday in connection with the beating of a handcuffed and shackled inmate, in addition to conspiring to cover up their misconduct by falsifying official records and lying to internal investigators about what happened.     James Savoy, 39, of Marksville, Louisiana, admitted during his plea hearing that he witnessed other officers using excessive force against the inmate and failed to intervene; that he conspired with other officers to cover up the beating by engaging in a variety of obstructive acts; and that he personally falsified official prison records to cover up the attack.   Scotty Kennedy, 48, of Beebe, Arkansas, and John Sanders, 30, of Marksville, Louisiana previously pleaded guilty in November 2016, and September 2017, for their roles in the beating and cover up.   “Every citizen has the right to due process and protection from unreasonable force, and correctional officers who violate these basic Constitutional rights must be held accountable for their egregious actions” said Acting Assistant Attorney General John Gore of the Civil Rights Division.  “The Justice Department will continue to vigorously prosecute correctional officers who violate the public’s trust by committing crimes and to covering up violations of federal criminal law.”   “Yesterday is another example of our office’s unwavering commitment to pursuing those who violate the federal criminal civil rights laws,” said Acting United States Attorney for the Middle District of Louisiana Corey Amundson. “We will continue to work closely with the Justice Department’s Civil Rights Division and the FBI to ensure that no one is above the law.”     This case is being investigated by the FBI’s Baton Rouge Resident Agency and is being prosecuted by Assistant U.S. Attorney Frederick A. Menner, Jr. of the Middle District of Louisiana and Trial Attorney Christopher J. Perras of the Civil Rights Division’s Criminal Section.</td>\n",
       "      <td>2017-11-02T00:00:00-04:00</td>\n",
       "      <td>Civil Rights</td>\n",
       "      <td>Civil Rights Division; USAO - Louisiana, Middle</td>\n",
       "    </tr>\n",
       "    <tr>\n",
       "      <th>155</th>\n",
       "      <td>15-1522</td>\n",
       "      <td>Alabama Man Found Guilty of Aggravated Sexual Abuse of a Child</td>\n",
       "      <td>A federal jury convicted Rick Lee Evans, 43, of Anniston, Alabama, today of aggravated sexual abuse of a child after a five-day trial, Assistant Attorney General Leslie R. Caldwell of the Justice Department’s Criminal Division and U.S. Attorney Joyce White Vance of the Northern District of Alabama announced.  According to evidence introduced at trial, Evans, a former U.S. Army soldier, and his then-wife, a Department of Defense employee, were residing in Germany when they were asked to take temporary custody of a five-year-old child whose parents were deployed to Iraq with the U.S. Army.  Evans sexually abused the child on multiple occasions during the 18 months that the child lived with him from May 2007 to December 2008.  Trial Attorney Austin M. Berry of the Criminal Division’s Child Exploitation and Obscenity Section (CEOS) and Assistant U.S. Attorney Jacquelyn Hutzell of the Northern District of Alabama are prosecuting the case.  U.S. Army Criminal Investigations Division and the FBI’s Birmingham, Alabama, Division investigated the case. This case was brought as part of Project Safe Childhood, a nationwide initiative to combat the growing epidemic of child sexual exploitation and abuse, launched in May 2006 by the Department of Justice.  Led by U.S. Attorneys’ offices and CEOS, Project Safe Childhood marshals federal, state and local resources to better locate, apprehend and prosecute individuals who exploit children via the Internet, as well as to identify and rescue victims.  For more information about Project Safe Childhood, please visit www.justice.gov/psc.</td>\n",
       "      <td>2015-12-11T00:00:00-05:00</td>\n",
       "      <td>Project Safe Childhood</td>\n",
       "      <td>Criminal Division; Criminal - Child Exploitation and Obscenity Section; USAO - Alabama, Northern</td>\n",
       "    </tr>\n",
       "    <tr>\n",
       "      <th>157</th>\n",
       "      <td>16-213</td>\n",
       "      <td>Alabama Man Indicted on Child Pornography and Sex Tourism Charges</td>\n",
       "      <td>An Alabama native was indicted today and charged with multiple crimes involving travel with intent to engage in illicit sexual conduct with minors and child pornography, announced Assistant Attorney General Leslie R. Caldwell of the Justice Department’s Criminal Division and U.S. Attorney Kenyen R. Brown of the Southern District of Alabama. Clarence Edward Evers Jr., aka Bud, a technology teacher employed by the Conecuh County, Alabama, Board of Education, was arrested on Feb. 11, 2016, and was charged today with five counts of travel with intent to engage in illicit sexual conduct with a minor, one count of attempted travel with intent to engage in illicit sexual conduct with a minor, one count of production and attempted production of child pornography, one count of transportation of child pornography, one count of receipt of child pornography, one count of access with intent to view child pornography and one count of possession of child pornography. According to the indictment, Evers allegedly traveled to Thailand in the summers of 2010 through 2014 for the purpose of engaging in illicit sexual conduct with a minor and allegedly attempted to make a similar trip in the spring of 2015.  During the 2014 trip, Evers also allegedly photographed his victims’ abuse and then transported the images back to the United States.  In addition, Evers allegedly had other images of child sexual exploitation on his computers and other electronic devices. The charges contained in the indictment are only allegations.  Evers is presumed innocent unless and until he is proven guilty beyond a reasonable doubt in a court of law. ICE-HSI is investigating this case.  Trial Attorney James E. Burke IV of the Criminal Division’s Child Exploitation and Obscenity Section (CEOS) and Assistant U.S. Attorneys Sean P. Costello and Maria E. Murphy of the Southern District of Alabama are prosecuting the case. This case was brought as part of Project Safe Childhood, a nationwide initiative to combat the growing epidemic of child sexual exploitation and abuse launched in May 2006 by the Department of Justice.  Led by U.S. Attorneys’ Offices and CEOS, Project Safe Childhood marshals federal, state and local resources to better locate, apprehend and prosecute individuals who exploit children via the Internet, as well as to identify and rescue victims.  For more information about Project Safe Childhood, please visit www.justice.gov/psc.</td>\n",
       "      <td>2016-02-24T00:00:00-05:00</td>\n",
       "      <td>Project Safe Childhood</td>\n",
       "      <td>Criminal Division; Criminal - Child Exploitation and Obscenity Section; USAO - Alabama, Southern</td>\n",
       "    </tr>\n",
       "    <tr>\n",
       "      <th>162</th>\n",
       "      <td>16-381</td>\n",
       "      <td>Alabama Man Indicted for Producing Child Pornography Involving Multiple Victims</td>\n",
       "      <td>An Alabama man was indicted today by a federal grand jury in Birmingham, Alabama, on charges related to the production of child pornography involving four minor victims, announced Assistant Attorney General Leslie R. Caldwell of the Justice Department’s Criminal Division and U.S. Joyce White Vance of the Northern District of Alabama. Gregory Jerome Lee, 53, formerly of Cullman County, Alabama, was indicted on four counts of production of child pornography, one count of conspiracy to advertise child pornography and one count of conspiracy to distribute and receive child pornography. According to the indictment, from September 1996 through December 2004, Lee used, persuaded, coerced and enticed minors to engage in sexually explicit conduct in order to produce images of that conduct.  Between September 1996 and August 2007, Lee conspired with other individuals to distribute and receive child pornography through a variety of means, including the Internet. The U.S. Postal Inspection Service (USPIS) is investigating the case.  Trial Attorney Amy E. Larson of the Criminal Division’s Child Exploitation and Obscenity Section (CEOS) and Assistant U.S. Attorney Jacquelyn Hutzell of the Northern District of Alabama are prosecuting the case.  The charges and allegations contained in an indictment are merely accusations.  The defendant is presumed innocent unless and until proven guilty.  Members of the public who may have information related to this matter should call the USPIS Birmingham Office at (205) 326-2909. This case was brought as part of Project Safe Childhood, a nationwide initiative to combat the growing epidemic of child sexual exploitation and abuse launched in May 2006 by the Department of Justice.  Led by U.S. Attorneys’ Offices and CEOS, Project Safe Childhood marshals federal, state and local resources to better locate, apprehend and prosecute individuals who exploit children via the Internet, as well as to identify and rescue victims.  For more information about Project Safe Childhood, please visit www.justice.gov/psc.</td>\n",
       "      <td>2016-03-30T00:00:00-04:00</td>\n",
       "      <td>Project Safe Childhood</td>\n",
       "      <td>Criminal Division; Criminal - Child Exploitation and Obscenity Section; USAO - Alabama, Northern</td>\n",
       "    </tr>\n",
       "    <tr>\n",
       "      <th>168</th>\n",
       "      <td>14-464</td>\n",
       "      <td>Alabama Man Indicted for Threatening African-American Man and Another Person at Restaurant</td>\n",
       "      <td>Jeremy Heath Higgins was indicted for threatening an African-American man at a Quinton, Alabama, restaurant, and for threatening another person who ordered Higgins to leave the restaurant due to his behavior, Acting Assistant Attorney General Jocelyn Samuels for the Justice Department’s Civil Rights Division and U.S. Attorney Joyce Vance for the Northern District of Alabama announced today.   Higgins, 28, was charged in a three count indictment returned yesterday by a federal grand jury in the U.S. District Court for the Northern District of Alabama.  The indictment charges him with one felony count and two misdemeanor counts of interference with a federally-protected activity.  The indictment alleges that on June 14, 2013, Higgins approached and threatened an African-American man at the Alabama Rose Steakhouse because the man was present at the restaurant with a white woman.  According to the indictment, another person ordered Higgins to leave the premises of the restaurant because of Higgins’ behavior toward the African-American man, after which Higgins allegedly shouted a threat to burn down the restaurant.  The indictment further alleges that Higgins threatened the person who had ordered him to leave the restaurant by painting graffiti on the restaurant’s exterior and fence.     If convicted of the felony count of the indictment, Higgins could face a maximum sentence of 10 years in prison and a $250,000 fine.  For each of the misdemeanor charges, Higgins could face a maximum sentence of one year in prison and a $200,000 fine.   This case is being investigated by the FBI and is being prosecuted by Assistant U.S. Attorney Robin B. Mark of the Northern District of Alabama and Trial Attorney David Reese of the Justice Department’s Civil Rights Division. An indictment is merely an accusation, and the defendant is presumed innocent unless proven guilty.</td>\n",
       "      <td>2014-05-01T00:00:00-04:00</td>\n",
       "      <td>Hate Crimes</td>\n",
       "      <td>Civil Rights Division; Civil Rights - Criminal Section</td>\n",
       "    </tr>\n",
       "    <tr>\n",
       "      <th>...</th>\n",
       "      <td>...</td>\n",
       "      <td>...</td>\n",
       "      <td>...</td>\n",
       "      <td>...</td>\n",
       "      <td>...</td>\n",
       "      <td>...</td>\n",
       "    </tr>\n",
       "    <tr>\n",
       "      <th>13002</th>\n",
       "      <td>09-368</td>\n",
       "      <td>West Virginia Man Pleads Guilty on Federal Civil Rights Charges</td>\n",
       "      <td>WASHINGTON - Daryl Lee Fierce, 69, of Charleston, W.Va., pleaded guilty today to a civil rights charge in federal court in the Southern District of West Virginia for using fire to intimidate and interfere with a person’s housing rights. Fierce set fire to the victim’s home because African-American and biracial individuals visited the victim in her home. Pursuant to the plea agreement, Fierce faces up to 10 years in prison and a fine of up to $250,000. Sentencing is scheduled for July 30, 2009. According to documents filed in court, on or about July 16, 2007, Fierce admitted that he set fire to a home located on Noyes Avenue in Charleston because the tenant occupying the home, a white woman, associated with persons of another race and color. Fierce set fire to the outside wall of the victim’s bedroom at night as she slept. Fierce further admitted that before the incident he had used racial epithets against guests, including young children, who visited the victim’s home. \"Living in one’s home and associating with friends of one’s choosing, without violent interference because of race, is a core right of all persons in this country,\" said Loretta King, Acting Assistant Attorney General for Civil Rights. \"The defendant used violence against an innocent victim because of his racial prejudice. This is illegal, and despicable, and we will prosecute such crimes whenever and wherever they occur.\" The FBI, the Charleston Police Department and the Charleston Fire Department investigated this case. The case was prosecuted by James Walsh with the Justice Department’s Civil Rights Division and Lisa G. Johnson, Assistant U.S. Attorney for the Southern District of West Virginia.</td>\n",
       "      <td>2009-04-20T00:00:00-04:00</td>\n",
       "      <td>Hate Crimes</td>\n",
       "      <td>Civil Rights Division</td>\n",
       "    </tr>\n",
       "    <tr>\n",
       "      <th>13032</th>\n",
       "      <td>18-775</td>\n",
       "      <td>Wisconsin Man Indicted for Producing Child Pornography Outside of the United States</td>\n",
       "      <td>A Wisconsin man was charged in an indictment yesterday with the crimes of producing and possessing child pornography and engaging in illicit sexual conduct in a foreign place, announced Acting Assistant Attorney General John P. Cronan of the Justice Department’s Criminal Division and U.S. Attorney Matthew D. Krueger of the Eastern District of Wisconsin. Jeffrey H. Ernisse, 61, is currently incarcerated for state offenses related to child exploitation at the Red Granite Correctional Institution in Wisconsin.  A grand jury in the U.S. District Court for the Eastern District of Wisconsin indicted Ernisse on two counts of producing child pornography, two counts of producing child pornography outside of the United States, one count of engaging in illicit sexual conduct with a minor in the Philippines and one count of possessing child pornography. According to the indictment, on or about March 10, 2015 and then again, on or about April 7, 2015, Ernisse used a minor to engage in sexually explicit conduct for the purpose of producing child pornography.  Between approximately June 17, 2014, and approximately April 11, 2015, Ernisse engaged in illicit sexual conduct with a minor in the Republic of the Philippines.  And on or about Dec. 18, 2015, Ernisse possessed child pornography. The charges contained in the indictment are merely allegations.  The defendant is presumed innocent until proven guilty beyond a reasonable doubt in a court of law.                  U.S. Immigration and Customs Enforcement’s Homeland Security Investigations (HSI) is investigating this case with the cooperation of the Sheboygan, Wisconsin, Police Department.  Trial Attorney William M. Grady of the Criminal Division’s Child Exploitation and Obscenity Section (CEOS) and Assistant U.S. Attorneys Megan J. Paulson and Penelope L. Coblentz of the Eastern District of Wisconsin are prosecuting the case. This investigation is a part of Project Safe Childhood, a nationwide initiative to combat the growing epidemic of child sexual exploitation and abuse launched in May 2006 by the Department of Justice.  Led by U.S. Attorneys’ Offices and CEOS, Project Safe Childhood marshals federal, state, and local resources to better locate, apprehend, and prosecute individuals who exploit children via the Internet, as well as to identify and rescue victims.  For more information about Project Safe Childhood, please visit www.justice.gov/psc.</td>\n",
       "      <td>2018-06-13T00:00:00-04:00</td>\n",
       "      <td>Project Safe Childhood</td>\n",
       "      <td>Criminal Division; Criminal - Child Exploitation and Obscenity Section</td>\n",
       "    </tr>\n",
       "    <tr>\n",
       "      <th>13034</th>\n",
       "      <td>12-596</td>\n",
       "      <td>Wisconsin Man Pleads Guilty to Sexual Exploitation of a Minor in Belize</td>\n",
       "      <td>WASHINGTON – A Wisconsin man pleaded guilty today in federal court in Milwaukee to traveling in foreign commerce and engaging in and attempting to engage in illicit sexual conduct with a minor, announced Assistant Attorney General Lanny A. Breuer of the Justice Department’s Criminal Division; U.S. Attorney James L. Santelle of the Eastern District of Wisconsin; John Morton, Director of U.S. Immigration and Customs Enforcement (ICE); and Scott Bultrowicz, Director of the U.S. State Department’s Diplomatic Security Service (DSS).    Roland J. Flath, 72, pleaded guilty before U.S. District Judge J.P. Stadtmueller.   According to court documents, Flath, of Fond du Lac, Wis., traveled to Belize in July 2006, and subsequently sexually molested a minor girl from Belize.  Flath was originally charged by a criminal complaint filed in the Eastern District of Wisconsin in October 2010.  He was arrested by the Guatemalan National Civil Police on Feb. 20, 2011, expelled to the United States and arrested in the United States by ICE agents and the U.S. Marshal Service.  Flath was indicted on March 22, 2011, by a grand jury sitting in the Eastern District of Wisconsin.   Flath faces a maximum penalty of up to 30 years in prison and a fine of $250,000.   This case was brought as part of Project Safe Childhood, a nationwide initiative to combat the growing epidemic of child sexual exploitation and abuse launched in May 2006 by the Department of Justice.  Led by U.S. Attorneys’ Offices and the Criminal Division’s Child Exploitation and Obscenity Section (CEOS), Project Safe Childhood marshals federal, state and local resources to better locate, apprehend and prosecute individuals who exploit children, as well as to identify and rescue victims.  For more information about Project Safe Childhood, please visit www.projectsafechildhood.gov.   This case is being prosecuted by Assistant U.S. Attorney Penelope Coblentz of the Eastern District of Wisconsin and Trial Attorney Mi Yung Park of CEOS.  Assistance was provided by the Office of International Affairs in the Justice Department’s Criminal Division.  This case is a result of investigative efforts led by ICE Homeland Security Investigations (HSI) in Milwaukee and the DSS’s Regional Security Office in Belize, CEOS’s High Technology Investigative Unit, and the Belize Police Department.</td>\n",
       "      <td>2012-05-09T00:00:00-04:00</td>\n",
       "      <td>Project Safe Childhood</td>\n",
       "      <td>Criminal Division</td>\n",
       "    </tr>\n",
       "    <tr>\n",
       "      <th>13068</th>\n",
       "      <td>18-359</td>\n",
       "      <td>Wyoming Military Department Found Liable for Subjecting Employee to Sexual Harassment</td>\n",
       "      <td>The Justice Department today announced that on March 21, 2018, a federal district court in Casper, Wyoming, found that the Wyoming Military Department (WMD) discriminated against former employee Amanda Dykes by subjecting her to sexual harassment and constructively discharging her.  The verdict was returned after a July 2017 bench trial during which the Justice Department produced evidence that the defendant violated Title VII of the Civil Rights Act of 1964, which prohibits discrimination on the basis of race, color, national origin, sex, and religion.   The evidence produced at trial showed that Dykes was subjected to sexual harassment by her direct supervisor, former employee Don Smith, when both worked at WMD’s Wyoming Youth Challenge Program.  Smith subjected Dykes to persistent, unwelcomed conduct including poems, songs, and emails professing his affection and love for her as well as constant visits to her office.  These intensified to such a degree that Dykes asked her subordinates to help her avoid being left alone with her supervisor.      Dykes reported the supervisor’s conduct to her employer’s human resources department as well as to his direct supervisor, but received no assistance in remedying the harassment.  The court found that harassing behavior persisted for over 18 months despite Dykes’ numerous complaints, that no reasonable employee could be expected to remain in her job under these circumstances, and that Dykes had no choice but to resign her position in September 2011 to avoid the continued harassment.    The district court ordered WMD to pay $221,030.62 to Dykes for the salary and benefits she lost as a result of her constructive discharge.    This judgment represents the first successful sexual harassment trial verdict obtained in a Title VII case since the launch of the Civil Rights Division’s Sexual Harassment in the Workplace Initiative (SHWI), which focuses on workplace sexual harassment in the public sector.   As part of the Initiative, the Justice Department will continue to bring sex discrimination claims against state and local government employers with a renewed emphasis on sexual harassment charges.  The Department will also work to develop effective remedial measures that can be used to hold public sector employers accountable where Title VII violations have been found, including identifying changes to existing employer practices and policies that will result in safe work environments.  More information about the Civil Rights’ Division’s Sexual Harassment in the Workplace Initiative can be found here.   “The Justice Department vigorously enforces Title VII to ensure that people can work free from sexual harassment and retaliation,” said Acting Assistant Attorney General John Gore  of the Civil Rights Division.  “The verdict sends the clear message that this Justice Department will continue to effectively combat sex-based discrimination whenever it occurs in a public sector workplace.”   Dykes originally filed her sexual harassment charge against the WMD with the Denver Field Office of the Equal Employment Opportunity Commission (EEOC), which investigated and determined that there was reasonable cause to believe that discrimination had occurred and referred the matters to the Department of Justice.             More information about Title VII and other federal employment laws is available at the division’s Employment Litigation Section website.  The continued enforcement of Title VII is a priority of the Civil Rights Division.  Additional information about the Civil Rights Division of the Department of Justice is available on the division website.    EEOC enforces federal laws prohibiting employment discrimination. Further information about EEOC is available on its website.    The United States was represented in this case by Robert Galbreath, Torie Atkinson, Brian McEntire, and Patty Stasco.</td>\n",
       "      <td>2018-03-23T00:00:00-04:00</td>\n",
       "      <td>Civil Rights</td>\n",
       "      <td>Civil Rights Division; Civil Rights - Employment Litigation Section; USAO - Wyoming</td>\n",
       "    </tr>\n",
       "    <tr>\n",
       "      <th>13081</th>\n",
       "      <td>14-1377</td>\n",
       "      <td>Yuba City, California, Man Sentenced to 46 Months in Prison for Racially Motivated Attack on White Man and African-American Woman</td>\n",
       "      <td>Anthony Merrell Tyler, 34, of Yuba City, California, was sentenced today by U.S. District Court Judge John A. Mendez to serve 46 months in prison for violating the Matthew Shepard and James Byrd Jr. Hate Crimes Prevention Act.  The crime involved a racially motivated attack by Tyler and two co-defendants, Billy Hammett, 30, and Perry Jackson, 29, on a white man and an African-American woman in Marysville, California, in 2011.  In addition to his term of incarceration, Tyler was ordered to serve three years of supervised release upon his release from prison and to pay $175 in restitution. According to documents filed with the court, around 10:45 p.m. on April 18, 2011, a white man and an African-American woman parked their car at a convenience store in Marysville.  Shortly afterward, the three defendants attacked the man and woman because of their race.  Jackson punched him twice in the head through the open passenger window.  At the same time, Hammett opened the driver-side door and kicked the woman in the chest.  Seconds later, Tyler smashed the car’s windshield with a crowbar, sending shattered glass into the passenger compartment.  As the attack continued, the woman managed to take refuge inside the convenience store and the man struggled to get away.  All three assailants then descended upon the male victim and began attacking him in the parking lot.  He sustained abrasions on his right forearm and knees, while the woman suffered bruising to her chest.  None of the defendants knew their victims.  In today’s hearing, and during Hammett and Jackson’s proceedings, Judge Mendez considered the defendants’ backgrounds and criminal histories.  Tyler has the words “white pride” tattooed down the backs of his arms and a swastika on his left upper arm.  He has previously acknowledged being a member of the Yuba County Peckerwoods, a local white supremacist group.  Hammett, who has a tattoo of the words “white power” across his abdomen, was previously convicted for the unprovoked assault on a 72-year-old African-American man and was sentenced on March 25, 2014, to 87 months in prison.  Jackson, who has the words “white power” tattooed in block letters down his shins, was sentenced on April 29, 2014, to 70 months in prison.  Tyler entered his guilty plea on March 11, 2014. “These three defendants targeted the victims because of their race,” said Acting Assistant Attorney General Vanita Gupta for the Civil Rights Division.  “This type of attack causes harm not only to the immediate victims, but tears at the fabric of our communities and society itself.  The department will continue to vigorously prosecute such acts of racial violence.” “Racially motivated violence not only threatens the harmony of our diverse communities, it undermines the principle of equality under law, which is a foundation of our society,” said U.S. Attorney Benjamin B. Wagner for the Eastern District of California.  “For these reasons, prosecuting hate crimes will continue to be one of our highest priorities.” This case was investigated by the FBI, with assistance from the Yuba County Sheriff’s Office and the Yuba County District Attorney’s Office.  The case was prosecuted by U.S. Attorney Wagner and Trial Attorney Chiraag Bains of the Justice Department’s Civil Rights Division.</td>\n",
       "      <td>2014-12-09T00:00:00-05:00</td>\n",
       "      <td>Hate Crimes</td>\n",
       "      <td>Civil Rights Division; Civil Rights - Criminal Section; Civil Rights - Housing and Civil Enforcement Section</td>\n",
       "    </tr>\n",
       "  </tbody>\n",
       "</table>\n",
       "<p>717 rows × 6 columns</p>\n",
       "</div>"
      ],
      "text/plain": [
       "            id  \\\n",
       "77     17-1235   \n",
       "155    15-1522   \n",
       "157     16-213   \n",
       "162     16-381   \n",
       "168     14-464   \n",
       "...        ...   \n",
       "13002   09-368   \n",
       "13032   18-775   \n",
       "13034   12-596   \n",
       "13068   18-359   \n",
       "13081  14-1377   \n",
       "\n",
       "                                                                                                                                   title  \\\n",
       "77              Additional Former Correctional Officer Pleads Guilty to Beating of Handcuffed and Shackled Inmate at Angola State Prison   \n",
       "155                                                                       Alabama Man Found Guilty of Aggravated Sexual Abuse of a Child   \n",
       "157                                                                   Alabama Man Indicted on Child Pornography and Sex Tourism Charges    \n",
       "162                                                      Alabama Man Indicted for Producing Child Pornography Involving Multiple Victims   \n",
       "168                                           Alabama Man Indicted for Threatening African-American Man and Another Person at Restaurant   \n",
       "...                                                                                                                                  ...   \n",
       "13002                                                                    West Virginia Man Pleads Guilty on Federal Civil Rights Charges   \n",
       "13032                                                Wisconsin Man Indicted for Producing Child Pornography Outside of the United States   \n",
       "13034                                                            Wisconsin Man Pleads Guilty to Sexual Exploitation of a Minor in Belize   \n",
       "13068                                             Wyoming Military Department Found Liable for Subjecting Employee to Sexual Harassment    \n",
       "13081  Yuba City, California, Man Sentenced to 46 Months in Prison for Racially Motivated Attack on White Man and African-American Woman   \n",
       "\n",
       "                                                                                                                                                                                                                                                                                                                                                                                                                                                                                                                                                                                                                                                                                                                                                                                                                                                                                                                                                                                                                                                                                                                                                                                                                                                                                                                                                                                                                                                                                                                                                                                                                                                                                                                                                                                                                                                                                                                                                                                                                                                                                                                                                                                                                                                                                                                                                                                                                                                                                                                                                                                                                                                                                                                                                                                                                                                                                                                                                                                                                                                                                                                                                                                                                                                                                                                                                                                                                                                                                                                                                                                                                                                                                                                                                                                                                                                                                                                                                                                                                                                          contents  \\\n",
       "77                                                                                                                                                                                                                                                                                                                                                                                                                                                                                                                                                                                                                                                                                                                                                                                                                                                                                                                                                                                                                                                                                                                                                                                                                                                                                                                                                                                                                                                                                                                                                                                                                                                                                                                                                                                                                                                                                                                                                    A former supervisory correctional officer at Louisiana State Penitentiary in Angola, Louisiana, pleaded guilty yesterday in connection with the beating of a handcuffed and shackled inmate, in addition to conspiring to cover up their misconduct by falsifying official records and lying to internal investigators about what happened.     James Savoy, 39, of Marksville, Louisiana, admitted during his plea hearing that he witnessed other officers using excessive force against the inmate and failed to intervene; that he conspired with other officers to cover up the beating by engaging in a variety of obstructive acts; and that he personally falsified official prison records to cover up the attack.   Scotty Kennedy, 48, of Beebe, Arkansas, and John Sanders, 30, of Marksville, Louisiana previously pleaded guilty in November 2016, and September 2017, for their roles in the beating and cover up.   “Every citizen has the right to due process and protection from unreasonable force, and correctional officers who violate these basic Constitutional rights must be held accountable for their egregious actions” said Acting Assistant Attorney General John Gore of the Civil Rights Division.  “The Justice Department will continue to vigorously prosecute correctional officers who violate the public’s trust by committing crimes and to covering up violations of federal criminal law.”   “Yesterday is another example of our office’s unwavering commitment to pursuing those who violate the federal criminal civil rights laws,” said Acting United States Attorney for the Middle District of Louisiana Corey Amundson. “We will continue to work closely with the Justice Department’s Civil Rights Division and the FBI to ensure that no one is above the law.”     This case is being investigated by the FBI’s Baton Rouge Resident Agency and is being prosecuted by Assistant U.S. Attorney Frederick A. Menner, Jr. of the Middle District of Louisiana and Trial Attorney Christopher J. Perras of the Civil Rights Division’s Criminal Section.   \n",
       "155                                                                                                                                                                                                                                                                                                                                                                                                                                                                                                                                                                                                                                                                                                                                                                                                                                                                                                                                                                                                                                                                                                                                                                                                                                                                                                                                                                                                                                                                                                                                                                                                                                                                                                                                                                                                                                                                                                                                                                                                                                                                                                                                                                                                                                                                                                                                                                                                     A federal jury convicted Rick Lee Evans, 43, of Anniston, Alabama, today of aggravated sexual abuse of a child after a five-day trial, Assistant Attorney General Leslie R. Caldwell of the Justice Department’s Criminal Division and U.S. Attorney Joyce White Vance of the Northern District of Alabama announced.  According to evidence introduced at trial, Evans, a former U.S. Army soldier, and his then-wife, a Department of Defense employee, were residing in Germany when they were asked to take temporary custody of a five-year-old child whose parents were deployed to Iraq with the U.S. Army.  Evans sexually abused the child on multiple occasions during the 18 months that the child lived with him from May 2007 to December 2008.  Trial Attorney Austin M. Berry of the Criminal Division’s Child Exploitation and Obscenity Section (CEOS) and Assistant U.S. Attorney Jacquelyn Hutzell of the Northern District of Alabama are prosecuting the case.  U.S. Army Criminal Investigations Division and the FBI’s Birmingham, Alabama, Division investigated the case. This case was brought as part of Project Safe Childhood, a nationwide initiative to combat the growing epidemic of child sexual exploitation and abuse, launched in May 2006 by the Department of Justice.  Led by U.S. Attorneys’ offices and CEOS, Project Safe Childhood marshals federal, state and local resources to better locate, apprehend and prosecute individuals who exploit children via the Internet, as well as to identify and rescue victims.  For more information about Project Safe Childhood, please visit www.justice.gov/psc.     \n",
       "157                                                                                                                                                                                                                                                                                                                                                                                                                                                                                                                                                                                                                                                                                                                                                                                                                                                                                                                                                                                                                                                                                                                                                                                                                                                                                                                                                                                                                                                                                                                      An Alabama native was indicted today and charged with multiple crimes involving travel with intent to engage in illicit sexual conduct with minors and child pornography, announced Assistant Attorney General Leslie R. Caldwell of the Justice Department’s Criminal Division and U.S. Attorney Kenyen R. Brown of the Southern District of Alabama. Clarence Edward Evers Jr., aka Bud, a technology teacher employed by the Conecuh County, Alabama, Board of Education, was arrested on Feb. 11, 2016, and was charged today with five counts of travel with intent to engage in illicit sexual conduct with a minor, one count of attempted travel with intent to engage in illicit sexual conduct with a minor, one count of production and attempted production of child pornography, one count of transportation of child pornography, one count of receipt of child pornography, one count of access with intent to view child pornography and one count of possession of child pornography. According to the indictment, Evers allegedly traveled to Thailand in the summers of 2010 through 2014 for the purpose of engaging in illicit sexual conduct with a minor and allegedly attempted to make a similar trip in the spring of 2015.  During the 2014 trip, Evers also allegedly photographed his victims’ abuse and then transported the images back to the United States.  In addition, Evers allegedly had other images of child sexual exploitation on his computers and other electronic devices. The charges contained in the indictment are only allegations.  Evers is presumed innocent unless and until he is proven guilty beyond a reasonable doubt in a court of law. ICE-HSI is investigating this case.  Trial Attorney James E. Burke IV of the Criminal Division’s Child Exploitation and Obscenity Section (CEOS) and Assistant U.S. Attorneys Sean P. Costello and Maria E. Murphy of the Southern District of Alabama are prosecuting the case. This case was brought as part of Project Safe Childhood, a nationwide initiative to combat the growing epidemic of child sexual exploitation and abuse launched in May 2006 by the Department of Justice.  Led by U.S. Attorneys’ Offices and CEOS, Project Safe Childhood marshals federal, state and local resources to better locate, apprehend and prosecute individuals who exploit children via the Internet, as well as to identify and rescue victims.  For more information about Project Safe Childhood, please visit www.justice.gov/psc.   \n",
       "162                                                                                                                                                                                                                                                                                                                                                                                                                                                                                                                                                                                                                                                                                                                                                                                                                                                                                                                                                                                                                                                                                                                                                                                                                                                                                                                                                                                                                                                                                                                                                                                                                                                                                                                                                                                                                                                                                                                    An Alabama man was indicted today by a federal grand jury in Birmingham, Alabama, on charges related to the production of child pornography involving four minor victims, announced Assistant Attorney General Leslie R. Caldwell of the Justice Department’s Criminal Division and U.S. Joyce White Vance of the Northern District of Alabama. Gregory Jerome Lee, 53, formerly of Cullman County, Alabama, was indicted on four counts of production of child pornography, one count of conspiracy to advertise child pornography and one count of conspiracy to distribute and receive child pornography. According to the indictment, from September 1996 through December 2004, Lee used, persuaded, coerced and enticed minors to engage in sexually explicit conduct in order to produce images of that conduct.  Between September 1996 and August 2007, Lee conspired with other individuals to distribute and receive child pornography through a variety of means, including the Internet. The U.S. Postal Inspection Service (USPIS) is investigating the case.  Trial Attorney Amy E. Larson of the Criminal Division’s Child Exploitation and Obscenity Section (CEOS) and Assistant U.S. Attorney Jacquelyn Hutzell of the Northern District of Alabama are prosecuting the case.  The charges and allegations contained in an indictment are merely accusations.  The defendant is presumed innocent unless and until proven guilty.  Members of the public who may have information related to this matter should call the USPIS Birmingham Office at (205) 326-2909. This case was brought as part of Project Safe Childhood, a nationwide initiative to combat the growing epidemic of child sexual exploitation and abuse launched in May 2006 by the Department of Justice.  Led by U.S. Attorneys’ Offices and CEOS, Project Safe Childhood marshals federal, state and local resources to better locate, apprehend and prosecute individuals who exploit children via the Internet, as well as to identify and rescue victims.  For more information about Project Safe Childhood, please visit www.justice.gov/psc.   \n",
       "168                                                                                                                                                                                                                                                                                                                                                                                                                                                                                                                                                                                                                                                                                                                                                                                                                                                                                                                                                                                                                                                                                                                                                                                                                                                                                                                                                                                                                                                                                                                                                                                                                                                                                                                                                                                                                                                                                                                                                                                                                                                                                                  Jeremy Heath Higgins was indicted for threatening an African-American man at a Quinton, Alabama, restaurant, and for threatening another person who ordered Higgins to leave the restaurant due to his behavior, Acting Assistant Attorney General Jocelyn Samuels for the Justice Department’s Civil Rights Division and U.S. Attorney Joyce Vance for the Northern District of Alabama announced today.   Higgins, 28, was charged in a three count indictment returned yesterday by a federal grand jury in the U.S. District Court for the Northern District of Alabama.  The indictment charges him with one felony count and two misdemeanor counts of interference with a federally-protected activity.  The indictment alleges that on June 14, 2013, Higgins approached and threatened an African-American man at the Alabama Rose Steakhouse because the man was present at the restaurant with a white woman.  According to the indictment, another person ordered Higgins to leave the premises of the restaurant because of Higgins’ behavior toward the African-American man, after which Higgins allegedly shouted a threat to burn down the restaurant.  The indictment further alleges that Higgins threatened the person who had ordered him to leave the restaurant by painting graffiti on the restaurant’s exterior and fence.     If convicted of the felony count of the indictment, Higgins could face a maximum sentence of 10 years in prison and a $250,000 fine.  For each of the misdemeanor charges, Higgins could face a maximum sentence of one year in prison and a $200,000 fine.   This case is being investigated by the FBI and is being prosecuted by Assistant U.S. Attorney Robin B. Mark of the Northern District of Alabama and Trial Attorney David Reese of the Justice Department’s Civil Rights Division. An indictment is merely an accusation, and the defendant is presumed innocent unless proven guilty.     \n",
       "...                                                                                                                                                                                                                                                                                                                                                                                                                                                                                                                                                                                                                                                                                                                                                                                                                                                                                                                                                                                                                                                                                                                                                                                                                                                                                                                                                                                                                                                                                                                                                                                                                                                                                                                                                                                                                                                                                                                                                                                                                                                                                                                                                                                                                                                                                                                                                                                                                                                                                                                                                                                                                                                                                                                                                                                                                                                                                                                                                                                                                                                                                                                                                                                                                                                                                                                                                                                                                                                                                                                                                                                                                                                                                                                                                                                                                                                                                                                                                                                                                                                            ...   \n",
       "13002                                                                                                                                                                                                                                                                                                                                                                                                                                                                                                                                                                                                                                                                                                                                                                                                                                                                                                                                                                                                                                                                                                                                                                                                                                                                                                                                                                                                                                                                                                                                                                                                                                                                                                                                                                                                                                                                                                                                                                                                                                                                                                                                                                                                                                                                                                  WASHINGTON - Daryl Lee Fierce, 69, of Charleston, W.Va., pleaded guilty today to a civil rights charge in federal court in the Southern District of West Virginia for using fire to intimidate and interfere with a person’s housing rights. Fierce set fire to the victim’s home because African-American and biracial individuals visited the victim in her home. Pursuant to the plea agreement, Fierce faces up to 10 years in prison and a fine of up to $250,000. Sentencing is scheduled for July 30, 2009. According to documents filed in court, on or about July 16, 2007, Fierce admitted that he set fire to a home located on Noyes Avenue in Charleston because the tenant occupying the home, a white woman, associated with persons of another race and color. Fierce set fire to the outside wall of the victim’s bedroom at night as she slept. Fierce further admitted that before the incident he had used racial epithets against guests, including young children, who visited the victim’s home. \"Living in one’s home and associating with friends of one’s choosing, without violent interference because of race, is a core right of all persons in this country,\" said Loretta King, Acting Assistant Attorney General for Civil Rights. \"The defendant used violence against an innocent victim because of his racial prejudice. This is illegal, and despicable, and we will prosecute such crimes whenever and wherever they occur.\" The FBI, the Charleston Police Department and the Charleston Fire Department investigated this case. The case was prosecuted by James Walsh with the Justice Department’s Civil Rights Division and Lisa G. Johnson, Assistant U.S. Attorney for the Southern District of West Virginia.   \n",
       "13032                                                                                                                                                                                                                                                                                                                                                                                                                                                                                                                                                                                                                                                                                                                                                                                                                                                                                                                                                                                                                                                                                                                                                                                                                                                                                                                                                                                                                                                                                                                                 A Wisconsin man was charged in an indictment yesterday with the crimes of producing and possessing child pornography and engaging in illicit sexual conduct in a foreign place, announced Acting Assistant Attorney General John P. Cronan of the Justice Department’s Criminal Division and U.S. Attorney Matthew D. Krueger of the Eastern District of Wisconsin. Jeffrey H. Ernisse, 61, is currently incarcerated for state offenses related to child exploitation at the Red Granite Correctional Institution in Wisconsin.  A grand jury in the U.S. District Court for the Eastern District of Wisconsin indicted Ernisse on two counts of producing child pornography, two counts of producing child pornography outside of the United States, one count of engaging in illicit sexual conduct with a minor in the Philippines and one count of possessing child pornography. According to the indictment, on or about March 10, 2015 and then again, on or about April 7, 2015, Ernisse used a minor to engage in sexually explicit conduct for the purpose of producing child pornography.  Between approximately June 17, 2014, and approximately April 11, 2015, Ernisse engaged in illicit sexual conduct with a minor in the Republic of the Philippines.  And on or about Dec. 18, 2015, Ernisse possessed child pornography. The charges contained in the indictment are merely allegations.  The defendant is presumed innocent until proven guilty beyond a reasonable doubt in a court of law.                  U.S. Immigration and Customs Enforcement’s Homeland Security Investigations (HSI) is investigating this case with the cooperation of the Sheboygan, Wisconsin, Police Department.  Trial Attorney William M. Grady of the Criminal Division’s Child Exploitation and Obscenity Section (CEOS) and Assistant U.S. Attorneys Megan J. Paulson and Penelope L. Coblentz of the Eastern District of Wisconsin are prosecuting the case. This investigation is a part of Project Safe Childhood, a nationwide initiative to combat the growing epidemic of child sexual exploitation and abuse launched in May 2006 by the Department of Justice.  Led by U.S. Attorneys’ Offices and CEOS, Project Safe Childhood marshals federal, state, and local resources to better locate, apprehend, and prosecute individuals who exploit children via the Internet, as well as to identify and rescue victims.  For more information about Project Safe Childhood, please visit www.justice.gov/psc.   \n",
       "13034                                                                                                                                                                                                                                                                                                                                                                                                                                                                                                                                                                                                                                                                                                                                                                                                                                                                                                                                                                                                                                                                                                                                                                                                                                                                                                                                                                                                                                                                                                                                                                                                     WASHINGTON – A Wisconsin man pleaded guilty today in federal court in Milwaukee to traveling in foreign commerce and engaging in and attempting to engage in illicit sexual conduct with a minor, announced Assistant Attorney General Lanny A. Breuer of the Justice Department’s Criminal Division; U.S. Attorney James L. Santelle of the Eastern District of Wisconsin; John Morton, Director of U.S. Immigration and Customs Enforcement (ICE); and Scott Bultrowicz, Director of the U.S. State Department’s Diplomatic Security Service (DSS).    Roland J. Flath, 72, pleaded guilty before U.S. District Judge J.P. Stadtmueller.   According to court documents, Flath, of Fond du Lac, Wis., traveled to Belize in July 2006, and subsequently sexually molested a minor girl from Belize.  Flath was originally charged by a criminal complaint filed in the Eastern District of Wisconsin in October 2010.  He was arrested by the Guatemalan National Civil Police on Feb. 20, 2011, expelled to the United States and arrested in the United States by ICE agents and the U.S. Marshal Service.  Flath was indicted on March 22, 2011, by a grand jury sitting in the Eastern District of Wisconsin.   Flath faces a maximum penalty of up to 30 years in prison and a fine of $250,000.   This case was brought as part of Project Safe Childhood, a nationwide initiative to combat the growing epidemic of child sexual exploitation and abuse launched in May 2006 by the Department of Justice.  Led by U.S. Attorneys’ Offices and the Criminal Division’s Child Exploitation and Obscenity Section (CEOS), Project Safe Childhood marshals federal, state and local resources to better locate, apprehend and prosecute individuals who exploit children, as well as to identify and rescue victims.  For more information about Project Safe Childhood, please visit www.projectsafechildhood.gov.   This case is being prosecuted by Assistant U.S. Attorney Penelope Coblentz of the Eastern District of Wisconsin and Trial Attorney Mi Yung Park of CEOS.  Assistance was provided by the Office of International Affairs in the Justice Department’s Criminal Division.  This case is a result of investigative efforts led by ICE Homeland Security Investigations (HSI) in Milwaukee and the DSS’s Regional Security Office in Belize, CEOS’s High Technology Investigative Unit, and the Belize Police Department.          \n",
       "13068  The Justice Department today announced that on March 21, 2018, a federal district court in Casper, Wyoming, found that the Wyoming Military Department (WMD) discriminated against former employee Amanda Dykes by subjecting her to sexual harassment and constructively discharging her.  The verdict was returned after a July 2017 bench trial during which the Justice Department produced evidence that the defendant violated Title VII of the Civil Rights Act of 1964, which prohibits discrimination on the basis of race, color, national origin, sex, and religion.   The evidence produced at trial showed that Dykes was subjected to sexual harassment by her direct supervisor, former employee Don Smith, when both worked at WMD’s Wyoming Youth Challenge Program.  Smith subjected Dykes to persistent, unwelcomed conduct including poems, songs, and emails professing his affection and love for her as well as constant visits to her office.  These intensified to such a degree that Dykes asked her subordinates to help her avoid being left alone with her supervisor.      Dykes reported the supervisor’s conduct to her employer’s human resources department as well as to his direct supervisor, but received no assistance in remedying the harassment.  The court found that harassing behavior persisted for over 18 months despite Dykes’ numerous complaints, that no reasonable employee could be expected to remain in her job under these circumstances, and that Dykes had no choice but to resign her position in September 2011 to avoid the continued harassment.    The district court ordered WMD to pay $221,030.62 to Dykes for the salary and benefits she lost as a result of her constructive discharge.    This judgment represents the first successful sexual harassment trial verdict obtained in a Title VII case since the launch of the Civil Rights Division’s Sexual Harassment in the Workplace Initiative (SHWI), which focuses on workplace sexual harassment in the public sector.   As part of the Initiative, the Justice Department will continue to bring sex discrimination claims against state and local government employers with a renewed emphasis on sexual harassment charges.  The Department will also work to develop effective remedial measures that can be used to hold public sector employers accountable where Title VII violations have been found, including identifying changes to existing employer practices and policies that will result in safe work environments.  More information about the Civil Rights’ Division’s Sexual Harassment in the Workplace Initiative can be found here.   “The Justice Department vigorously enforces Title VII to ensure that people can work free from sexual harassment and retaliation,” said Acting Assistant Attorney General John Gore  of the Civil Rights Division.  “The verdict sends the clear message that this Justice Department will continue to effectively combat sex-based discrimination whenever it occurs in a public sector workplace.”   Dykes originally filed her sexual harassment charge against the WMD with the Denver Field Office of the Equal Employment Opportunity Commission (EEOC), which investigated and determined that there was reasonable cause to believe that discrimination had occurred and referred the matters to the Department of Justice.             More information about Title VII and other federal employment laws is available at the division’s Employment Litigation Section website.  The continued enforcement of Title VII is a priority of the Civil Rights Division.  Additional information about the Civil Rights Division of the Department of Justice is available on the division website.    EEOC enforces federal laws prohibiting employment discrimination. Further information about EEOC is available on its website.    The United States was represented in this case by Robert Galbreath, Torie Atkinson, Brian McEntire, and Patty Stasco.   \n",
       "13081                                                                                                                                                                                                                                                                                                                                                                                                                                                                                                                                                                                                                         Anthony Merrell Tyler, 34, of Yuba City, California, was sentenced today by U.S. District Court Judge John A. Mendez to serve 46 months in prison for violating the Matthew Shepard and James Byrd Jr. Hate Crimes Prevention Act.  The crime involved a racially motivated attack by Tyler and two co-defendants, Billy Hammett, 30, and Perry Jackson, 29, on a white man and an African-American woman in Marysville, California, in 2011.  In addition to his term of incarceration, Tyler was ordered to serve three years of supervised release upon his release from prison and to pay $175 in restitution. According to documents filed with the court, around 10:45 p.m. on April 18, 2011, a white man and an African-American woman parked their car at a convenience store in Marysville.  Shortly afterward, the three defendants attacked the man and woman because of their race.  Jackson punched him twice in the head through the open passenger window.  At the same time, Hammett opened the driver-side door and kicked the woman in the chest.  Seconds later, Tyler smashed the car’s windshield with a crowbar, sending shattered glass into the passenger compartment.  As the attack continued, the woman managed to take refuge inside the convenience store and the man struggled to get away.  All three assailants then descended upon the male victim and began attacking him in the parking lot.  He sustained abrasions on his right forearm and knees, while the woman suffered bruising to her chest.  None of the defendants knew their victims.  In today’s hearing, and during Hammett and Jackson’s proceedings, Judge Mendez considered the defendants’ backgrounds and criminal histories.  Tyler has the words “white pride” tattooed down the backs of his arms and a swastika on his left upper arm.  He has previously acknowledged being a member of the Yuba County Peckerwoods, a local white supremacist group.  Hammett, who has a tattoo of the words “white power” across his abdomen, was previously convicted for the unprovoked assault on a 72-year-old African-American man and was sentenced on March 25, 2014, to 87 months in prison.  Jackson, who has the words “white power” tattooed in block letters down his shins, was sentenced on April 29, 2014, to 70 months in prison.  Tyler entered his guilty plea on March 11, 2014. “These three defendants targeted the victims because of their race,” said Acting Assistant Attorney General Vanita Gupta for the Civil Rights Division.  “This type of attack causes harm not only to the immediate victims, but tears at the fabric of our communities and society itself.  The department will continue to vigorously prosecute such acts of racial violence.” “Racially motivated violence not only threatens the harmony of our diverse communities, it undermines the principle of equality under law, which is a foundation of our society,” said U.S. Attorney Benjamin B. Wagner for the Eastern District of California.  “For these reasons, prosecuting hate crimes will continue to be one of our highest priorities.” This case was investigated by the FBI, with assistance from the Yuba County Sheriff’s Office and the Yuba County District Attorney’s Office.  The case was prosecuted by U.S. Attorney Wagner and Trial Attorney Chiraag Bains of the Justice Department’s Civil Rights Division.   \n",
       "\n",
       "                            date            topics_clean  \\\n",
       "77     2017-11-02T00:00:00-04:00            Civil Rights   \n",
       "155    2015-12-11T00:00:00-05:00  Project Safe Childhood   \n",
       "157    2016-02-24T00:00:00-05:00  Project Safe Childhood   \n",
       "162    2016-03-30T00:00:00-04:00  Project Safe Childhood   \n",
       "168    2014-05-01T00:00:00-04:00             Hate Crimes   \n",
       "...                          ...                     ...   \n",
       "13002  2009-04-20T00:00:00-04:00             Hate Crimes   \n",
       "13032  2018-06-13T00:00:00-04:00  Project Safe Childhood   \n",
       "13034  2012-05-09T00:00:00-04:00  Project Safe Childhood   \n",
       "13068  2018-03-23T00:00:00-04:00            Civil Rights   \n",
       "13081  2014-12-09T00:00:00-05:00             Hate Crimes   \n",
       "\n",
       "                                                                                                   components_clean  \n",
       "77                                                                  Civil Rights Division; USAO - Louisiana, Middle  \n",
       "155                Criminal Division; Criminal - Child Exploitation and Obscenity Section; USAO - Alabama, Northern  \n",
       "157                Criminal Division; Criminal - Child Exploitation and Obscenity Section; USAO - Alabama, Southern  \n",
       "162                Criminal Division; Criminal - Child Exploitation and Obscenity Section; USAO - Alabama, Northern  \n",
       "168                                                          Civil Rights Division; Civil Rights - Criminal Section  \n",
       "...                                                                                                             ...  \n",
       "13002                                                                                         Civil Rights Division  \n",
       "13032                                        Criminal Division; Criminal - Child Exploitation and Obscenity Section  \n",
       "13034                                                                                             Criminal Division  \n",
       "13068                           Civil Rights Division; Civil Rights - Employment Litigation Section; USAO - Wyoming  \n",
       "13081  Civil Rights Division; Civil Rights - Criminal Section; Civil Rights - Housing and Civil Enforcement Section  \n",
       "\n",
       "[717 rows x 6 columns]"
      ]
     },
     "execution_count": 27,
     "metadata": {},
     "output_type": "execute_result"
    }
   ],
   "source": [
    "## your code here for subsetting\n",
    "doj_subset = doj[doj[\"topics_clean\"].isin([\"Civil Rights\", \"Hate Crimes\", \"Project Safe Childhood\"])]\n",
    "doj_subset.shape\n",
    "doj_subset"
   ]
  },
  {
   "cell_type": "markdown",
   "metadata": {},
   "source": [
    "B. Write a function that takes one press release string as an input and:\n",
    "\n",
    "- Removes named entities from each press release string (**Hint**: you may want to use `re.sub` with an or condition)\n",
    "- Scores the sentiment of the entire press release using the `SentimentIntensityAnalyzer` and `polarity_scores`\n",
    "- Returns the length-four (negative, positive, neutral, compound) sentiment dictionary (any order is fine)\n",
    "\n",
    "Apply that function to each of the press releases in `doj_subset`. \n",
    "\n",
    "**Hints**: \n",
    "\n",
    "- A function + list comprehension to execute will takes about 30 seconds on a respectable local machine and about 2 mins on jhub; if it's taking a very long time, you may want to check your code for inefficiencies. If you can't fix those, for partial credit on this part/full credit on remainder, you can take a small random sample of the 717\n"
   ]
  },
  {
   "cell_type": "code",
   "execution_count": 28,
   "metadata": {},
   "outputs": [
    {
     "data": {
      "text/plain": [
       "{'neg': 0.194, 'neu': 0.743, 'pos': 0.063, 'compound': -0.875}"
      ]
     },
     "execution_count": 28,
     "metadata": {},
     "output_type": "execute_result"
    }
   ],
   "source": [
    "## your code here to define function\n",
    "def content_sentiment(one_content):\n",
    "    spacy_content = nlp(one_content)\n",
    "    named_ents = [ent.text for ent in spacy_content.ents]\n",
    "    # joined_ents = '|'.join(named_ents)\n",
    "    regex_ents = r'|'.join(re.escape(ent) for ent in named_ents) \n",
    "    no_ents = re.sub(regex_ents, \"\",one_content)\n",
    "    sent_obj = SentimentIntensityAnalyzer()\n",
    "    sentiment_content = sent_obj.polarity_scores(no_ents)\n",
    "    return sentiment_content\n",
    "\n",
    "content = \" The charges of conspiracy to violate the Anti-Kickback Law provide for a sentence of no greater than five years in prison, three years of supervised release and a $25,000 fine. Sentences are imposed by a federal district court judge based upon the U.S. Sentencing Guidelines and other statutory factors.The investigation was conducted by a team that included the FBI; HHS-OIG; FDA Office of Criminal Investigations; the Defense Criminal Investigative Service; the Drug Enforcement Administration; the Department of Labor, Employee Benefits Security Administration; the Office of Personnel Management; the U.S. Postal Inspection Service; the U.S. Postal Service Office of Inspector General; and the Department of Veterans Affairs.']\"\n",
    "\n",
    "content_sentiment(content)\n",
    "#re.findall(content_sentiment(content), \"25,000\")"
   ]
  },
  {
   "cell_type": "code",
   "execution_count": 29,
   "metadata": {},
   "outputs": [
    {
     "data": {
      "text/plain": [
       "77       {'neg': 0.199, 'neu': 0.751, 'pos': 0.049, 'compound': -0.9931}\n",
       "155      {'neg': 0.133, 'neu': 0.799, 'pos': 0.068, 'compound': -0.9325}\n",
       "157       {'neg': 0.093, 'neu': 0.83, 'pos': 0.077, 'compound': -0.7579}\n",
       "162      {'neg': 0.126, 'neu': 0.789, 'pos': 0.085, 'compound': -0.9037}\n",
       "168      {'neg': 0.178, 'neu': 0.778, 'pos': 0.044, 'compound': -0.9864}\n",
       "                                      ...                               \n",
       "13002     {'neg': 0.155, 'neu': 0.78, 'pos': 0.064, 'compound': -0.9689}\n",
       "13032     {'neg': 0.082, 'neu': 0.813, 'pos': 0.105, 'compound': 0.7003}\n",
       "13034    {'neg': 0.158, 'neu': 0.754, 'pos': 0.088, 'compound': -0.9648}\n",
       "13068    {'neg': 0.139, 'neu': 0.762, 'pos': 0.099, 'compound': -0.9798}\n",
       "13081    {'neg': 0.151, 'neu': 0.819, 'pos': 0.031, 'compound': -0.9921}\n",
       "Name: sentiment_dictionary, Length: 717, dtype: object"
      ]
     },
     "execution_count": 29,
     "metadata": {},
     "output_type": "execute_result"
    }
   ],
   "source": [
    "## your code here executing the function\n",
    "doj_subset[\"sentiment_dictionary\"]= doj_subset[\"contents\"].apply(content_sentiment)\n",
    "doj_subset[\"sentiment_dictionary\"]"
   ]
  },
  {
   "cell_type": "markdown",
   "metadata": {},
   "source": [
    "C. Add the four sentiment scores to the `doj_subset` dataframe to create a dataframe: `doj_subset_wscore`. Sort from highest neg to lowest neg score and print the top `id`, `contents`, and `neg` columns of the two most neg press releases. \n",
    "\n",
    "Notes:\n",
    "\n",
    "- Don't worry if your sentiment score differs slightly from our output on GitHub; differences in preprocessing can lead to diff scores"
   ]
  },
  {
   "cell_type": "code",
   "execution_count": 30,
   "metadata": {},
   "outputs": [
    {
     "data": {
      "text/html": [
       "<div>\n",
       "<style scoped>\n",
       "    .dataframe tbody tr th:only-of-type {\n",
       "        vertical-align: middle;\n",
       "    }\n",
       "\n",
       "    .dataframe tbody tr th {\n",
       "        vertical-align: top;\n",
       "    }\n",
       "\n",
       "    .dataframe thead th {\n",
       "        text-align: right;\n",
       "    }\n",
       "</style>\n",
       "<table border=\"1\" class=\"dataframe\">\n",
       "  <thead>\n",
       "    <tr style=\"text-align: right;\">\n",
       "      <th></th>\n",
       "      <th>id</th>\n",
       "      <th>contents</th>\n",
       "      <th>neg</th>\n",
       "    </tr>\n",
       "  </thead>\n",
       "  <tbody>\n",
       "    <tr>\n",
       "      <th>13</th>\n",
       "      <td>14-248</td>\n",
       "      <td>The Department of Justice announced that this morning John W. Ng, 58, of Albuquerque, N.M., made his initial appearance in federal court on a criminal complaint charging him with a hate crime offense.  This charge is related to anti-Semitic threats Ng made against a Jewish woman who owns and operates the Nosh Jewish Delicatessen and Bakery in Albuquerque. Ng was arrested by the FBI on March 7, 2014, based on a criminal complaint alleging that he interfered with the victim’s federally protected rights by threatening her and interfering with her business because of her religion.  According to the criminal complaint, between Jan. 22, 2014, and Feb. 8, 2014, Ng allegedly posted threatening anti-Semitic notes on and in the vicinity of the victim’s business. A criminal complaint merely establishes probable cause, and Ng is presumed innocent unless proven guilty.  If convicted on the offense charged in the criminal complaint, Ng faces a maximum statutory penalty of one year in prison. This matter was investigated by the Albuquerque Division of the FBI and is being prosecuted by Assistant U.S. Attorney Mark T. Baker of the U.S. Attorney’s Office for the District of New Mexico and Trial Attorney AeJean Cha of the U.S. Department of Justice’s Civil Rights Division.</td>\n",
       "      <td>0.323</td>\n",
       "    </tr>\n",
       "    <tr>\n",
       "      <th>34</th>\n",
       "      <td>13-312</td>\n",
       "      <td>John Hall, 27, an Aryan Brotherhood member and inmate at the Federal Correctional Institution (FCI) in Seagoville, Texas, was sentenced today by U.S. District Judge Reed O’Connor after pleading guilty to violating the Matthew Shepard and James Byrd Jr. Hate Crimes Prevention Act stemming from his assault of a fellow inmate, whom he believed to be gay, the Department of Justice announced. Hall assaulted his fellow inmate with a dangerous weapon, causing bodily injury to the victim on Dec. 20, 2011. Hall was sentenced to serve 71 months in prison to be served consecutively with the sentence he is currently serving. The assault occurred on Dec. 20, 2011, inside the FCI Seagoville when Hall targeted and attacked the victim, a fellow inmate, because he believed the victim was gay or involved in a sexual relationship with another male inmate. Hall repeatedly punched, kicked and stomped on the victim’s face with his shod feet, a dangerous weapon, while yelling a homophobic slur. The victim lost consciousness during the assault and suffered multiple lacerations to his face. The victim also sustained a fractured eye socket, lost a tooth, fractured other teeth and was treated at a hospital for the injuries he sustained during Hall’s unprovoked attack. Hall pleaded guilty to violating the Matthew Shepard and James Byrd Jr. Hate Crimes Prevention Act on Nov. 8, 2012. “Brutality and violence based on sexual orientation has no place in a civilized society,” said Thomas E. Perez, Assistant Attorney General for the Civil Rights Division. “The Justice Department is committed to using all the tools in our law enforcement arsenal, including the Matthew Shepard and James Byrd Jr. Hate Crimes Prevention Act, to prosecute acts motivated by hate.” “This prosecution sends a clear message that this office, in partnership with attorneys in the department’s Civil Rights Division, will prioritize and aggressively prosecute hate crimes and others civil rights violations in North Texas,” said U.S. Attorney Sarah R. Saldaña of the Northern District of Texas. This case was investigated by the FBI Dallas Division. The case was prosecuted by Assistant U.S. Attorney Errin Martin and Trial Attorney Adriana Vieco of the Civil Rights Division.</td>\n",
       "      <td>0.303</td>\n",
       "    </tr>\n",
       "  </tbody>\n",
       "</table>\n",
       "</div>"
      ],
      "text/plain": [
       "        id  \\\n",
       "13  14-248   \n",
       "34  13-312   \n",
       "\n",
       "                                                                                                                                                                                                                                                                                                                                                                                                                                                                                                                                                                                                                                                                                                                                                                                                                                                                                                                                                                                                                                                                                                                                                                                                                                                                                                                                                                                                                                                                                                                                                                                                                                                                                                                                                                                                                                                                                                                                                                                                                                                                                                                                                                                                                                                                                                                                 contents  \\\n",
       "13                                                                                                                                                                                                                                                                                                                                                                                                                                                                                                                                                                                                                                                                                                                                                                                                                                                                                                                                                                                                            The Department of Justice announced that this morning John W. Ng, 58, of Albuquerque, N.M., made his initial appearance in federal court on a criminal complaint charging him with a hate crime offense.  This charge is related to anti-Semitic threats Ng made against a Jewish woman who owns and operates the Nosh Jewish Delicatessen and Bakery in Albuquerque. Ng was arrested by the FBI on March 7, 2014, based on a criminal complaint alleging that he interfered with the victim’s federally protected rights by threatening her and interfering with her business because of her religion.  According to the criminal complaint, between Jan. 22, 2014, and Feb. 8, 2014, Ng allegedly posted threatening anti-Semitic notes on and in the vicinity of the victim’s business. A criminal complaint merely establishes probable cause, and Ng is presumed innocent unless proven guilty.  If convicted on the offense charged in the criminal complaint, Ng faces a maximum statutory penalty of one year in prison. This matter was investigated by the Albuquerque Division of the FBI and is being prosecuted by Assistant U.S. Attorney Mark T. Baker of the U.S. Attorney’s Office for the District of New Mexico and Trial Attorney AeJean Cha of the U.S. Department of Justice’s Civil Rights Division.   \n",
       "34  John Hall, 27, an Aryan Brotherhood member and inmate at the Federal Correctional Institution (FCI) in Seagoville, Texas, was sentenced today by U.S. District Judge Reed O’Connor after pleading guilty to violating the Matthew Shepard and James Byrd Jr. Hate Crimes Prevention Act stemming from his assault of a fellow inmate, whom he believed to be gay, the Department of Justice announced. Hall assaulted his fellow inmate with a dangerous weapon, causing bodily injury to the victim on Dec. 20, 2011. Hall was sentenced to serve 71 months in prison to be served consecutively with the sentence he is currently serving. The assault occurred on Dec. 20, 2011, inside the FCI Seagoville when Hall targeted and attacked the victim, a fellow inmate, because he believed the victim was gay or involved in a sexual relationship with another male inmate. Hall repeatedly punched, kicked and stomped on the victim’s face with his shod feet, a dangerous weapon, while yelling a homophobic slur. The victim lost consciousness during the assault and suffered multiple lacerations to his face. The victim also sustained a fractured eye socket, lost a tooth, fractured other teeth and was treated at a hospital for the injuries he sustained during Hall’s unprovoked attack. Hall pleaded guilty to violating the Matthew Shepard and James Byrd Jr. Hate Crimes Prevention Act on Nov. 8, 2012. “Brutality and violence based on sexual orientation has no place in a civilized society,” said Thomas E. Perez, Assistant Attorney General for the Civil Rights Division. “The Justice Department is committed to using all the tools in our law enforcement arsenal, including the Matthew Shepard and James Byrd Jr. Hate Crimes Prevention Act, to prosecute acts motivated by hate.” “This prosecution sends a clear message that this office, in partnership with attorneys in the department’s Civil Rights Division, will prioritize and aggressively prosecute hate crimes and others civil rights violations in North Texas,” said U.S. Attorney Sarah R. Saldaña of the Northern District of Texas. This case was investigated by the FBI Dallas Division. The case was prosecuted by Assistant U.S. Attorney Errin Martin and Trial Attorney Adriana Vieco of the Civil Rights Division.   \n",
       "\n",
       "      neg  \n",
       "13  0.323  \n",
       "34  0.303  "
      ]
     },
     "execution_count": 30,
     "metadata": {},
     "output_type": "execute_result"
    }
   ],
   "source": [
    "## your code here\n",
    "doj_subset_copy = doj_subset.copy().reset_index()\n",
    "\n",
    "doj_subset_wscore = pd.concat([doj_subset_copy, \n",
    "                               pd.json_normalize(doj_subset_copy[\"sentiment_dictionary\"]).reset_index()], \n",
    "                               axis=1)\n",
    "doj_subset_wscore_sorted = doj_subset_wscore.sort_values(by=\"neg\", ascending=False)\n",
    "doj_subset_wscore_sorted[[\"id\",\"contents\",\"neg\"]][:2]"
   ]
  },
  {
   "cell_type": "markdown",
   "metadata": {},
   "source": [
    "D. With the dataframe from part C, find the mean compound sentiment score for each of the three topics in `topics_clean` using group_by and agg.\n",
    "\n",
    "E. Add a 1 sentence interpretation of why we might see the variation in scores (remember that compound is a standardized summary where -1 is most negative; +1 is most positive)\n"
   ]
  },
  {
   "cell_type": "code",
   "execution_count": 31,
   "metadata": {},
   "outputs": [
    {
     "data": {
      "text/html": [
       "<div>\n",
       "<style scoped>\n",
       "    .dataframe tbody tr th:only-of-type {\n",
       "        vertical-align: middle;\n",
       "    }\n",
       "\n",
       "    .dataframe tbody tr th {\n",
       "        vertical-align: top;\n",
       "    }\n",
       "\n",
       "    .dataframe thead th {\n",
       "        text-align: right;\n",
       "    }\n",
       "</style>\n",
       "<table border=\"1\" class=\"dataframe\">\n",
       "  <thead>\n",
       "    <tr style=\"text-align: right;\">\n",
       "      <th></th>\n",
       "      <th>compound</th>\n",
       "    </tr>\n",
       "    <tr>\n",
       "      <th>topics_clean</th>\n",
       "      <th></th>\n",
       "    </tr>\n",
       "  </thead>\n",
       "  <tbody>\n",
       "    <tr>\n",
       "      <th>Civil Rights</th>\n",
       "      <td>-0.093931</td>\n",
       "    </tr>\n",
       "    <tr>\n",
       "      <th>Hate Crimes</th>\n",
       "      <td>-0.930943</td>\n",
       "    </tr>\n",
       "    <tr>\n",
       "      <th>Project Safe Childhood</th>\n",
       "      <td>-0.681391</td>\n",
       "    </tr>\n",
       "  </tbody>\n",
       "</table>\n",
       "</div>"
      ],
      "text/plain": [
       "                        compound\n",
       "topics_clean                    \n",
       "Civil Rights           -0.093931\n",
       "Hate Crimes            -0.930943\n",
       "Project Safe Childhood -0.681391"
      ]
     },
     "execution_count": 31,
     "metadata": {},
     "output_type": "execute_result"
    }
   ],
   "source": [
    "## agg and find the mean compound score by topic\n",
    "doj_subset_wscore_sorted.groupby(\"topics_clean\").agg({\"compound\":'mean'})\n",
    "\n",
    "## Part E\n",
    "# It's possible that for certain topic, the press release includes more emotional words. For example, the press release for hate crimes might \n",
    "# quote hate speech, which is strongly correlated with negative sentiments. On the other hand, press release civil rights might contain more neutral language"
   ]
  },
  {
   "cell_type": "markdown",
   "metadata": {},
   "source": [
    "# 2. Topic modeling (25 points)\n",
    "\n",
    "For this question, use the `doj_subset_wscores` data that is restricted to civil rights, hate crimes, and project safe childhood and with the sentiment scores added\n"
   ]
  },
  {
   "cell_type": "markdown",
   "metadata": {},
   "source": [
    "## 2.1 Preprocess the data by removing stopwords, punctuation, and non-alpha words (5 points)\n",
    "\n",
    "A. Write a function that:\n",
    "\n",
    "- Takes in a single raw string in the `contents` column from that dataframe\n",
    "- Does the following preprocessing steps:\n",
    "\n",
    "    - Converts the words to lowercase\n",
    "    - Removes stopwords, adding the custom stopwords in your code cell below to the default stopwords list\n",
    "    - Only retains alpha words (so removes digits and punctuation)\n",
    "    - Only retains words 4 characters or longer\n",
    "    - Uses the snowball stemmer from nltk to stem\n",
    "\n",
    "- Returns a joined preprocessed string\n",
    "    \n",
    "B. Use `apply` or list comprehension to execute that function and create a new column in the data called `processed_text`\n",
    "    \n",
    "C. Print the `id`, `contents`, and `processed_text` columns for the following press releases:\n",
    "\n",
    "id = 16-718 (this case: https://www.seattletimes.com/nation-world/doj-miami-police-reach-settlement-in-civil-rights-case/)\n",
    "\n",
    "id = 16-217 (this case: https://www.wlbt.com/story/32275512/three-mississippi-correctional-officers-indicted-for-inmate-assault-and-cover-up/)\n",
    "    \n",
    "**Resources**:\n",
    "\n",
    "- Here's code examples for the snowball stemmer: https://www.geeksforgeeks.org/snowball-stemmer-nlp/"
   ]
  },
  {
   "cell_type": "code",
   "execution_count": 32,
   "metadata": {},
   "outputs": [],
   "source": [
    "custom_doj_stopwords = [\"civil\", \"rights\", \"division\", \"department\", \"justice\",\n",
    "                        \"office\", \"attorney\", \"district\", \"case\", \"investigation\", \"assistant\",\n",
    "                       \"trial\", \"assistance\", \"assist\"]"
   ]
  },
  {
   "cell_type": "code",
   "execution_count": 33,
   "metadata": {},
   "outputs": [
    {
     "data": {
      "text/plain": [
       "'charg conspiraci violat anti kickback provid sentenc greater five year prison three year supervis releas fine sentenc impos feder court judg base upon sentenc guidelin statutori factor conduct team includ crimin investig defens crimin investig servic drug enforc administr labor employe benefit secur administr personnel manag postal inspect servic postal servic inspector general veteran affair'"
      ]
     },
     "execution_count": 33,
     "metadata": {},
     "output_type": "execute_result"
    }
   ],
   "source": [
    "## your code defining a text processing function\n",
    "list_stopwords = stopwords.words('english')+custom_doj_stopwords\n",
    "from nltk.stem.snowball import SnowballStemmer\n",
    "snowball = SnowballStemmer(language='english')\n",
    "def preprocess(content):\n",
    "    content_lower = content.lower()\n",
    "    content_nostop = [snowball.stem(word) for word in wordpunct_tokenize(content_lower)\n",
    "                         if word not in list_stopwords \n",
    "                          and word.isalpha() and len(word)>=4]\n",
    "    content_rejoin = \" \".join(content_nostop)\n",
    "    return content_rejoin\n",
    "    \n",
    "preprocess(content)"
   ]
  },
  {
   "cell_type": "code",
   "execution_count": 34,
   "metadata": {},
   "outputs": [],
   "source": [
    "## your code executing the function\n",
    "doj_subset_wscore[\"processed_text\"] = doj_subset_wscore[\"contents\"].apply(preprocess)"
   ]
  },
  {
   "cell_type": "code",
   "execution_count": 35,
   "metadata": {},
   "outputs": [
    {
     "data": {
      "text/html": [
       "<div>\n",
       "<style scoped>\n",
       "    .dataframe tbody tr th:only-of-type {\n",
       "        vertical-align: middle;\n",
       "    }\n",
       "\n",
       "    .dataframe tbody tr th {\n",
       "        vertical-align: top;\n",
       "    }\n",
       "\n",
       "    .dataframe thead th {\n",
       "        text-align: right;\n",
       "    }\n",
       "</style>\n",
       "<table border=\"1\" class=\"dataframe\">\n",
       "  <thead>\n",
       "    <tr style=\"text-align: right;\">\n",
       "      <th></th>\n",
       "      <th>id</th>\n",
       "      <th>contents</th>\n",
       "      <th>processed_text</th>\n",
       "    </tr>\n",
       "  </thead>\n",
       "  <tbody>\n",
       "    <tr>\n",
       "      <th>313</th>\n",
       "      <td>16-217</td>\n",
       "      <td>The Justice Department has reached a comprehensive settlement agreement with the city of Miami and the Miami Police Department (MPD) resolving the Justice Department’s investigation of officer-involved shootings by MPD officers, announced Principal Deputy Assistant Attorney General Vanita Gupta, head of the Justice Department’s Civil Rights Division and U.S. Attorney Wifredo A. Ferrer of the Southern District of Florida. The settlement, which was approved by Miami’s city commission today and will go into effect when the agreement is signed by all parties, resolves claims stemming from the Justice Department’s investigation into officer-involved shootings by MPD officers, which was conducted under the Violent Crime Control and Law Enforcement Act of 1994.  The investigation’s findings, issued in July 2013, identified a pattern or practice of excessive use of force through officer-involved shootings in violation of the Fourth Amendment of the Constitution.  The city’s compliance with the settlement will be monitored by an independent reviewer, former Tampa, Florida, Police Chief Jane Castor.  Under the settlement agreement, the city will implement comprehensive reforms to ensure constitutional policing and support public trust.  The settlement agreement is designed to minimize officer-involved shootings and to more effectively and quickly investigate officer-involved shootings that do occur, through measures that include: “This settlement represents a renewed commitment by the city of Miami and Chief Rodolfo Llanes to provide constitutional policing for Miami residents and to protect public safety through sustainable reform,” said Principal Deputy Assistant Attorney General Gupta.  “The agreement will help to strengthen the relationship between the MPD and the communities they serve by improving accountability for officers who fire their weapons unlawfully, and provides for community participation in the enforcement of this agreement.”  “Today's agreement is the result of a joint effort between the Department of Justice and the City of Miami to ensure that the Miami Police Department continues its efforts to make our community safe while protecting the sacred Constitutional rights of all of our citizens,” said U.S. Attorney Ferrer.  “Through oversight and communication, the agreement seeks to make permanent the positive changes that former Chief Orosa and Chief Llanes have made, and we applaud the City Commission’s vote.” The settlement agreement builds upon important reforms implemented by the city since the Justice Department issued its findings, including:  The investigation was conducted by attorneys and staff from the Civil Rights Division’s Special Litigation Section and the Civil Division of the U. S. Attorney’s Office of the Southern District of Florida.</td>\n",
       "      <td>reach comprehens settlement agreement citi miami miami polic resolv offic involv shoot offic announc princip deputi general vanita gupta head wifredo ferrer southern florida settlement approv miami citi commiss today effect agreement sign parti resolv claim stem offic involv shoot offic conduct violent crime control enforc find issu juli identifi pattern practic excess forc offic involv shoot violat fourth amend constitut citi complianc settlement monitor independ review former tampa florida polic chief jane castor settlement agreement citi implement comprehens reform ensur constitut polic support public trust settlement agreement design minim offic involv shoot effect quick investig offic involv shoot occur measur includ settlement repres renew commit citi miami chief rodolfo llane provid constitut polic miami resid protect public safeti sustain reform said princip deputi general gupta agreement help strengthen relationship communiti serv improv account offic fire weapon unlaw provid communiti particip enforc agreement today agreement result joint effort citi miami ensur miami polic continu effort make communiti safe protect sacr constitut citizen said ferrer oversight communic agreement seek make perman posit chang former chief orosa chief llane made applaud citi commiss vote settlement agreement build upon import reform implement citi sinc issu find includ conduct attorney staff special litig section southern florida</td>\n",
       "    </tr>\n",
       "    <tr>\n",
       "      <th>632</th>\n",
       "      <td>16-718</td>\n",
       "      <td>In a nine-count indictment unsealed today, two Mississippi correctional officers were charged with beating an inmate and a third was charged with helping to cover it up.  The indictment charged Lawardrick Marsher, 28, and Robert Sturdivant, 47, officers at Mississippi State Penitentiary, in Parchman, Mississippi, with a beating that included kicking, punching and throwing the victim to the ground.  Marsher and Sturdivant were charged with violating the right of K.H., a convicted prisoner, to be free from cruel and unusual punishment.  Sturdivant was also charged with failing to intervene while Marsher was punching and beating K.H.  The indictment alleges that their actions involved the use of a dangerous weapon and resulted in bodily injury to the victim. A third officer, Deonte Pate, 23, was charged along with Marsher and Sturdivant for conspiring to cover up the beating.  The indictment alleges that all three officers submitted false reports and that all three lied to the FBI. If convicted, Marsher and Sturdivant face a maximum sentence of 10 years in prison on the excessive force charges.  Each of the three officers faces up to five years in prison on the conspiracy and false statement charges, and up to 20 years in prison on the false report charges. An indictment is merely an accusation, and the defendants are presumed innocent unless and until proven guilty. This case is being investigated by the FBI’s Jackson Division, with the cooperation of the Mississippi Department of Corrections.  It is being prosecuted by Assistant U.S. Attorney Robert Coleman of the Northern District of Mississippi and Trial Attorney Dana Mulhauser of the Civil Rights Division’s Criminal Section.     Marsher Indictment</td>\n",
       "      <td>nine count indict unseal today mississippi correct offic charg beat inmat third charg help cover indict charg lawardrick marsher robert sturdiv offic mississippi state penitentiari parchman mississippi beat includ kick punch throw victim ground marsher sturdiv charg violat right convict prison free cruel unusu punish sturdiv also charg fail interven marsher punch beat indict alleg action involv danger weapon result bodili injuri victim third offic deont pate charg along marsher sturdiv conspir cover beat indict alleg three offic submit fals report three lie convict marsher sturdiv face maximum sentenc year prison excess forc charg three offic face five year prison conspiraci fals statement charg year prison fals report charg indict mere accus defend presum innoc unless proven guilti investig jackson cooper mississippi correct prosecut robert coleman northern mississippi dana mulhaus crimin section marsher indict</td>\n",
       "    </tr>\n",
       "  </tbody>\n",
       "</table>\n",
       "</div>"
      ],
      "text/plain": [
       "         id  \\\n",
       "313  16-217   \n",
       "632  16-718   \n",
       "\n",
       "                                                                                                                                                                                                                                                                                                                                                                                                                                                                                                                                                                                                                                                                                                                                                                                                                                                                                                                                                                                                                                                                                                                                                                                                                                                                                                                                                                                                                                                                                                                                                                                                                                                                                                                                                                                                                                                                                                                                                                                                                                                                                                                                                                                                                                                                                                                                                                                                                                                                                                                                                                                                                                                                                                                                                                                                                                                                                                                       contents  \\\n",
       "313  The Justice Department has reached a comprehensive settlement agreement with the city of Miami and the Miami Police Department (MPD) resolving the Justice Department’s investigation of officer-involved shootings by MPD officers, announced Principal Deputy Assistant Attorney General Vanita Gupta, head of the Justice Department’s Civil Rights Division and U.S. Attorney Wifredo A. Ferrer of the Southern District of Florida. The settlement, which was approved by Miami’s city commission today and will go into effect when the agreement is signed by all parties, resolves claims stemming from the Justice Department’s investigation into officer-involved shootings by MPD officers, which was conducted under the Violent Crime Control and Law Enforcement Act of 1994.  The investigation’s findings, issued in July 2013, identified a pattern or practice of excessive use of force through officer-involved shootings in violation of the Fourth Amendment of the Constitution.  The city’s compliance with the settlement will be monitored by an independent reviewer, former Tampa, Florida, Police Chief Jane Castor.  Under the settlement agreement, the city will implement comprehensive reforms to ensure constitutional policing and support public trust.  The settlement agreement is designed to minimize officer-involved shootings and to more effectively and quickly investigate officer-involved shootings that do occur, through measures that include: “This settlement represents a renewed commitment by the city of Miami and Chief Rodolfo Llanes to provide constitutional policing for Miami residents and to protect public safety through sustainable reform,” said Principal Deputy Assistant Attorney General Gupta.  “The agreement will help to strengthen the relationship between the MPD and the communities they serve by improving accountability for officers who fire their weapons unlawfully, and provides for community participation in the enforcement of this agreement.”  “Today's agreement is the result of a joint effort between the Department of Justice and the City of Miami to ensure that the Miami Police Department continues its efforts to make our community safe while protecting the sacred Constitutional rights of all of our citizens,” said U.S. Attorney Ferrer.  “Through oversight and communication, the agreement seeks to make permanent the positive changes that former Chief Orosa and Chief Llanes have made, and we applaud the City Commission’s vote.” The settlement agreement builds upon important reforms implemented by the city since the Justice Department issued its findings, including:  The investigation was conducted by attorneys and staff from the Civil Rights Division’s Special Litigation Section and the Civil Division of the U. S. Attorney’s Office of the Southern District of Florida.   \n",
       "632                                                                                                                                                                                                                                                                                                                                                                                                                                                                                                                                                                                                                                                                                                                                                                                                                                                                                                                                                                                                                                                                                                                            In a nine-count indictment unsealed today, two Mississippi correctional officers were charged with beating an inmate and a third was charged with helping to cover it up.  The indictment charged Lawardrick Marsher, 28, and Robert Sturdivant, 47, officers at Mississippi State Penitentiary, in Parchman, Mississippi, with a beating that included kicking, punching and throwing the victim to the ground.  Marsher and Sturdivant were charged with violating the right of K.H., a convicted prisoner, to be free from cruel and unusual punishment.  Sturdivant was also charged with failing to intervene while Marsher was punching and beating K.H.  The indictment alleges that their actions involved the use of a dangerous weapon and resulted in bodily injury to the victim. A third officer, Deonte Pate, 23, was charged along with Marsher and Sturdivant for conspiring to cover up the beating.  The indictment alleges that all three officers submitted false reports and that all three lied to the FBI. If convicted, Marsher and Sturdivant face a maximum sentence of 10 years in prison on the excessive force charges.  Each of the three officers faces up to five years in prison on the conspiracy and false statement charges, and up to 20 years in prison on the false report charges. An indictment is merely an accusation, and the defendants are presumed innocent unless and until proven guilty. This case is being investigated by the FBI’s Jackson Division, with the cooperation of the Mississippi Department of Corrections.  It is being prosecuted by Assistant U.S. Attorney Robert Coleman of the Northern District of Mississippi and Trial Attorney Dana Mulhauser of the Civil Rights Division’s Criminal Section.     Marsher Indictment   \n",
       "\n",
       "                                                                                                                                                                                                                                                                                                                                                                                                                                                                                                                                                                                                                                                                                                                                                                                                                                                                                                                                                                                                                                                                                                                                                                                                                                                                                                                                                                                                                                                                                          processed_text  \n",
       "313  reach comprehens settlement agreement citi miami miami polic resolv offic involv shoot offic announc princip deputi general vanita gupta head wifredo ferrer southern florida settlement approv miami citi commiss today effect agreement sign parti resolv claim stem offic involv shoot offic conduct violent crime control enforc find issu juli identifi pattern practic excess forc offic involv shoot violat fourth amend constitut citi complianc settlement monitor independ review former tampa florida polic chief jane castor settlement agreement citi implement comprehens reform ensur constitut polic support public trust settlement agreement design minim offic involv shoot effect quick investig offic involv shoot occur measur includ settlement repres renew commit citi miami chief rodolfo llane provid constitut polic miami resid protect public safeti sustain reform said princip deputi general gupta agreement help strengthen relationship communiti serv improv account offic fire weapon unlaw provid communiti particip enforc agreement today agreement result joint effort citi miami ensur miami polic continu effort make communiti safe protect sacr constitut citizen said ferrer oversight communic agreement seek make perman posit chang former chief orosa chief llane made applaud citi commiss vote settlement agreement build upon import reform implement citi sinc issu find includ conduct attorney staff special litig section southern florida  \n",
       "632                                                                                                                                                                                                                                                                                                                                                                                                                                                                                                                                        nine count indict unseal today mississippi correct offic charg beat inmat third charg help cover indict charg lawardrick marsher robert sturdiv offic mississippi state penitentiari parchman mississippi beat includ kick punch throw victim ground marsher sturdiv charg violat right convict prison free cruel unusu punish sturdiv also charg fail interven marsher punch beat indict alleg action involv danger weapon result bodili injuri victim third offic deont pate charg along marsher sturdiv conspir cover beat indict alleg three offic submit fals report three lie convict marsher sturdiv face maximum sentenc year prison excess forc charg three offic face five year prison conspiraci fals statement charg year prison fals report charg indict mere accus defend presum innoc unless proven guilti investig jackson cooper mississippi correct prosecut robert coleman northern mississippi dana mulhaus crimin section marsher indict  "
      ]
     },
     "execution_count": 35,
     "metadata": {},
     "output_type": "execute_result"
    }
   ],
   "source": [
    "## your code showing the examples\n",
    "doj_subset_wscore[doj_subset_wscore[\"id\"].isin([\"16-718\",\"16-217\"])][[\"id\", \"contents\", \"processed_text\"]]"
   ]
  },
  {
   "cell_type": "markdown",
   "metadata": {},
   "source": [
    "## 2.2 Create a document-term matrix from the preprocessed press releases and to explore top words (5 points)\n",
    "\n",
    "A. Use the `create_dtm` function I provide (alternately, feel free to write your own!) and create a document-term matrix using the preprocessed press releases; make sure metadata contains the following columns: `id`, `compound` sentiment column you added, and the `topics_clean` column\n",
    "\n",
    "B. Print the top 10 words for press releases with compound sentiment in the top 5% (so the most positive sentiment)\n",
    "\n",
    "C. Print the top 10 words for press releases with compound sentiment in the bottom 5% (so the most negative sentiment)\n",
    "\n",
    "**Hint**: for these, remember the pandas quantile function from pset one.  \n",
    "\n",
    "D. Print the top 10 words for press releases in each of the three `topics_clean`\n",
    "\n",
    "For steps B - D, to receive full credit, write a function `get_topwords` that helps you avoid duplicated code when you find top words for the different subsets of the data. There are different ways to structure it but one way is to feed it subsetted data (so data subsetted to one topic etc.) and for it to get the top words for that subset.\n"
   ]
  },
  {
   "cell_type": "code",
   "execution_count": 64,
   "metadata": {},
   "outputs": [],
   "source": [
    "def create_dtm(list_of_strings, metadata):\n",
    "    vectorizer = CountVectorizer(lowercase=True)\n",
    "    dtm_sparse = vectorizer.fit_transform(list_of_strings)\n",
    "    dtm_dense_named = pd.DataFrame(dtm_sparse.todense(), \n",
    "                                   columns=vectorizer.get_feature_names_out())  # Updated method\n",
    "    dtm_dense_named_withid = pd.concat([metadata.reset_index(drop=True), dtm_dense_named], axis=1)\n",
    "    return dtm_dense_named_withid"
   ]
  },
  {
   "cell_type": "code",
   "execution_count": 65,
   "metadata": {},
   "outputs": [],
   "source": [
    "# Step A: Generate the Document-Term Matrix \n",
    "metadata = doj_subset_wscore[[\"id\", \"compound\", \"topics_clean\"]]\n",
    "dtm = create_dtm(doj_subset_wscore[\"processed_text\"], metadata)"
   ]
  },
  {
   "cell_type": "code",
   "execution_count": 1,
   "metadata": {},
   "outputs": [
    {
     "ename": "NameError",
     "evalue": "name 'dtm' is not defined",
     "output_type": "error",
     "traceback": [
      "\u001b[0;31m---------------------------------------------------------------------------\u001b[0m",
      "\u001b[0;31mNameError\u001b[0m                                 Traceback (most recent call last)",
      "Cell \u001b[0;32mIn[1], line 6\u001b[0m\n\u001b[1;32m      4\u001b[0m     \u001b[38;5;28;01mreturn\u001b[39;00m word_counts\u001b[38;5;241m.\u001b[39mhead(top_n)\n\u001b[1;32m      5\u001b[0m \u001b[38;5;66;03m# drop duplicated columns from preprocessing\u001b[39;00m\n\u001b[0;32m----> 6\u001b[0m duplicates \u001b[38;5;241m=\u001b[39m dtm\u001b[38;5;241m.\u001b[39mcolumns\u001b[38;5;241m.\u001b[39mduplicated(keep\u001b[38;5;241m=\u001b[39m\u001b[38;5;124m'\u001b[39m\u001b[38;5;124mfirst\u001b[39m\u001b[38;5;124m'\u001b[39m)\n\u001b[1;32m      7\u001b[0m dtm \u001b[38;5;241m=\u001b[39m dtm\u001b[38;5;241m.\u001b[39mloc[:, \u001b[38;5;241m~\u001b[39mduplicates]\n",
      "\u001b[0;31mNameError\u001b[0m: name 'dtm' is not defined"
     ]
    }
   ],
   "source": [
    "# Get_topwords function\n",
    "def get_topwords(dtm_subset, top_n=10):\n",
    "    word_counts = dtm_subset.iloc[:, 3:].sum().sort_values(ascending=False)\n",
    "    return word_counts.head(top_n)"
   ]
  },
  {
   "cell_type": "code",
   "execution_count": 3,
   "metadata": {},
   "outputs": [
    {
     "ename": "NameError",
     "evalue": "name 'dtm' is not defined",
     "output_type": "error",
     "traceback": [
      "\u001b[0;31m---------------------------------------------------------------------------\u001b[0m",
      "\u001b[0;31mNameError\u001b[0m                                 Traceback (most recent call last)",
      "Cell \u001b[0;32mIn[3], line 4\u001b[0m\n\u001b[1;32m      1\u001b[0m \u001b[38;5;66;03m# Step B:  Print the top 10 words for press releases with compound sentiment in the top 5%\u001b[39;00m\n\u001b[1;32m      2\u001b[0m \u001b[38;5;66;03m# Calculate the 95th percentile for compound sentiment\u001b[39;00m\n\u001b[1;32m      3\u001b[0m \u001b[38;5;66;03m# drop duplicated columns from preprocessing\u001b[39;00m\n\u001b[0;32m----> 4\u001b[0m duplicates \u001b[38;5;241m=\u001b[39m dtm\u001b[38;5;241m.\u001b[39mcolumns\u001b[38;5;241m.\u001b[39mduplicated(keep\u001b[38;5;241m=\u001b[39m\u001b[38;5;124m'\u001b[39m\u001b[38;5;124mfirst\u001b[39m\u001b[38;5;124m'\u001b[39m)\n\u001b[1;32m      5\u001b[0m dtm \u001b[38;5;241m=\u001b[39m dtm\u001b[38;5;241m.\u001b[39mloc[:, \u001b[38;5;241m~\u001b[39mduplicates]\n\u001b[1;32m      6\u001b[0m dtm_top_positive \u001b[38;5;241m=\u001b[39m dtm[dtm[\u001b[38;5;124m\"\u001b[39m\u001b[38;5;124mcompound\u001b[39m\u001b[38;5;124m\"\u001b[39m] \u001b[38;5;241m>\u001b[39m\u001b[38;5;241m=\u001b[39m dtm[\u001b[38;5;124m\"\u001b[39m\u001b[38;5;124mcompound\u001b[39m\u001b[38;5;124m\"\u001b[39m]\u001b[38;5;241m.\u001b[39mquantile(\u001b[38;5;241m0.95\u001b[39m)]\u001b[38;5;241m.\u001b[39mreset_index(drop\u001b[38;5;241m=\u001b[39m\u001b[38;5;28;01mTrue\u001b[39;00m)\n",
      "\u001b[0;31mNameError\u001b[0m: name 'dtm' is not defined"
     ]
    }
   ],
   "source": [
    "# Step B:  Print the top 10 words for press releases with compound sentiment in the top 5%\n",
    "# Calculate the 95th percentile for compound sentiment\n",
    "# drop duplicated columns from preprocessing\n",
    "duplicates = dtm.columns.duplicated(keep='first')\n",
    "dtm = dtm.loc[:, ~duplicates]\n",
    "dtm_top_positive = dtm[dtm[\"compound\"] >= dtm[\"compound\"].quantile(0.95)].reset_index(drop=True)"
   ]
  },
  {
   "cell_type": "code",
   "execution_count": 127,
   "metadata": {},
   "outputs": [
    {
     "ename": "ValueError",
     "evalue": "cannot reindex on an axis with duplicate labels",
     "output_type": "error",
     "traceback": [
      "\u001b[0;31m---------------------------------------------------------------------------\u001b[0m",
      "\u001b[0;31mValueError\u001b[0m                                Traceback (most recent call last)",
      "Cell \u001b[0;32mIn[127], line 2\u001b[0m\n\u001b[1;32m      1\u001b[0m \u001b[38;5;66;03m# Step C: Print the top 10 words for press releases with compound sentiment in the bottom 5% (so the most negative sentiment)\u001b[39;00m\n\u001b[0;32m----> 2\u001b[0m dtm_top_positive \u001b[38;5;241m=\u001b[39m \u001b[43mdtm\u001b[49m\u001b[43m[\u001b[49m\u001b[43mdtm\u001b[49m\u001b[43m[\u001b[49m\u001b[38;5;124;43m\"\u001b[39;49m\u001b[38;5;124;43mcompound\u001b[39;49m\u001b[38;5;124;43m\"\u001b[39;49m\u001b[43m]\u001b[49m\u001b[43m \u001b[49m\u001b[38;5;241;43m<\u001b[39;49m\u001b[38;5;241;43m=\u001b[39;49m\u001b[43m \u001b[49m\u001b[43mdtm\u001b[49m\u001b[43m[\u001b[49m\u001b[38;5;124;43m\"\u001b[39;49m\u001b[38;5;124;43mcompound\u001b[39;49m\u001b[38;5;124;43m\"\u001b[39;49m\u001b[43m]\u001b[49m\u001b[38;5;241;43m.\u001b[39;49m\u001b[43mquantile\u001b[49m\u001b[43m(\u001b[49m\u001b[38;5;241;43m0.05\u001b[39;49m\u001b[43m)\u001b[49m\u001b[43m]\u001b[49m\n",
      "File \u001b[0;32m/opt/anaconda3/envs/qss20/lib/python3.9/site-packages/pandas/core/frame.py:4089\u001b[0m, in \u001b[0;36mDataFrame.__getitem__\u001b[0;34m(self, key)\u001b[0m\n\u001b[1;32m   4087\u001b[0m \u001b[38;5;66;03m# Do we have a (boolean) DataFrame?\u001b[39;00m\n\u001b[1;32m   4088\u001b[0m \u001b[38;5;28;01mif\u001b[39;00m \u001b[38;5;28misinstance\u001b[39m(key, DataFrame):\n\u001b[0;32m-> 4089\u001b[0m     \u001b[38;5;28;01mreturn\u001b[39;00m \u001b[38;5;28;43mself\u001b[39;49m\u001b[38;5;241;43m.\u001b[39;49m\u001b[43mwhere\u001b[49m\u001b[43m(\u001b[49m\u001b[43mkey\u001b[49m\u001b[43m)\u001b[49m\n\u001b[1;32m   4091\u001b[0m \u001b[38;5;66;03m# Do we have a (boolean) 1d indexer?\u001b[39;00m\n\u001b[1;32m   4092\u001b[0m \u001b[38;5;28;01mif\u001b[39;00m com\u001b[38;5;241m.\u001b[39mis_bool_indexer(key):\n",
      "File \u001b[0;32m/opt/anaconda3/envs/qss20/lib/python3.9/site-packages/pandas/core/generic.py:10984\u001b[0m, in \u001b[0;36mNDFrame.where\u001b[0;34m(self, cond, other, inplace, axis, level)\u001b[0m\n\u001b[1;32m  10977\u001b[0m             warnings\u001b[38;5;241m.\u001b[39mwarn(\n\u001b[1;32m  10978\u001b[0m                 _chained_assignment_warning_method_msg,\n\u001b[1;32m  10979\u001b[0m                 \u001b[38;5;167;01mFutureWarning\u001b[39;00m,\n\u001b[1;32m  10980\u001b[0m                 stacklevel\u001b[38;5;241m=\u001b[39m\u001b[38;5;241m2\u001b[39m,\n\u001b[1;32m  10981\u001b[0m             )\n\u001b[1;32m  10983\u001b[0m other \u001b[38;5;241m=\u001b[39m common\u001b[38;5;241m.\u001b[39mapply_if_callable(other, \u001b[38;5;28mself\u001b[39m)\n\u001b[0;32m> 10984\u001b[0m \u001b[38;5;28;01mreturn\u001b[39;00m \u001b[38;5;28;43mself\u001b[39;49m\u001b[38;5;241;43m.\u001b[39;49m\u001b[43m_where\u001b[49m\u001b[43m(\u001b[49m\u001b[43mcond\u001b[49m\u001b[43m,\u001b[49m\u001b[43m \u001b[49m\u001b[43mother\u001b[49m\u001b[43m,\u001b[49m\u001b[43m \u001b[49m\u001b[43minplace\u001b[49m\u001b[43m,\u001b[49m\u001b[43m \u001b[49m\u001b[43maxis\u001b[49m\u001b[43m,\u001b[49m\u001b[43m \u001b[49m\u001b[43mlevel\u001b[49m\u001b[43m)\u001b[49m\n",
      "File \u001b[0;32m/opt/anaconda3/envs/qss20/lib/python3.9/site-packages/pandas/core/generic.py:10685\u001b[0m, in \u001b[0;36mNDFrame._where\u001b[0;34m(self, cond, other, inplace, axis, level, warn)\u001b[0m\n\u001b[1;32m  10682\u001b[0m     cond \u001b[38;5;241m=\u001b[39m cond\u001b[38;5;241m.\u001b[39mastype(\u001b[38;5;28mbool\u001b[39m)\n\u001b[1;32m  10684\u001b[0m cond \u001b[38;5;241m=\u001b[39m \u001b[38;5;241m-\u001b[39mcond \u001b[38;5;28;01mif\u001b[39;00m inplace \u001b[38;5;28;01melse\u001b[39;00m cond\n\u001b[0;32m> 10685\u001b[0m cond \u001b[38;5;241m=\u001b[39m \u001b[43mcond\u001b[49m\u001b[38;5;241;43m.\u001b[39;49m\u001b[43mreindex\u001b[49m\u001b[43m(\u001b[49m\u001b[38;5;28;43mself\u001b[39;49m\u001b[38;5;241;43m.\u001b[39;49m\u001b[43m_info_axis\u001b[49m\u001b[43m,\u001b[49m\u001b[43m \u001b[49m\u001b[43maxis\u001b[49m\u001b[38;5;241;43m=\u001b[39;49m\u001b[38;5;28;43mself\u001b[39;49m\u001b[38;5;241;43m.\u001b[39;49m\u001b[43m_info_axis_number\u001b[49m\u001b[43m,\u001b[49m\u001b[43m \u001b[49m\u001b[43mcopy\u001b[49m\u001b[38;5;241;43m=\u001b[39;49m\u001b[38;5;28;43;01mFalse\u001b[39;49;00m\u001b[43m)\u001b[49m\n\u001b[1;32m  10687\u001b[0m \u001b[38;5;66;03m# try to align with other\u001b[39;00m\n\u001b[1;32m  10688\u001b[0m \u001b[38;5;28;01mif\u001b[39;00m \u001b[38;5;28misinstance\u001b[39m(other, NDFrame):\n\u001b[1;32m  10689\u001b[0m     \u001b[38;5;66;03m# align with me\u001b[39;00m\n",
      "File \u001b[0;32m/opt/anaconda3/envs/qss20/lib/python3.9/site-packages/pandas/core/frame.py:5378\u001b[0m, in \u001b[0;36mDataFrame.reindex\u001b[0;34m(self, labels, index, columns, axis, method, copy, level, fill_value, limit, tolerance)\u001b[0m\n\u001b[1;32m   5359\u001b[0m \u001b[38;5;129m@doc\u001b[39m(\n\u001b[1;32m   5360\u001b[0m     NDFrame\u001b[38;5;241m.\u001b[39mreindex,\n\u001b[1;32m   5361\u001b[0m     klass\u001b[38;5;241m=\u001b[39m_shared_doc_kwargs[\u001b[38;5;124m\"\u001b[39m\u001b[38;5;124mklass\u001b[39m\u001b[38;5;124m\"\u001b[39m],\n\u001b[0;32m   (...)\u001b[0m\n\u001b[1;32m   5376\u001b[0m     tolerance\u001b[38;5;241m=\u001b[39m\u001b[38;5;28;01mNone\u001b[39;00m,\n\u001b[1;32m   5377\u001b[0m ) \u001b[38;5;241m-\u001b[39m\u001b[38;5;241m>\u001b[39m DataFrame:\n\u001b[0;32m-> 5378\u001b[0m     \u001b[38;5;28;01mreturn\u001b[39;00m \u001b[38;5;28;43msuper\u001b[39;49m\u001b[43m(\u001b[49m\u001b[43m)\u001b[49m\u001b[38;5;241;43m.\u001b[39;49m\u001b[43mreindex\u001b[49m\u001b[43m(\u001b[49m\n\u001b[1;32m   5379\u001b[0m \u001b[43m        \u001b[49m\u001b[43mlabels\u001b[49m\u001b[38;5;241;43m=\u001b[39;49m\u001b[43mlabels\u001b[49m\u001b[43m,\u001b[49m\n\u001b[1;32m   5380\u001b[0m \u001b[43m        \u001b[49m\u001b[43mindex\u001b[49m\u001b[38;5;241;43m=\u001b[39;49m\u001b[43mindex\u001b[49m\u001b[43m,\u001b[49m\n\u001b[1;32m   5381\u001b[0m \u001b[43m        \u001b[49m\u001b[43mcolumns\u001b[49m\u001b[38;5;241;43m=\u001b[39;49m\u001b[43mcolumns\u001b[49m\u001b[43m,\u001b[49m\n\u001b[1;32m   5382\u001b[0m \u001b[43m        \u001b[49m\u001b[43maxis\u001b[49m\u001b[38;5;241;43m=\u001b[39;49m\u001b[43maxis\u001b[49m\u001b[43m,\u001b[49m\n\u001b[1;32m   5383\u001b[0m \u001b[43m        \u001b[49m\u001b[43mmethod\u001b[49m\u001b[38;5;241;43m=\u001b[39;49m\u001b[43mmethod\u001b[49m\u001b[43m,\u001b[49m\n\u001b[1;32m   5384\u001b[0m \u001b[43m        \u001b[49m\u001b[43mcopy\u001b[49m\u001b[38;5;241;43m=\u001b[39;49m\u001b[43mcopy\u001b[49m\u001b[43m,\u001b[49m\n\u001b[1;32m   5385\u001b[0m \u001b[43m        \u001b[49m\u001b[43mlevel\u001b[49m\u001b[38;5;241;43m=\u001b[39;49m\u001b[43mlevel\u001b[49m\u001b[43m,\u001b[49m\n\u001b[1;32m   5386\u001b[0m \u001b[43m        \u001b[49m\u001b[43mfill_value\u001b[49m\u001b[38;5;241;43m=\u001b[39;49m\u001b[43mfill_value\u001b[49m\u001b[43m,\u001b[49m\n\u001b[1;32m   5387\u001b[0m \u001b[43m        \u001b[49m\u001b[43mlimit\u001b[49m\u001b[38;5;241;43m=\u001b[39;49m\u001b[43mlimit\u001b[49m\u001b[43m,\u001b[49m\n\u001b[1;32m   5388\u001b[0m \u001b[43m        \u001b[49m\u001b[43mtolerance\u001b[49m\u001b[38;5;241;43m=\u001b[39;49m\u001b[43mtolerance\u001b[49m\u001b[43m,\u001b[49m\n\u001b[1;32m   5389\u001b[0m \u001b[43m    \u001b[49m\u001b[43m)\u001b[49m\n",
      "File \u001b[0;32m/opt/anaconda3/envs/qss20/lib/python3.9/site-packages/pandas/core/generic.py:5610\u001b[0m, in \u001b[0;36mNDFrame.reindex\u001b[0;34m(self, labels, index, columns, axis, method, copy, level, fill_value, limit, tolerance)\u001b[0m\n\u001b[1;32m   5607\u001b[0m     \u001b[38;5;28;01mreturn\u001b[39;00m \u001b[38;5;28mself\u001b[39m\u001b[38;5;241m.\u001b[39m_reindex_multi(axes, copy, fill_value)\n\u001b[1;32m   5609\u001b[0m \u001b[38;5;66;03m# perform the reindex on the axes\u001b[39;00m\n\u001b[0;32m-> 5610\u001b[0m \u001b[38;5;28;01mreturn\u001b[39;00m \u001b[38;5;28;43mself\u001b[39;49m\u001b[38;5;241;43m.\u001b[39;49m\u001b[43m_reindex_axes\u001b[49m\u001b[43m(\u001b[49m\n\u001b[1;32m   5611\u001b[0m \u001b[43m    \u001b[49m\u001b[43maxes\u001b[49m\u001b[43m,\u001b[49m\u001b[43m \u001b[49m\u001b[43mlevel\u001b[49m\u001b[43m,\u001b[49m\u001b[43m \u001b[49m\u001b[43mlimit\u001b[49m\u001b[43m,\u001b[49m\u001b[43m \u001b[49m\u001b[43mtolerance\u001b[49m\u001b[43m,\u001b[49m\u001b[43m \u001b[49m\u001b[43mmethod\u001b[49m\u001b[43m,\u001b[49m\u001b[43m \u001b[49m\u001b[43mfill_value\u001b[49m\u001b[43m,\u001b[49m\u001b[43m \u001b[49m\u001b[43mcopy\u001b[49m\n\u001b[1;32m   5612\u001b[0m \u001b[43m\u001b[49m\u001b[43m)\u001b[49m\u001b[38;5;241m.\u001b[39m__finalize__(\u001b[38;5;28mself\u001b[39m, method\u001b[38;5;241m=\u001b[39m\u001b[38;5;124m\"\u001b[39m\u001b[38;5;124mreindex\u001b[39m\u001b[38;5;124m\"\u001b[39m)\n",
      "File \u001b[0;32m/opt/anaconda3/envs/qss20/lib/python3.9/site-packages/pandas/core/generic.py:5633\u001b[0m, in \u001b[0;36mNDFrame._reindex_axes\u001b[0;34m(self, axes, level, limit, tolerance, method, fill_value, copy)\u001b[0m\n\u001b[1;32m   5630\u001b[0m     \u001b[38;5;28;01mcontinue\u001b[39;00m\n\u001b[1;32m   5632\u001b[0m ax \u001b[38;5;241m=\u001b[39m \u001b[38;5;28mself\u001b[39m\u001b[38;5;241m.\u001b[39m_get_axis(a)\n\u001b[0;32m-> 5633\u001b[0m new_index, indexer \u001b[38;5;241m=\u001b[39m \u001b[43max\u001b[49m\u001b[38;5;241;43m.\u001b[39;49m\u001b[43mreindex\u001b[49m\u001b[43m(\u001b[49m\n\u001b[1;32m   5634\u001b[0m \u001b[43m    \u001b[49m\u001b[43mlabels\u001b[49m\u001b[43m,\u001b[49m\u001b[43m \u001b[49m\u001b[43mlevel\u001b[49m\u001b[38;5;241;43m=\u001b[39;49m\u001b[43mlevel\u001b[49m\u001b[43m,\u001b[49m\u001b[43m \u001b[49m\u001b[43mlimit\u001b[49m\u001b[38;5;241;43m=\u001b[39;49m\u001b[43mlimit\u001b[49m\u001b[43m,\u001b[49m\u001b[43m \u001b[49m\u001b[43mtolerance\u001b[49m\u001b[38;5;241;43m=\u001b[39;49m\u001b[43mtolerance\u001b[49m\u001b[43m,\u001b[49m\u001b[43m \u001b[49m\u001b[43mmethod\u001b[49m\u001b[38;5;241;43m=\u001b[39;49m\u001b[43mmethod\u001b[49m\n\u001b[1;32m   5635\u001b[0m \u001b[43m\u001b[49m\u001b[43m)\u001b[49m\n\u001b[1;32m   5637\u001b[0m axis \u001b[38;5;241m=\u001b[39m \u001b[38;5;28mself\u001b[39m\u001b[38;5;241m.\u001b[39m_get_axis_number(a)\n\u001b[1;32m   5638\u001b[0m obj \u001b[38;5;241m=\u001b[39m obj\u001b[38;5;241m.\u001b[39m_reindex_with_indexers(\n\u001b[1;32m   5639\u001b[0m     {axis: [new_index, indexer]},\n\u001b[1;32m   5640\u001b[0m     fill_value\u001b[38;5;241m=\u001b[39mfill_value,\n\u001b[1;32m   5641\u001b[0m     copy\u001b[38;5;241m=\u001b[39mcopy,\n\u001b[1;32m   5642\u001b[0m     allow_dups\u001b[38;5;241m=\u001b[39m\u001b[38;5;28;01mFalse\u001b[39;00m,\n\u001b[1;32m   5643\u001b[0m )\n",
      "File \u001b[0;32m/opt/anaconda3/envs/qss20/lib/python3.9/site-packages/pandas/core/indexes/base.py:4429\u001b[0m, in \u001b[0;36mIndex.reindex\u001b[0;34m(self, target, method, level, limit, tolerance)\u001b[0m\n\u001b[1;32m   4426\u001b[0m     \u001b[38;5;28;01mraise\u001b[39;00m \u001b[38;5;167;01mValueError\u001b[39;00m(\u001b[38;5;124m\"\u001b[39m\u001b[38;5;124mcannot handle a non-unique multi-index!\u001b[39m\u001b[38;5;124m\"\u001b[39m)\n\u001b[1;32m   4427\u001b[0m \u001b[38;5;28;01melif\u001b[39;00m \u001b[38;5;129;01mnot\u001b[39;00m \u001b[38;5;28mself\u001b[39m\u001b[38;5;241m.\u001b[39mis_unique:\n\u001b[1;32m   4428\u001b[0m     \u001b[38;5;66;03m# GH#42568\u001b[39;00m\n\u001b[0;32m-> 4429\u001b[0m     \u001b[38;5;28;01mraise\u001b[39;00m \u001b[38;5;167;01mValueError\u001b[39;00m(\u001b[38;5;124m\"\u001b[39m\u001b[38;5;124mcannot reindex on an axis with duplicate labels\u001b[39m\u001b[38;5;124m\"\u001b[39m)\n\u001b[1;32m   4430\u001b[0m \u001b[38;5;28;01melse\u001b[39;00m:\n\u001b[1;32m   4431\u001b[0m     indexer, _ \u001b[38;5;241m=\u001b[39m \u001b[38;5;28mself\u001b[39m\u001b[38;5;241m.\u001b[39mget_indexer_non_unique(target)\n",
      "\u001b[0;31mValueError\u001b[0m: cannot reindex on an axis with duplicate labels"
     ]
    }
   ],
   "source": [
    "# Step C: Print the top 10 words for press releases with compound sentiment in the bottom 5% (so the most negative sentiment)\n",
    "dtm_top_positive = dtm[dtm[\"compound\"] <= dtm[\"compound\"].quantile(0.05)]"
   ]
  },
  {
   "cell_type": "code",
   "execution_count": 100,
   "metadata": {},
   "outputs": [
    {
     "data": {
      "text/plain": [
       "offic        637\n",
       "hous         633\n",
       "discrimin    616\n",
       "enforc       544\n",
       "disabl       532\n",
       "said         497\n",
       "feder        479\n",
       "violat       477\n",
       "state        452\n",
       "court        414\n",
       "dtype: int64"
      ]
     },
     "execution_count": 100,
     "metadata": {},
     "output_type": "execute_result"
    },
    {
     "data": {
      "text/plain": [
       "child          1022\n",
       "exploit         701\n",
       "sexual          572\n",
       "safe            479\n",
       "childhood       474\n",
       "project         472\n",
       "pornographi     452\n",
       "children        423\n",
       "crimin          405\n",
       "prosecut        374\n",
       "dtype: int64"
      ]
     },
     "execution_count": 100,
     "metadata": {},
     "output_type": "execute_result"
    },
    {
     "data": {
      "text/plain": [
       "victim      591\n",
       "crime       557\n",
       "hate        524\n",
       "defend      484\n",
       "prosecut    478\n",
       "charg       463\n",
       "sentenc     455\n",
       "american    451\n",
       "feder       432\n",
       "guilti      430\n",
       "dtype: int64"
      ]
     },
     "execution_count": 100,
     "metadata": {},
     "output_type": "execute_result"
    }
   ],
   "source": [
    "# Step D: Print the top 10 words for press releases in each of the three `topics_clean`\n",
    "for topic in dtm[\"topics_clean\"].unique():\n",
    "    dtm_topic_subset = dtm[dtm[\"topics_clean\"] == topic]\n",
    "    get_topwords(dtm_topic_subset)"
   ]
  },
  {
   "cell_type": "code",
   "execution_count": null,
   "metadata": {},
   "outputs": [],
   "source": []
  },
  {
   "cell_type": "markdown",
   "metadata": {},
   "source": [
    "## 2.4 Add topics back to main data and explore correlation between manual labels and our estimated topics (10 points)\n",
    "\n",
    "A. Extract the document-level topic probabilities. Within `get_document_topics`, use the argument `minimum_probability` = 0 to make sure all 3 topic probabilities are returned. Write an assert statement to make sure the length of the list is equal to the number of rows in the `doj_subset_wscores` dataframe\n",
    "\n",
    "B. Add the topic probabilities to the `doj_subset_wscores` dataframe as columns and create a column, `top_topic`, that reflects each document to its highest-probability topic (eg topic 1, 2, or 3)\n",
    "\n",
    "C. For each of the manual labels in `topics_clean` (Hate Crime, Civil Rights, Project Safe Childhood), print the breakdown of the % of documents with each top topic (so, for instance, Hate Crime has 246 documents-- if 123 of those documents are coded to topic_1, that would be 50%; and so on). **Hint**: pd.crosstab and normalize may be helpful: https://pandas.pydata.org/pandas-docs/version/0.23/generated/pandas.crosstab.html\n",
    "\n",
    "D. Using a couple press releases as examples, write a 1-2 sentence interpretation of why some of the manual topics map on more cleanly to an estimated topic than other manual topic(s)\n"
   ]
  },
  {
   "cell_type": "code",
   "execution_count": 116,
   "metadata": {},
   "outputs": [],
   "source": [
    "## your code here to get doc-level topic probabilities \n",
    "topic_probs = [lda_model.get_document_topics(doc, minimum_probability=0) for doc in corpus]\n",
    "assert len(topic_probs) == len(doj_subset_wscore), \"The number of topic probability lists should match the number of rows in doj_subset_wscores.\""
   ]
  },
  {
   "cell_type": "code",
   "execution_count": 117,
   "metadata": {},
   "outputs": [
    {
     "data": {
      "text/html": [
       "<div>\n",
       "<style scoped>\n",
       "    .dataframe tbody tr th:only-of-type {\n",
       "        vertical-align: middle;\n",
       "    }\n",
       "\n",
       "    .dataframe tbody tr th {\n",
       "        vertical-align: top;\n",
       "    }\n",
       "\n",
       "    .dataframe thead th {\n",
       "        text-align: right;\n",
       "    }\n",
       "</style>\n",
       "<table border=\"1\" class=\"dataframe\">\n",
       "  <thead>\n",
       "    <tr style=\"text-align: right;\">\n",
       "      <th></th>\n",
       "      <th>index</th>\n",
       "      <th>id</th>\n",
       "      <th>title</th>\n",
       "      <th>contents</th>\n",
       "      <th>date</th>\n",
       "      <th>topics_clean</th>\n",
       "      <th>components_clean</th>\n",
       "      <th>sentiment_dictionary</th>\n",
       "      <th>index</th>\n",
       "      <th>neg</th>\n",
       "      <th>...</th>\n",
       "      <th>Topic_1_Prob</th>\n",
       "      <th>Topic_2_Prob</th>\n",
       "      <th>Topic_3_Prob</th>\n",
       "      <th>processed_text_bigrams</th>\n",
       "      <th>Topic_1_Prob</th>\n",
       "      <th>Topic_2_Prob</th>\n",
       "      <th>Topic_3_Prob</th>\n",
       "      <th>Topic_1_Prob</th>\n",
       "      <th>Topic_2_Prob</th>\n",
       "      <th>Topic_3_Prob</th>\n",
       "    </tr>\n",
       "  </thead>\n",
       "  <tbody>\n",
       "    <tr>\n",
       "      <th>0</th>\n",
       "      <td>77</td>\n",
       "      <td>17-1235</td>\n",
       "      <td>Additional Former Correctional Officer Pleads Guilty to Beating of Handcuffed and Shackled Inmate at Angola State Prison</td>\n",
       "      <td>A former supervisory correctional officer at Louisiana State Penitentiary in Angola, Louisiana, pleaded guilty yesterday in connection with the beating of a handcuffed and shackled inmate, in addition to conspiring to cover up their misconduct by falsifying official records and lying to internal investigators about what happened.     James Savoy, 39, of Marksville, Louisiana, admitted during his plea hearing that he witnessed other officers using excessive force against the inmate and failed to intervene; that he conspired with other officers to cover up the beating by engaging in a variety of obstructive acts; and that he personally falsified official prison records to cover up the attack.   Scotty Kennedy, 48, of Beebe, Arkansas, and John Sanders, 30, of Marksville, Louisiana previously pleaded guilty in November 2016, and September 2017, for their roles in the beating and cover up.   “Every citizen has the right to due process and protection from unreasonable force, and correctional officers who violate these basic Constitutional rights must be held accountable for their egregious actions” said Acting Assistant Attorney General John Gore of the Civil Rights Division.  “The Justice Department will continue to vigorously prosecute correctional officers who violate the public’s trust by committing crimes and to covering up violations of federal criminal law.”   “Yesterday is another example of our office’s unwavering commitment to pursuing those who violate the federal criminal civil rights laws,” said Acting United States Attorney for the Middle District of Louisiana Corey Amundson. “We will continue to work closely with the Justice Department’s Civil Rights Division and the FBI to ensure that no one is above the law.”     This case is being investigated by the FBI’s Baton Rouge Resident Agency and is being prosecuted by Assistant U.S. Attorney Frederick A. Menner, Jr. of the Middle District of Louisiana and Trial Attorney Christopher J. Perras of the Civil Rights Division’s Criminal Section.</td>\n",
       "      <td>2017-11-02T00:00:00-04:00</td>\n",
       "      <td>Civil Rights</td>\n",
       "      <td>Civil Rights Division; USAO - Louisiana, Middle</td>\n",
       "      <td>{'neg': 0.199, 'neu': 0.751, 'pos': 0.049, 'compound': -0.9931}</td>\n",
       "      <td>0</td>\n",
       "      <td>0.199</td>\n",
       "      <td>...</td>\n",
       "      <td>0.018474</td>\n",
       "      <td>0.978801</td>\n",
       "      <td>0.002725</td>\n",
       "      <td>former_supervisori supervisori_correct correct_offic offic_louisiana louisiana_state state_penitentiari penitentiari_angola angola_louisiana louisiana_plead plead_guilti guilti_yesterday yesterday_connect connect_beat beat_handcuf handcuf_shackl shackl_inmat inmat_addit addit_conspir conspir_cover cover_misconduct misconduct_falsifi falsifi_offici offici_record record_lie lie_intern intern_investig investig_happen happen_jame jame_savoy savoy_marksvill marksvill_louisiana louisiana_admit admit_plea plea_hear hear_wit wit_offic offic_use use_excess excess_forc forc_inmat inmat_fail fail_interven interven_conspir conspir_offic offic_cover cover_beat beat_engag engag_varieti varieti_obstruct obstruct_act act_person person_falsifi falsifi_offici offici_prison prison_record record_cover cover_attack attack_scotti scotti_kennedi kennedi_beeb beeb_arkansa arkansa_john john_sander sander_marksvill marksvill_louisiana louisiana_previous previous_plead plead_guilti guilti_novemb novemb_septemb septemb_role role_beat beat_cover cover_everi everi_citizen citizen_right right_process process_protect protect_unreason unreason_forc forc_correct correct_offic offic_violat violat_basic basic_constitut constitut_must must_held held_account account_egregi egregi_action action_said said_act act_general general_john john_gore gore_continu continu_vigor vigor_prosecut prosecut_correct correct_offic offic_violat violat_public public_trust trust_commit commit_crime crime_cover cover_violat violat_feder feder_crimin crimin_yesterday yesterday_anoth anoth_exampl exampl_unwav unwav_commit commit_pursu pursu_violat violat_feder feder_crimin crimin_law law_said said_act act_unit unit_state state_middl middl_louisiana louisiana_corey corey_amundson amundson_continu continu_work work_close close_ensur ensur_investig investig_baton baton_roug roug_resid resid_agenc agenc_prosecut prosecut_frederick frederick_menner menner_middl middl_louisiana louisiana_christoph christoph_perra perra_crimin crimin_section</td>\n",
       "      <td>0.017223</td>\n",
       "      <td>0.980052</td>\n",
       "      <td>0.002725</td>\n",
       "      <td>0.016957</td>\n",
       "      <td>0.980318</td>\n",
       "      <td>0.002725</td>\n",
       "    </tr>\n",
       "    <tr>\n",
       "      <th>1</th>\n",
       "      <td>155</td>\n",
       "      <td>15-1522</td>\n",
       "      <td>Alabama Man Found Guilty of Aggravated Sexual Abuse of a Child</td>\n",
       "      <td>A federal jury convicted Rick Lee Evans, 43, of Anniston, Alabama, today of aggravated sexual abuse of a child after a five-day trial, Assistant Attorney General Leslie R. Caldwell of the Justice Department’s Criminal Division and U.S. Attorney Joyce White Vance of the Northern District of Alabama announced.  According to evidence introduced at trial, Evans, a former U.S. Army soldier, and his then-wife, a Department of Defense employee, were residing in Germany when they were asked to take temporary custody of a five-year-old child whose parents were deployed to Iraq with the U.S. Army.  Evans sexually abused the child on multiple occasions during the 18 months that the child lived with him from May 2007 to December 2008.  Trial Attorney Austin M. Berry of the Criminal Division’s Child Exploitation and Obscenity Section (CEOS) and Assistant U.S. Attorney Jacquelyn Hutzell of the Northern District of Alabama are prosecuting the case.  U.S. Army Criminal Investigations Division and the FBI’s Birmingham, Alabama, Division investigated the case. This case was brought as part of Project Safe Childhood, a nationwide initiative to combat the growing epidemic of child sexual exploitation and abuse, launched in May 2006 by the Department of Justice.  Led by U.S. Attorneys’ offices and CEOS, Project Safe Childhood marshals federal, state and local resources to better locate, apprehend and prosecute individuals who exploit children via the Internet, as well as to identify and rescue victims.  For more information about Project Safe Childhood, please visit www.justice.gov/psc.</td>\n",
       "      <td>2015-12-11T00:00:00-05:00</td>\n",
       "      <td>Project Safe Childhood</td>\n",
       "      <td>Criminal Division; Criminal - Child Exploitation and Obscenity Section; USAO - Alabama, Northern</td>\n",
       "      <td>{'neg': 0.133, 'neu': 0.799, 'pos': 0.068, 'compound': -0.9325}</td>\n",
       "      <td>1</td>\n",
       "      <td>0.133</td>\n",
       "      <td>...</td>\n",
       "      <td>0.003262</td>\n",
       "      <td>0.003026</td>\n",
       "      <td>0.993712</td>\n",
       "      <td>feder_juri juri_convict convict_rick rick_evan evan_anniston anniston_alabama alabama_today today_aggrav aggrav_sexual sexual_abus abus_child child_five five_general general_lesli lesli_caldwel caldwel_crimin crimin_joyc joyc_white white_vanc vanc_northern northern_alabama alabama_announc announc_accord accord_evid evid_introduc introduc_evan evan_former former_armi armi_soldier soldier_wife wife_defens defens_employe employe_resid resid_germani germani_ask ask_take take_temporari temporari_custodi custodi_five five_year year_child child_whose whose_parent parent_deploy deploy_iraq iraq_armi armi_evan evan_sexual sexual_abus abus_child child_multipl multipl_occas occas_month month_child child_live live_decemb decemb_austin austin_berri berri_crimin crimin_child child_exploit exploit_obscen obscen_section section_ceo ceo_jacquelyn jacquelyn_hutzel hutzel_northern northern_alabama alabama_prosecut prosecut_armi armi_crimin crimin_investig investig_birmingham birmingham_alabama alabama_investig investig_brought brought_part part_project project_safe safe_childhood childhood_nationwid nationwid_initi initi_combat combat_grow grow_epidem epidem_child child_sexual sexual_exploit exploit_abus abus_launch launch_attorney attorney_offic offic_ceo ceo_project project_safe safe_childhood childhood_marshal marshal_feder feder_state state_local local_resourc resourc_better better_locat locat_apprehend apprehend_prosecut prosecut_individu individu_exploit exploit_children children_internet internet_well well_identifi identifi_rescu rescu_victim victim_inform inform_project project_safe safe_childhood childhood_pleas pleas_visit</td>\n",
       "      <td>0.003262</td>\n",
       "      <td>0.003026</td>\n",
       "      <td>0.993712</td>\n",
       "      <td>0.003265</td>\n",
       "      <td>0.003026</td>\n",
       "      <td>0.993709</td>\n",
       "    </tr>\n",
       "    <tr>\n",
       "      <th>2</th>\n",
       "      <td>157</td>\n",
       "      <td>16-213</td>\n",
       "      <td>Alabama Man Indicted on Child Pornography and Sex Tourism Charges</td>\n",
       "      <td>An Alabama native was indicted today and charged with multiple crimes involving travel with intent to engage in illicit sexual conduct with minors and child pornography, announced Assistant Attorney General Leslie R. Caldwell of the Justice Department’s Criminal Division and U.S. Attorney Kenyen R. Brown of the Southern District of Alabama. Clarence Edward Evers Jr., aka Bud, a technology teacher employed by the Conecuh County, Alabama, Board of Education, was arrested on Feb. 11, 2016, and was charged today with five counts of travel with intent to engage in illicit sexual conduct with a minor, one count of attempted travel with intent to engage in illicit sexual conduct with a minor, one count of production and attempted production of child pornography, one count of transportation of child pornography, one count of receipt of child pornography, one count of access with intent to view child pornography and one count of possession of child pornography. According to the indictment, Evers allegedly traveled to Thailand in the summers of 2010 through 2014 for the purpose of engaging in illicit sexual conduct with a minor and allegedly attempted to make a similar trip in the spring of 2015.  During the 2014 trip, Evers also allegedly photographed his victims’ abuse and then transported the images back to the United States.  In addition, Evers allegedly had other images of child sexual exploitation on his computers and other electronic devices. The charges contained in the indictment are only allegations.  Evers is presumed innocent unless and until he is proven guilty beyond a reasonable doubt in a court of law. ICE-HSI is investigating this case.  Trial Attorney James E. Burke IV of the Criminal Division’s Child Exploitation and Obscenity Section (CEOS) and Assistant U.S. Attorneys Sean P. Costello and Maria E. Murphy of the Southern District of Alabama are prosecuting the case. This case was brought as part of Project Safe Childhood, a nationwide initiative to combat the growing epidemic of child sexual exploitation and abuse launched in May 2006 by the Department of Justice.  Led by U.S. Attorneys’ Offices and CEOS, Project Safe Childhood marshals federal, state and local resources to better locate, apprehend and prosecute individuals who exploit children via the Internet, as well as to identify and rescue victims.  For more information about Project Safe Childhood, please visit www.justice.gov/psc.</td>\n",
       "      <td>2016-02-24T00:00:00-05:00</td>\n",
       "      <td>Project Safe Childhood</td>\n",
       "      <td>Criminal Division; Criminal - Child Exploitation and Obscenity Section; USAO - Alabama, Southern</td>\n",
       "      <td>{'neg': 0.093, 'neu': 0.83, 'pos': 0.077, 'compound': -0.7579}</td>\n",
       "      <td>2</td>\n",
       "      <td>0.093</td>\n",
       "      <td>...</td>\n",
       "      <td>0.001960</td>\n",
       "      <td>0.001855</td>\n",
       "      <td>0.996185</td>\n",
       "      <td>alabama_nativ nativ_indict indict_today today_charg charg_multipl multipl_crime crime_involv involv_travel travel_intent intent_engag engag_illicit illicit_sexual sexual_conduct conduct_minor minor_child child_pornographi pornographi_announc announc_general general_lesli lesli_caldwel caldwel_crimin crimin_kenyen kenyen_brown brown_southern southern_alabama alabama_clarenc clarenc_edward edward_ever ever_technolog technolog_teacher teacher_employ employ_conecuh conecuh_counti counti_alabama alabama_board board_educ educ_arrest arrest_charg charg_today today_five five_count count_travel travel_intent intent_engag engag_illicit illicit_sexual sexual_conduct conduct_minor minor_count count_attempt attempt_travel travel_intent intent_engag engag_illicit illicit_sexual sexual_conduct conduct_minor minor_count count_product product_attempt attempt_product product_child child_pornographi pornographi_count count_transport transport_child child_pornographi pornographi_count count_receipt receipt_child child_pornographi pornographi_count count_access access_intent intent_view view_child child_pornographi pornographi_count count_possess possess_child child_pornographi pornographi_accord accord_indict indict_ever ever_alleg alleg_travel travel_thailand thailand_summer summer_purpos purpos_engag engag_illicit illicit_sexual sexual_conduct conduct_minor minor_alleg alleg_attempt attempt_make make_similar similar_trip trip_spring spring_trip trip_ever ever_also also_alleg alleg_photograph photograph_victim victim_abus abus_transport transport_imag imag_back back_unit unit_state state_addit addit_ever ever_alleg alleg_imag imag_child child_sexual sexual_exploit exploit_comput comput_electron electron_devic devic_charg charg_contain contain_indict indict_alleg alleg_ever ever_presum presum_innoc innoc_unless unless_proven proven_guilti guilti_beyond beyond_reason reason_doubt doubt_court court_investig investig_jame jame_burk burk_crimin crimin_child child_exploit exploit_obscen obscen_section section_ceo ceo_attorney attorney_sean sean_costello costello_maria maria_murphi murphi_southern southern_alabama alabama_prosecut prosecut_brought brought_part part_project project_safe safe_childhood childhood_nationwid nationwid_initi initi_combat combat_grow grow_epidem epidem_child child_sexual sexual_exploit exploit_abus abus_launch launch_attorney attorney_offic offic_ceo ceo_project project_safe safe_childhood childhood_marshal marshal_feder feder_state state_local local_resourc resourc_better better_locat locat_apprehend apprehend_prosecut prosecut_individu individu_exploit exploit_children children_internet internet_well well_identifi identifi_rescu rescu_victim victim_inform inform_project project_safe safe_childhood childhood_pleas pleas_visit</td>\n",
       "      <td>0.001958</td>\n",
       "      <td>0.001855</td>\n",
       "      <td>0.996187</td>\n",
       "      <td>0.001958</td>\n",
       "      <td>0.001855</td>\n",
       "      <td>0.996187</td>\n",
       "    </tr>\n",
       "    <tr>\n",
       "      <th>3</th>\n",
       "      <td>162</td>\n",
       "      <td>16-381</td>\n",
       "      <td>Alabama Man Indicted for Producing Child Pornography Involving Multiple Victims</td>\n",
       "      <td>An Alabama man was indicted today by a federal grand jury in Birmingham, Alabama, on charges related to the production of child pornography involving four minor victims, announced Assistant Attorney General Leslie R. Caldwell of the Justice Department’s Criminal Division and U.S. Joyce White Vance of the Northern District of Alabama. Gregory Jerome Lee, 53, formerly of Cullman County, Alabama, was indicted on four counts of production of child pornography, one count of conspiracy to advertise child pornography and one count of conspiracy to distribute and receive child pornography. According to the indictment, from September 1996 through December 2004, Lee used, persuaded, coerced and enticed minors to engage in sexually explicit conduct in order to produce images of that conduct.  Between September 1996 and August 2007, Lee conspired with other individuals to distribute and receive child pornography through a variety of means, including the Internet. The U.S. Postal Inspection Service (USPIS) is investigating the case.  Trial Attorney Amy E. Larson of the Criminal Division’s Child Exploitation and Obscenity Section (CEOS) and Assistant U.S. Attorney Jacquelyn Hutzell of the Northern District of Alabama are prosecuting the case.  The charges and allegations contained in an indictment are merely accusations.  The defendant is presumed innocent unless and until proven guilty.  Members of the public who may have information related to this matter should call the USPIS Birmingham Office at (205) 326-2909. This case was brought as part of Project Safe Childhood, a nationwide initiative to combat the growing epidemic of child sexual exploitation and abuse launched in May 2006 by the Department of Justice.  Led by U.S. Attorneys’ Offices and CEOS, Project Safe Childhood marshals federal, state and local resources to better locate, apprehend and prosecute individuals who exploit children via the Internet, as well as to identify and rescue victims.  For more information about Project Safe Childhood, please visit www.justice.gov/psc.</td>\n",
       "      <td>2016-03-30T00:00:00-04:00</td>\n",
       "      <td>Project Safe Childhood</td>\n",
       "      <td>Criminal Division; Criminal - Child Exploitation and Obscenity Section; USAO - Alabama, Northern</td>\n",
       "      <td>{'neg': 0.126, 'neu': 0.789, 'pos': 0.085, 'compound': -0.9037}</td>\n",
       "      <td>3</td>\n",
       "      <td>0.126</td>\n",
       "      <td>...</td>\n",
       "      <td>0.020199</td>\n",
       "      <td>0.002340</td>\n",
       "      <td>0.977461</td>\n",
       "      <td>alabama_indict indict_today today_feder feder_grand grand_juri juri_birmingham birmingham_alabama alabama_charg charg_relat relat_product product_child child_pornographi pornographi_involv involv_four four_minor minor_victim victim_announc announc_general general_lesli lesli_caldwel caldwel_crimin crimin_joyc joyc_white white_vanc vanc_northern northern_alabama alabama_gregori gregori_jerom jerom_former former_cullman cullman_counti counti_alabama alabama_indict indict_four four_count count_product product_child child_pornographi pornographi_count count_conspiraci conspiraci_advertis advertis_child child_pornographi pornographi_count count_conspiraci conspiraci_distribut distribut_receiv receiv_child child_pornographi pornographi_accord accord_indict indict_septemb septemb_decemb decemb_use use_persuad persuad_coerc coerc_entic entic_minor minor_engag engag_sexual sexual_explicit explicit_conduct conduct_order order_produc produc_imag imag_conduct conduct_septemb septemb_august august_conspir conspir_individu individu_distribut distribut_receiv receiv_child child_pornographi pornographi_varieti varieti_mean mean_includ includ_internet internet_postal postal_inspect inspect_servic servic_uspi uspi_investig investig_larson larson_crimin crimin_child child_exploit exploit_obscen obscen_section section_ceo ceo_jacquelyn jacquelyn_hutzel hutzel_northern northern_alabama alabama_prosecut prosecut_charg charg_alleg alleg_contain contain_indict indict_mere mere_accus accus_defend defend_presum presum_innoc innoc_unless unless_proven proven_guilti guilti_member member_public public_inform inform_relat relat_matter matter_call call_uspi uspi_birmingham birmingham_brought brought_part part_project project_safe safe_childhood childhood_nationwid nationwid_initi initi_combat combat_grow grow_epidem epidem_child child_sexual sexual_exploit exploit_abus abus_launch launch_attorney attorney_offic offic_ceo ceo_project project_safe safe_childhood childhood_marshal marshal_feder feder_state state_local local_resourc resourc_better better_locat locat_apprehend apprehend_prosecut prosecut_individu individu_exploit exploit_children children_internet internet_well well_identifi identifi_rescu rescu_victim victim_inform inform_project project_safe safe_childhood childhood_pleas pleas_visit</td>\n",
       "      <td>0.014402</td>\n",
       "      <td>0.002340</td>\n",
       "      <td>0.983257</td>\n",
       "      <td>0.018020</td>\n",
       "      <td>0.002340</td>\n",
       "      <td>0.979639</td>\n",
       "    </tr>\n",
       "    <tr>\n",
       "      <th>4</th>\n",
       "      <td>168</td>\n",
       "      <td>14-464</td>\n",
       "      <td>Alabama Man Indicted for Threatening African-American Man and Another Person at Restaurant</td>\n",
       "      <td>Jeremy Heath Higgins was indicted for threatening an African-American man at a Quinton, Alabama, restaurant, and for threatening another person who ordered Higgins to leave the restaurant due to his behavior, Acting Assistant Attorney General Jocelyn Samuels for the Justice Department’s Civil Rights Division and U.S. Attorney Joyce Vance for the Northern District of Alabama announced today.   Higgins, 28, was charged in a three count indictment returned yesterday by a federal grand jury in the U.S. District Court for the Northern District of Alabama.  The indictment charges him with one felony count and two misdemeanor counts of interference with a federally-protected activity.  The indictment alleges that on June 14, 2013, Higgins approached and threatened an African-American man at the Alabama Rose Steakhouse because the man was present at the restaurant with a white woman.  According to the indictment, another person ordered Higgins to leave the premises of the restaurant because of Higgins’ behavior toward the African-American man, after which Higgins allegedly shouted a threat to burn down the restaurant.  The indictment further alleges that Higgins threatened the person who had ordered him to leave the restaurant by painting graffiti on the restaurant’s exterior and fence.     If convicted of the felony count of the indictment, Higgins could face a maximum sentence of 10 years in prison and a $250,000 fine.  For each of the misdemeanor charges, Higgins could face a maximum sentence of one year in prison and a $200,000 fine.   This case is being investigated by the FBI and is being prosecuted by Assistant U.S. Attorney Robin B. Mark of the Northern District of Alabama and Trial Attorney David Reese of the Justice Department’s Civil Rights Division. An indictment is merely an accusation, and the defendant is presumed innocent unless proven guilty.</td>\n",
       "      <td>2014-05-01T00:00:00-04:00</td>\n",
       "      <td>Hate Crimes</td>\n",
       "      <td>Civil Rights Division; Civil Rights - Criminal Section</td>\n",
       "      <td>{'neg': 0.178, 'neu': 0.778, 'pos': 0.044, 'compound': -0.9864}</td>\n",
       "      <td>4</td>\n",
       "      <td>0.178</td>\n",
       "      <td>...</td>\n",
       "      <td>0.687335</td>\n",
       "      <td>0.002960</td>\n",
       "      <td>0.309705</td>\n",
       "      <td>jeremi_heath heath_higgin higgin_indict indict_threaten threaten_african african_american american_quinton quinton_alabama alabama_restaur restaur_threaten threaten_anoth anoth_person person_order order_higgin higgin_leav leav_restaur restaur_behavior behavior_act act_general general_jocelyn jocelyn_samuel samuel_joyc joyc_vanc vanc_northern northern_alabama alabama_announc announc_today today_higgin higgin_charg charg_three three_count count_indict indict_return return_yesterday yesterday_feder feder_grand grand_juri juri_court court_northern northern_alabama alabama_indict indict_charg charg_feloni feloni_count count_misdemeanor misdemeanor_count count_interfer interfer_feder feder_protect protect_activ activ_indict indict_alleg alleg_june june_higgin higgin_approach approach_threaten threaten_african african_american american_alabama alabama_rose rose_steakhous steakhous_present present_restaur restaur_white white_woman woman_accord accord_indict indict_anoth anoth_person person_order order_higgin higgin_leav leav_premis premis_restaur restaur_higgin higgin_behavior behavior_toward toward_african african_american american_higgin higgin_alleg alleg_shout shout_threat threat_burn burn_restaur restaur_indict indict_alleg alleg_higgin higgin_threaten threaten_person person_order order_leav leav_restaur restaur_paint paint_graffiti graffiti_restaur restaur_exterior exterior_fenc fenc_convict convict_feloni feloni_count count_indict indict_higgin higgin_could could_face face_maximum maximum_sentenc sentenc_year year_prison prison_fine fine_misdemeanor misdemeanor_charg charg_higgin higgin_could could_face face_maximum maximum_sentenc sentenc_year year_prison prison_fine fine_investig investig_prosecut prosecut_robin robin_mark mark_northern northern_alabama alabama_david david_rees rees_indict indict_mere mere_accus accus_defend defend_presum presum_innoc innoc_unless unless_proven proven_guilti</td>\n",
       "      <td>0.708263</td>\n",
       "      <td>0.002960</td>\n",
       "      <td>0.288778</td>\n",
       "      <td>0.691473</td>\n",
       "      <td>0.002965</td>\n",
       "      <td>0.305562</td>\n",
       "    </tr>\n",
       "  </tbody>\n",
       "</table>\n",
       "<p>5 rows × 34 columns</p>\n",
       "</div>"
      ],
      "text/plain": [
       "   index       id  \\\n",
       "0     77  17-1235   \n",
       "1    155  15-1522   \n",
       "2    157   16-213   \n",
       "3    162   16-381   \n",
       "4    168   14-464   \n",
       "\n",
       "                                                                                                                      title  \\\n",
       "0  Additional Former Correctional Officer Pleads Guilty to Beating of Handcuffed and Shackled Inmate at Angola State Prison   \n",
       "1                                                            Alabama Man Found Guilty of Aggravated Sexual Abuse of a Child   \n",
       "2                                                        Alabama Man Indicted on Child Pornography and Sex Tourism Charges    \n",
       "3                                           Alabama Man Indicted for Producing Child Pornography Involving Multiple Victims   \n",
       "4                                Alabama Man Indicted for Threatening African-American Man and Another Person at Restaurant   \n",
       "\n",
       "                                                                                                                                                                                                                                                                                                                                                                                                                                                                                                                                                                                                                                                                                                                                                                                                                                                                                                                                                                                                                                                                                                                                                                                                                                                                                                                                                                                                                                                                                                                                                                                                                                                                                                                                                                                                                                                                                                                                                                                                                                                                                                                                                                                                                                                                                                                                                                                                                                                                                                                                    contents  \\\n",
       "0                                                                                                                                                                                                                                                                                                                                                                                                                               A former supervisory correctional officer at Louisiana State Penitentiary in Angola, Louisiana, pleaded guilty yesterday in connection with the beating of a handcuffed and shackled inmate, in addition to conspiring to cover up their misconduct by falsifying official records and lying to internal investigators about what happened.     James Savoy, 39, of Marksville, Louisiana, admitted during his plea hearing that he witnessed other officers using excessive force against the inmate and failed to intervene; that he conspired with other officers to cover up the beating by engaging in a variety of obstructive acts; and that he personally falsified official prison records to cover up the attack.   Scotty Kennedy, 48, of Beebe, Arkansas, and John Sanders, 30, of Marksville, Louisiana previously pleaded guilty in November 2016, and September 2017, for their roles in the beating and cover up.   “Every citizen has the right to due process and protection from unreasonable force, and correctional officers who violate these basic Constitutional rights must be held accountable for their egregious actions” said Acting Assistant Attorney General John Gore of the Civil Rights Division.  “The Justice Department will continue to vigorously prosecute correctional officers who violate the public’s trust by committing crimes and to covering up violations of federal criminal law.”   “Yesterday is another example of our office’s unwavering commitment to pursuing those who violate the federal criminal civil rights laws,” said Acting United States Attorney for the Middle District of Louisiana Corey Amundson. “We will continue to work closely with the Justice Department’s Civil Rights Division and the FBI to ensure that no one is above the law.”     This case is being investigated by the FBI’s Baton Rouge Resident Agency and is being prosecuted by Assistant U.S. Attorney Frederick A. Menner, Jr. of the Middle District of Louisiana and Trial Attorney Christopher J. Perras of the Civil Rights Division’s Criminal Section.   \n",
       "1                                                                                                                                                                                                                                                                                                                                                                                                                                                                                                                                                                                                                                                                                                                                                                                                                                                                                 A federal jury convicted Rick Lee Evans, 43, of Anniston, Alabama, today of aggravated sexual abuse of a child after a five-day trial, Assistant Attorney General Leslie R. Caldwell of the Justice Department’s Criminal Division and U.S. Attorney Joyce White Vance of the Northern District of Alabama announced.  According to evidence introduced at trial, Evans, a former U.S. Army soldier, and his then-wife, a Department of Defense employee, were residing in Germany when they were asked to take temporary custody of a five-year-old child whose parents were deployed to Iraq with the U.S. Army.  Evans sexually abused the child on multiple occasions during the 18 months that the child lived with him from May 2007 to December 2008.  Trial Attorney Austin M. Berry of the Criminal Division’s Child Exploitation and Obscenity Section (CEOS) and Assistant U.S. Attorney Jacquelyn Hutzell of the Northern District of Alabama are prosecuting the case.  U.S. Army Criminal Investigations Division and the FBI’s Birmingham, Alabama, Division investigated the case. This case was brought as part of Project Safe Childhood, a nationwide initiative to combat the growing epidemic of child sexual exploitation and abuse, launched in May 2006 by the Department of Justice.  Led by U.S. Attorneys’ offices and CEOS, Project Safe Childhood marshals federal, state and local resources to better locate, apprehend and prosecute individuals who exploit children via the Internet, as well as to identify and rescue victims.  For more information about Project Safe Childhood, please visit www.justice.gov/psc.     \n",
       "2  An Alabama native was indicted today and charged with multiple crimes involving travel with intent to engage in illicit sexual conduct with minors and child pornography, announced Assistant Attorney General Leslie R. Caldwell of the Justice Department’s Criminal Division and U.S. Attorney Kenyen R. Brown of the Southern District of Alabama. Clarence Edward Evers Jr., aka Bud, a technology teacher employed by the Conecuh County, Alabama, Board of Education, was arrested on Feb. 11, 2016, and was charged today with five counts of travel with intent to engage in illicit sexual conduct with a minor, one count of attempted travel with intent to engage in illicit sexual conduct with a minor, one count of production and attempted production of child pornography, one count of transportation of child pornography, one count of receipt of child pornography, one count of access with intent to view child pornography and one count of possession of child pornography. According to the indictment, Evers allegedly traveled to Thailand in the summers of 2010 through 2014 for the purpose of engaging in illicit sexual conduct with a minor and allegedly attempted to make a similar trip in the spring of 2015.  During the 2014 trip, Evers also allegedly photographed his victims’ abuse and then transported the images back to the United States.  In addition, Evers allegedly had other images of child sexual exploitation on his computers and other electronic devices. The charges contained in the indictment are only allegations.  Evers is presumed innocent unless and until he is proven guilty beyond a reasonable doubt in a court of law. ICE-HSI is investigating this case.  Trial Attorney James E. Burke IV of the Criminal Division’s Child Exploitation and Obscenity Section (CEOS) and Assistant U.S. Attorneys Sean P. Costello and Maria E. Murphy of the Southern District of Alabama are prosecuting the case. This case was brought as part of Project Safe Childhood, a nationwide initiative to combat the growing epidemic of child sexual exploitation and abuse launched in May 2006 by the Department of Justice.  Led by U.S. Attorneys’ Offices and CEOS, Project Safe Childhood marshals federal, state and local resources to better locate, apprehend and prosecute individuals who exploit children via the Internet, as well as to identify and rescue victims.  For more information about Project Safe Childhood, please visit www.justice.gov/psc.   \n",
       "3                                                                                                                                                                                                                                                                                                                                                                                                An Alabama man was indicted today by a federal grand jury in Birmingham, Alabama, on charges related to the production of child pornography involving four minor victims, announced Assistant Attorney General Leslie R. Caldwell of the Justice Department’s Criminal Division and U.S. Joyce White Vance of the Northern District of Alabama. Gregory Jerome Lee, 53, formerly of Cullman County, Alabama, was indicted on four counts of production of child pornography, one count of conspiracy to advertise child pornography and one count of conspiracy to distribute and receive child pornography. According to the indictment, from September 1996 through December 2004, Lee used, persuaded, coerced and enticed minors to engage in sexually explicit conduct in order to produce images of that conduct.  Between September 1996 and August 2007, Lee conspired with other individuals to distribute and receive child pornography through a variety of means, including the Internet. The U.S. Postal Inspection Service (USPIS) is investigating the case.  Trial Attorney Amy E. Larson of the Criminal Division’s Child Exploitation and Obscenity Section (CEOS) and Assistant U.S. Attorney Jacquelyn Hutzell of the Northern District of Alabama are prosecuting the case.  The charges and allegations contained in an indictment are merely accusations.  The defendant is presumed innocent unless and until proven guilty.  Members of the public who may have information related to this matter should call the USPIS Birmingham Office at (205) 326-2909. This case was brought as part of Project Safe Childhood, a nationwide initiative to combat the growing epidemic of child sexual exploitation and abuse launched in May 2006 by the Department of Justice.  Led by U.S. Attorneys’ Offices and CEOS, Project Safe Childhood marshals federal, state and local resources to better locate, apprehend and prosecute individuals who exploit children via the Internet, as well as to identify and rescue victims.  For more information about Project Safe Childhood, please visit www.justice.gov/psc.   \n",
       "4                                                                                                                                                                                                                                                                                                                                                                                                                                                                                                                                                                              Jeremy Heath Higgins was indicted for threatening an African-American man at a Quinton, Alabama, restaurant, and for threatening another person who ordered Higgins to leave the restaurant due to his behavior, Acting Assistant Attorney General Jocelyn Samuels for the Justice Department’s Civil Rights Division and U.S. Attorney Joyce Vance for the Northern District of Alabama announced today.   Higgins, 28, was charged in a three count indictment returned yesterday by a federal grand jury in the U.S. District Court for the Northern District of Alabama.  The indictment charges him with one felony count and two misdemeanor counts of interference with a federally-protected activity.  The indictment alleges that on June 14, 2013, Higgins approached and threatened an African-American man at the Alabama Rose Steakhouse because the man was present at the restaurant with a white woman.  According to the indictment, another person ordered Higgins to leave the premises of the restaurant because of Higgins’ behavior toward the African-American man, after which Higgins allegedly shouted a threat to burn down the restaurant.  The indictment further alleges that Higgins threatened the person who had ordered him to leave the restaurant by painting graffiti on the restaurant’s exterior and fence.     If convicted of the felony count of the indictment, Higgins could face a maximum sentence of 10 years in prison and a $250,000 fine.  For each of the misdemeanor charges, Higgins could face a maximum sentence of one year in prison and a $200,000 fine.   This case is being investigated by the FBI and is being prosecuted by Assistant U.S. Attorney Robin B. Mark of the Northern District of Alabama and Trial Attorney David Reese of the Justice Department’s Civil Rights Division. An indictment is merely an accusation, and the defendant is presumed innocent unless proven guilty.     \n",
       "\n",
       "                        date            topics_clean  \\\n",
       "0  2017-11-02T00:00:00-04:00            Civil Rights   \n",
       "1  2015-12-11T00:00:00-05:00  Project Safe Childhood   \n",
       "2  2016-02-24T00:00:00-05:00  Project Safe Childhood   \n",
       "3  2016-03-30T00:00:00-04:00  Project Safe Childhood   \n",
       "4  2014-05-01T00:00:00-04:00             Hate Crimes   \n",
       "\n",
       "                                                                                   components_clean  \\\n",
       "0                                                   Civil Rights Division; USAO - Louisiana, Middle   \n",
       "1  Criminal Division; Criminal - Child Exploitation and Obscenity Section; USAO - Alabama, Northern   \n",
       "2  Criminal Division; Criminal - Child Exploitation and Obscenity Section; USAO - Alabama, Southern   \n",
       "3  Criminal Division; Criminal - Child Exploitation and Obscenity Section; USAO - Alabama, Northern   \n",
       "4                                            Civil Rights Division; Civil Rights - Criminal Section   \n",
       "\n",
       "                                              sentiment_dictionary  index  \\\n",
       "0  {'neg': 0.199, 'neu': 0.751, 'pos': 0.049, 'compound': -0.9931}      0   \n",
       "1  {'neg': 0.133, 'neu': 0.799, 'pos': 0.068, 'compound': -0.9325}      1   \n",
       "2   {'neg': 0.093, 'neu': 0.83, 'pos': 0.077, 'compound': -0.7579}      2   \n",
       "3  {'neg': 0.126, 'neu': 0.789, 'pos': 0.085, 'compound': -0.9037}      3   \n",
       "4  {'neg': 0.178, 'neu': 0.778, 'pos': 0.044, 'compound': -0.9864}      4   \n",
       "\n",
       "     neg  ...  Topic_1_Prob  Topic_2_Prob  Topic_3_Prob  \\\n",
       "0  0.199  ...      0.018474      0.978801      0.002725   \n",
       "1  0.133  ...      0.003262      0.003026      0.993712   \n",
       "2  0.093  ...      0.001960      0.001855      0.996185   \n",
       "3  0.126  ...      0.020199      0.002340      0.977461   \n",
       "4  0.178  ...      0.687335      0.002960      0.309705   \n",
       "\n",
       "                                                                                                                                                                                                                                                                                                                                                                                                                                                                                                                                                                                                                                                                                                                                                                                                                                                                                                                                                                                                                                                                                                                                                                                                                                                                                                                                                                                                                                                                                                                                                                                                                                                                                                                                                                                                                                                                                                                                                                                                                                                                                                                                                                                                                                                                                                                                                                                                                                                                                                                                                                                                                                                                                                                                                                                                                                                                      processed_text_bigrams  \\\n",
       "0                                                                                                                                                                                                                                                                                                                                                                                                                                                                                                                                                                                                                                                                                                                                                                                                   former_supervisori supervisori_correct correct_offic offic_louisiana louisiana_state state_penitentiari penitentiari_angola angola_louisiana louisiana_plead plead_guilti guilti_yesterday yesterday_connect connect_beat beat_handcuf handcuf_shackl shackl_inmat inmat_addit addit_conspir conspir_cover cover_misconduct misconduct_falsifi falsifi_offici offici_record record_lie lie_intern intern_investig investig_happen happen_jame jame_savoy savoy_marksvill marksvill_louisiana louisiana_admit admit_plea plea_hear hear_wit wit_offic offic_use use_excess excess_forc forc_inmat inmat_fail fail_interven interven_conspir conspir_offic offic_cover cover_beat beat_engag engag_varieti varieti_obstruct obstruct_act act_person person_falsifi falsifi_offici offici_prison prison_record record_cover cover_attack attack_scotti scotti_kennedi kennedi_beeb beeb_arkansa arkansa_john john_sander sander_marksvill marksvill_louisiana louisiana_previous previous_plead plead_guilti guilti_novemb novemb_septemb septemb_role role_beat beat_cover cover_everi everi_citizen citizen_right right_process process_protect protect_unreason unreason_forc forc_correct correct_offic offic_violat violat_basic basic_constitut constitut_must must_held held_account account_egregi egregi_action action_said said_act act_general general_john john_gore gore_continu continu_vigor vigor_prosecut prosecut_correct correct_offic offic_violat violat_public public_trust trust_commit commit_crime crime_cover cover_violat violat_feder feder_crimin crimin_yesterday yesterday_anoth anoth_exampl exampl_unwav unwav_commit commit_pursu pursu_violat violat_feder feder_crimin crimin_law law_said said_act act_unit unit_state state_middl middl_louisiana louisiana_corey corey_amundson amundson_continu continu_work work_close close_ensur ensur_investig investig_baton baton_roug roug_resid resid_agenc agenc_prosecut prosecut_frederick frederick_menner menner_middl middl_louisiana louisiana_christoph christoph_perra perra_crimin crimin_section   \n",
       "1                                                                                                                                                                                                                                                                                                                                                                                                                                                                                                                                                                                                                                                                                                                                                                                                                                                                                                                                                                                                                                                                                                                                                                                  feder_juri juri_convict convict_rick rick_evan evan_anniston anniston_alabama alabama_today today_aggrav aggrav_sexual sexual_abus abus_child child_five five_general general_lesli lesli_caldwel caldwel_crimin crimin_joyc joyc_white white_vanc vanc_northern northern_alabama alabama_announc announc_accord accord_evid evid_introduc introduc_evan evan_former former_armi armi_soldier soldier_wife wife_defens defens_employe employe_resid resid_germani germani_ask ask_take take_temporari temporari_custodi custodi_five five_year year_child child_whose whose_parent parent_deploy deploy_iraq iraq_armi armi_evan evan_sexual sexual_abus abus_child child_multipl multipl_occas occas_month month_child child_live live_decemb decemb_austin austin_berri berri_crimin crimin_child child_exploit exploit_obscen obscen_section section_ceo ceo_jacquelyn jacquelyn_hutzel hutzel_northern northern_alabama alabama_prosecut prosecut_armi armi_crimin crimin_investig investig_birmingham birmingham_alabama alabama_investig investig_brought brought_part part_project project_safe safe_childhood childhood_nationwid nationwid_initi initi_combat combat_grow grow_epidem epidem_child child_sexual sexual_exploit exploit_abus abus_launch launch_attorney attorney_offic offic_ceo ceo_project project_safe safe_childhood childhood_marshal marshal_feder feder_state state_local local_resourc resourc_better better_locat locat_apprehend apprehend_prosecut prosecut_individu individu_exploit exploit_children children_internet internet_well well_identifi identifi_rescu rescu_victim victim_inform inform_project project_safe safe_childhood childhood_pleas pleas_visit   \n",
       "2  alabama_nativ nativ_indict indict_today today_charg charg_multipl multipl_crime crime_involv involv_travel travel_intent intent_engag engag_illicit illicit_sexual sexual_conduct conduct_minor minor_child child_pornographi pornographi_announc announc_general general_lesli lesli_caldwel caldwel_crimin crimin_kenyen kenyen_brown brown_southern southern_alabama alabama_clarenc clarenc_edward edward_ever ever_technolog technolog_teacher teacher_employ employ_conecuh conecuh_counti counti_alabama alabama_board board_educ educ_arrest arrest_charg charg_today today_five five_count count_travel travel_intent intent_engag engag_illicit illicit_sexual sexual_conduct conduct_minor minor_count count_attempt attempt_travel travel_intent intent_engag engag_illicit illicit_sexual sexual_conduct conduct_minor minor_count count_product product_attempt attempt_product product_child child_pornographi pornographi_count count_transport transport_child child_pornographi pornographi_count count_receipt receipt_child child_pornographi pornographi_count count_access access_intent intent_view view_child child_pornographi pornographi_count count_possess possess_child child_pornographi pornographi_accord accord_indict indict_ever ever_alleg alleg_travel travel_thailand thailand_summer summer_purpos purpos_engag engag_illicit illicit_sexual sexual_conduct conduct_minor minor_alleg alleg_attempt attempt_make make_similar similar_trip trip_spring spring_trip trip_ever ever_also also_alleg alleg_photograph photograph_victim victim_abus abus_transport transport_imag imag_back back_unit unit_state state_addit addit_ever ever_alleg alleg_imag imag_child child_sexual sexual_exploit exploit_comput comput_electron electron_devic devic_charg charg_contain contain_indict indict_alleg alleg_ever ever_presum presum_innoc innoc_unless unless_proven proven_guilti guilti_beyond beyond_reason reason_doubt doubt_court court_investig investig_jame jame_burk burk_crimin crimin_child child_exploit exploit_obscen obscen_section section_ceo ceo_attorney attorney_sean sean_costello costello_maria maria_murphi murphi_southern southern_alabama alabama_prosecut prosecut_brought brought_part part_project project_safe safe_childhood childhood_nationwid nationwid_initi initi_combat combat_grow grow_epidem epidem_child child_sexual sexual_exploit exploit_abus abus_launch launch_attorney attorney_offic offic_ceo ceo_project project_safe safe_childhood childhood_marshal marshal_feder feder_state state_local local_resourc resourc_better better_locat locat_apprehend apprehend_prosecut prosecut_individu individu_exploit exploit_children children_internet internet_well well_identifi identifi_rescu rescu_victim victim_inform inform_project project_safe safe_childhood childhood_pleas pleas_visit   \n",
       "3                                                                                                                                                                                                                                                                                                                                                                                                                                                                                        alabama_indict indict_today today_feder feder_grand grand_juri juri_birmingham birmingham_alabama alabama_charg charg_relat relat_product product_child child_pornographi pornographi_involv involv_four four_minor minor_victim victim_announc announc_general general_lesli lesli_caldwel caldwel_crimin crimin_joyc joyc_white white_vanc vanc_northern northern_alabama alabama_gregori gregori_jerom jerom_former former_cullman cullman_counti counti_alabama alabama_indict indict_four four_count count_product product_child child_pornographi pornographi_count count_conspiraci conspiraci_advertis advertis_child child_pornographi pornographi_count count_conspiraci conspiraci_distribut distribut_receiv receiv_child child_pornographi pornographi_accord accord_indict indict_septemb septemb_decemb decemb_use use_persuad persuad_coerc coerc_entic entic_minor minor_engag engag_sexual sexual_explicit explicit_conduct conduct_order order_produc produc_imag imag_conduct conduct_septemb septemb_august august_conspir conspir_individu individu_distribut distribut_receiv receiv_child child_pornographi pornographi_varieti varieti_mean mean_includ includ_internet internet_postal postal_inspect inspect_servic servic_uspi uspi_investig investig_larson larson_crimin crimin_child child_exploit exploit_obscen obscen_section section_ceo ceo_jacquelyn jacquelyn_hutzel hutzel_northern northern_alabama alabama_prosecut prosecut_charg charg_alleg alleg_contain contain_indict indict_mere mere_accus accus_defend defend_presum presum_innoc innoc_unless unless_proven proven_guilti guilti_member member_public public_inform inform_relat relat_matter matter_call call_uspi uspi_birmingham birmingham_brought brought_part part_project project_safe safe_childhood childhood_nationwid nationwid_initi initi_combat combat_grow grow_epidem epidem_child child_sexual sexual_exploit exploit_abus abus_launch launch_attorney attorney_offic offic_ceo ceo_project project_safe safe_childhood childhood_marshal marshal_feder feder_state state_local local_resourc resourc_better better_locat locat_apprehend apprehend_prosecut prosecut_individu individu_exploit exploit_children children_internet internet_well well_identifi identifi_rescu rescu_victim victim_inform inform_project project_safe safe_childhood childhood_pleas pleas_visit   \n",
       "4                                                                                                                                                                                                                                                                                                                                                                                                                                                                                                                                                                                                                                                                                                                                                                                                                                                                                      jeremi_heath heath_higgin higgin_indict indict_threaten threaten_african african_american american_quinton quinton_alabama alabama_restaur restaur_threaten threaten_anoth anoth_person person_order order_higgin higgin_leav leav_restaur restaur_behavior behavior_act act_general general_jocelyn jocelyn_samuel samuel_joyc joyc_vanc vanc_northern northern_alabama alabama_announc announc_today today_higgin higgin_charg charg_three three_count count_indict indict_return return_yesterday yesterday_feder feder_grand grand_juri juri_court court_northern northern_alabama alabama_indict indict_charg charg_feloni feloni_count count_misdemeanor misdemeanor_count count_interfer interfer_feder feder_protect protect_activ activ_indict indict_alleg alleg_june june_higgin higgin_approach approach_threaten threaten_african african_american american_alabama alabama_rose rose_steakhous steakhous_present present_restaur restaur_white white_woman woman_accord accord_indict indict_anoth anoth_person person_order order_higgin higgin_leav leav_premis premis_restaur restaur_higgin higgin_behavior behavior_toward toward_african african_american american_higgin higgin_alleg alleg_shout shout_threat threat_burn burn_restaur restaur_indict indict_alleg alleg_higgin higgin_threaten threaten_person person_order order_leav leav_restaur restaur_paint paint_graffiti graffiti_restaur restaur_exterior exterior_fenc fenc_convict convict_feloni feloni_count count_indict indict_higgin higgin_could could_face face_maximum maximum_sentenc sentenc_year year_prison prison_fine fine_misdemeanor misdemeanor_charg charg_higgin higgin_could could_face face_maximum maximum_sentenc sentenc_year year_prison prison_fine fine_investig investig_prosecut prosecut_robin robin_mark mark_northern northern_alabama alabama_david david_rees rees_indict indict_mere mere_accus accus_defend defend_presum presum_innoc innoc_unless unless_proven proven_guilti   \n",
       "\n",
       "   Topic_1_Prob  Topic_2_Prob  Topic_3_Prob  Topic_1_Prob  Topic_2_Prob  \\\n",
       "0      0.017223      0.980052      0.002725      0.016957      0.980318   \n",
       "1      0.003262      0.003026      0.993712      0.003265      0.003026   \n",
       "2      0.001958      0.001855      0.996187      0.001958      0.001855   \n",
       "3      0.014402      0.002340      0.983257      0.018020      0.002340   \n",
       "4      0.708263      0.002960      0.288778      0.691473      0.002965   \n",
       "\n",
       "   Topic_3_Prob  \n",
       "0      0.002725  \n",
       "1      0.993709  \n",
       "2      0.996187  \n",
       "3      0.979639  \n",
       "4      0.305562  \n",
       "\n",
       "[5 rows x 34 columns]"
      ]
     },
     "execution_count": 117,
     "metadata": {},
     "output_type": "execute_result"
    }
   ],
   "source": [
    "## your code here to add those topic probabilities to the dataframe\n",
    "topic_df = pd.DataFrame([[prob[1] for prob in doc_probs] for doc_probs in topic_probs],\n",
    "                        columns=[\"Topic_1_Prob\", \"Topic_2_Prob\", \"Topic_3_Prob\"])\n",
    "doj_subset_wscore = pd.concat([doj_subset_wscore.reset_index(drop=True), topic_df], axis=1)\n",
    "doj_subset_wscore[\"top_topic\"] = topic_df.idxmax(axis=1)\n",
    "doj_subset_wscore.head()"
   ]
  },
  {
   "cell_type": "code",
   "execution_count": null,
   "metadata": {},
   "outputs": [],
   "source": []
  },
  {
   "cell_type": "code",
   "execution_count": 118,
   "metadata": {},
   "outputs": [
    {
     "data": {
      "text/html": [
       "<div>\n",
       "<style scoped>\n",
       "    .dataframe tbody tr th:only-of-type {\n",
       "        vertical-align: middle;\n",
       "    }\n",
       "\n",
       "    .dataframe tbody tr th {\n",
       "        vertical-align: top;\n",
       "    }\n",
       "\n",
       "    .dataframe thead th {\n",
       "        text-align: right;\n",
       "    }\n",
       "</style>\n",
       "<table border=\"1\" class=\"dataframe\">\n",
       "  <thead>\n",
       "    <tr style=\"text-align: right;\">\n",
       "      <th>top_topic</th>\n",
       "      <th>Topic_1_Prob</th>\n",
       "      <th>Topic_2_Prob</th>\n",
       "      <th>Topic_3_Prob</th>\n",
       "    </tr>\n",
       "    <tr>\n",
       "      <th>topics_clean</th>\n",
       "      <th></th>\n",
       "      <th></th>\n",
       "      <th></th>\n",
       "    </tr>\n",
       "  </thead>\n",
       "  <tbody>\n",
       "    <tr>\n",
       "      <th>Civil Rights</th>\n",
       "      <td>49.180328</td>\n",
       "      <td>28.852459</td>\n",
       "      <td>21.967213</td>\n",
       "    </tr>\n",
       "    <tr>\n",
       "      <th>Hate Crimes</th>\n",
       "      <td>23.170732</td>\n",
       "      <td>72.357724</td>\n",
       "      <td>4.471545</td>\n",
       "    </tr>\n",
       "    <tr>\n",
       "      <th>Project Safe Childhood</th>\n",
       "      <td>1.204819</td>\n",
       "      <td>0.000000</td>\n",
       "      <td>98.795181</td>\n",
       "    </tr>\n",
       "  </tbody>\n",
       "</table>\n",
       "</div>"
      ],
      "text/plain": [
       "top_topic               Topic_1_Prob  Topic_2_Prob  Topic_3_Prob\n",
       "topics_clean                                                    \n",
       "Civil Rights               49.180328     28.852459     21.967213\n",
       "Hate Crimes                23.170732     72.357724      4.471545\n",
       "Project Safe Childhood      1.204819      0.000000     98.795181"
      ]
     },
     "execution_count": 118,
     "metadata": {},
     "output_type": "execute_result"
    }
   ],
   "source": [
    "## your code here to summarize the topic proportions for each of the topics_clean \n",
    "topic_breakdown = pd.crosstab(doj_subset_wscore[\"topics_clean\"], doj_subset_wscore[\"top_topic\"], normalize=\"index\") * 100\n",
    "topic_breakdown"
   ]
  },
  {
   "cell_type": "markdown",
   "metadata": {},
   "source": [
    "Press releases on \"Civil Rights\" may encompass a broader range of issues, from voting rights to discrimination in housing or employment, leading to a more diverse vocabulary. This variety can cause these documents to map less distinctly to a single topic, as different aspects of civil rights could overlap with themes from other manual labels or estimated topics."
   ]
  },
  {
   "cell_type": "code",
   "execution_count": null,
   "metadata": {},
   "outputs": [],
   "source": []
  },
  {
   "cell_type": "code",
   "execution_count": null,
   "metadata": {},
   "outputs": [],
   "source": []
  },
  {
   "cell_type": "markdown",
   "metadata": {},
   "source": [
    "# 3. Extend the analysis from unigrams to bigrams (10 points)\n",
    "\n",
    "In the previous question, you found top words via a unigram representation of the text. Now, we want to see how those top words change with bigrams (pairs of words)\n",
    "\n",
    "A. Using the `doj_subset_wscore` data and the `processed_text` column (so the words after stemming/other preprocessing), create a column in the data called `processed_text_bigrams` that combines each consecutive pairs of word into a bigram separated by an underscore. Eg:\n",
    "\n",
    "\"depart reach settlem\" would become \"depart_reach reach_settlem\"\n",
    "\n",
    "Do this by writing a function `create_bigram_onedoc` that takes in a single `processed_text` string and returns a string with its bigrams structured similarly to above example\n",
    " \n",
    "**Hint**: there are many ways to solve but `zip` may be helpful: https://stackoverflow.com/questions/21303224/iterate-over-all-pairs-of-consecutive-items-in-a-list\n",
    "\n",
    "B. Print the `id`, `processed_text`, and `processed_text_bigram` columns for press release with id = 16-217"
   ]
  },
  {
   "cell_type": "code",
   "execution_count": 125,
   "metadata": {},
   "outputs": [
    {
     "data": {
      "text/html": [
       "<div>\n",
       "<style scoped>\n",
       "    .dataframe tbody tr th:only-of-type {\n",
       "        vertical-align: middle;\n",
       "    }\n",
       "\n",
       "    .dataframe tbody tr th {\n",
       "        vertical-align: top;\n",
       "    }\n",
       "\n",
       "    .dataframe thead th {\n",
       "        text-align: right;\n",
       "    }\n",
       "</style>\n",
       "<table border=\"1\" class=\"dataframe\">\n",
       "  <thead>\n",
       "    <tr style=\"text-align: right;\">\n",
       "      <th></th>\n",
       "      <th>id</th>\n",
       "      <th>processed_text</th>\n",
       "      <th>processed_text_bigrams</th>\n",
       "    </tr>\n",
       "  </thead>\n",
       "  <tbody>\n",
       "    <tr>\n",
       "      <th>313</th>\n",
       "      <td>16-217</td>\n",
       "      <td>reach comprehens settlement agreement citi miami miami polic resolv offic involv shoot offic announc princip deputi general vanita gupta head wifredo ferrer southern florida settlement approv miami citi commiss today effect agreement sign parti resolv claim stem offic involv shoot offic conduct violent crime control enforc find issu juli identifi pattern practic excess forc offic involv shoot violat fourth amend constitut citi complianc settlement monitor independ review former tampa florida polic chief jane castor settlement agreement citi implement comprehens reform ensur constitut polic support public trust settlement agreement design minim offic involv shoot effect quick investig offic involv shoot occur measur includ settlement repres renew commit citi miami chief rodolfo llane provid constitut polic miami resid protect public safeti sustain reform said princip deputi general gupta agreement help strengthen relationship communiti serv improv account offic fire weapon unlaw provid communiti particip enforc agreement today agreement result joint effort citi miami ensur miami polic continu effort make communiti safe protect sacr constitut citizen said ferrer oversight communic agreement seek make perman posit chang former chief orosa chief llane made applaud citi commiss vote settlement agreement build upon import reform implement citi sinc issu find includ conduct attorney staff special litig section southern florida</td>\n",
       "      <td>reach_comprehens comprehens_settlement settlement_agreement agreement_citi citi_miami miami_miami miami_polic polic_resolv resolv_offic offic_involv involv_shoot shoot_offic offic_announc announc_princip princip_deputi deputi_general general_vanita vanita_gupta gupta_head head_wifredo wifredo_ferrer ferrer_southern southern_florida florida_settlement settlement_approv approv_miami miami_citi citi_commiss commiss_today today_effect effect_agreement agreement_sign sign_parti parti_resolv resolv_claim claim_stem stem_offic offic_involv involv_shoot shoot_offic offic_conduct conduct_violent violent_crime crime_control control_enforc enforc_find find_issu issu_juli juli_identifi identifi_pattern pattern_practic practic_excess excess_forc forc_offic offic_involv involv_shoot shoot_violat violat_fourth fourth_amend amend_constitut constitut_citi citi_complianc complianc_settlement settlement_monitor monitor_independ independ_review review_former former_tampa tampa_florida florida_polic polic_chief chief_jane jane_castor castor_settlement settlement_agreement agreement_citi citi_implement implement_comprehens comprehens_reform reform_ensur ensur_constitut constitut_polic polic_support support_public public_trust trust_settlement settlement_agreement agreement_design design_minim minim_offic offic_involv involv_shoot shoot_effect effect_quick quick_investig investig_offic offic_involv involv_shoot shoot_occur occur_measur measur_includ includ_settlement settlement_repres repres_renew renew_commit commit_citi citi_miami miami_chief chief_rodolfo rodolfo_llane llane_provid provid_constitut constitut_polic polic_miami miami_resid resid_protect protect_public public_safeti safeti_sustain sustain_reform reform_said said_princip princip_deputi deputi_general general_gupta gupta_agreement agreement_help help_strengthen strengthen_relationship relationship_communiti communiti_serv serv_improv improv_account account_offic offic_fire fire_weapon weapon_unlaw unlaw_provid provid_communiti communiti_particip particip_enforc enforc_agreement agreement_today today_agreement agreement_result result_joint joint_effort effort_citi citi_miami miami_ensur ensur_miami miami_polic polic_continu continu_effort effort_make make_communiti communiti_safe safe_protect protect_sacr sacr_constitut constitut_citizen citizen_said said_ferrer ferrer_oversight oversight_communic communic_agreement agreement_seek seek_make make_perman perman_posit posit_chang chang_former former_chief chief_orosa orosa_chief chief_llane llane_made made_applaud applaud_citi citi_commiss commiss_vote vote_settlement settlement_agreement agreement_build build_upon upon_import import_reform reform_implement implement_citi citi_sinc sinc_issu issu_find find_includ includ_conduct conduct_attorney attorney_staff staff_special special_litig litig_section section_southern southern_florida</td>\n",
       "    </tr>\n",
       "  </tbody>\n",
       "</table>\n",
       "</div>"
      ],
      "text/plain": [
       "         id  \\\n",
       "313  16-217   \n",
       "\n",
       "                                                                                                                                                                                                                                                                                                                                                                                                                                                                                                                                                                                                                                                                                                                                                                                                                                                                                                                                                                                                                                                                                                                                                                                                                                                                                                                                                                                                                                                                                          processed_text  \\\n",
       "313  reach comprehens settlement agreement citi miami miami polic resolv offic involv shoot offic announc princip deputi general vanita gupta head wifredo ferrer southern florida settlement approv miami citi commiss today effect agreement sign parti resolv claim stem offic involv shoot offic conduct violent crime control enforc find issu juli identifi pattern practic excess forc offic involv shoot violat fourth amend constitut citi complianc settlement monitor independ review former tampa florida polic chief jane castor settlement agreement citi implement comprehens reform ensur constitut polic support public trust settlement agreement design minim offic involv shoot effect quick investig offic involv shoot occur measur includ settlement repres renew commit citi miami chief rodolfo llane provid constitut polic miami resid protect public safeti sustain reform said princip deputi general gupta agreement help strengthen relationship communiti serv improv account offic fire weapon unlaw provid communiti particip enforc agreement today agreement result joint effort citi miami ensur miami polic continu effort make communiti safe protect sacr constitut citizen said ferrer oversight communic agreement seek make perman posit chang former chief orosa chief llane made applaud citi commiss vote settlement agreement build upon import reform implement citi sinc issu find includ conduct attorney staff special litig section southern florida   \n",
       "\n",
       "                                                                                                                                                                                                                                                                                                                                                                                                                                                                                                                                                                                                                                                                                                                                                                                                                                                                                                                                                                                                                                                                                                                                                                                                                                                                                                                                                                                                                                                                                                                                                                                                                                                                                                                                                                                                                                                                                                                                                                                                                                                                                                                                                                                                                                                                                                                                                                                                                                                                                                                                                                                                                                                                                                                                                                                                                                                                                                                                                                        processed_text_bigrams  \n",
       "313  reach_comprehens comprehens_settlement settlement_agreement agreement_citi citi_miami miami_miami miami_polic polic_resolv resolv_offic offic_involv involv_shoot shoot_offic offic_announc announc_princip princip_deputi deputi_general general_vanita vanita_gupta gupta_head head_wifredo wifredo_ferrer ferrer_southern southern_florida florida_settlement settlement_approv approv_miami miami_citi citi_commiss commiss_today today_effect effect_agreement agreement_sign sign_parti parti_resolv resolv_claim claim_stem stem_offic offic_involv involv_shoot shoot_offic offic_conduct conduct_violent violent_crime crime_control control_enforc enforc_find find_issu issu_juli juli_identifi identifi_pattern pattern_practic practic_excess excess_forc forc_offic offic_involv involv_shoot shoot_violat violat_fourth fourth_amend amend_constitut constitut_citi citi_complianc complianc_settlement settlement_monitor monitor_independ independ_review review_former former_tampa tampa_florida florida_polic polic_chief chief_jane jane_castor castor_settlement settlement_agreement agreement_citi citi_implement implement_comprehens comprehens_reform reform_ensur ensur_constitut constitut_polic polic_support support_public public_trust trust_settlement settlement_agreement agreement_design design_minim minim_offic offic_involv involv_shoot shoot_effect effect_quick quick_investig investig_offic offic_involv involv_shoot shoot_occur occur_measur measur_includ includ_settlement settlement_repres repres_renew renew_commit commit_citi citi_miami miami_chief chief_rodolfo rodolfo_llane llane_provid provid_constitut constitut_polic polic_miami miami_resid resid_protect protect_public public_safeti safeti_sustain sustain_reform reform_said said_princip princip_deputi deputi_general general_gupta gupta_agreement agreement_help help_strengthen strengthen_relationship relationship_communiti communiti_serv serv_improv improv_account account_offic offic_fire fire_weapon weapon_unlaw unlaw_provid provid_communiti communiti_particip particip_enforc enforc_agreement agreement_today today_agreement agreement_result result_joint joint_effort effort_citi citi_miami miami_ensur ensur_miami miami_polic polic_continu continu_effort effort_make make_communiti communiti_safe safe_protect protect_sacr sacr_constitut constitut_citizen citizen_said said_ferrer ferrer_oversight oversight_communic communic_agreement agreement_seek seek_make make_perman perman_posit posit_chang chang_former former_chief chief_orosa orosa_chief chief_llane llane_made made_applaud applaud_citi citi_commiss commiss_vote vote_settlement settlement_agreement agreement_build build_upon upon_import import_reform reform_implement implement_citi citi_sinc sinc_issu issu_find find_includ includ_conduct conduct_attorney attorney_staff staff_special special_litig litig_section section_southern southern_florida  "
      ]
     },
     "execution_count": 125,
     "metadata": {},
     "output_type": "execute_result"
    }
   ],
   "source": [
    "## your code here \n",
    "def create_bigram_onedoc(text):\n",
    "    words = text.split() \n",
    "    bigrams = [f\"{w1}_{w2}\" for w1, w2 in zip(words, words[1:])]\n",
    "    return \" \".join(bigrams)  \n",
    "\n",
    "doj_subset_wscore[\"processed_text_bigrams\"] = doj_subset_wscore[\"processed_text\"].apply(create_bigram_onedoc)\n",
    "doj_subset_wscore[doj_subset_wscore[\"id\"] == \"16-217\"][[\"id\", \"processed_text\", \"processed_text_bigrams\"]]"
   ]
  },
  {
   "cell_type": "markdown",
   "metadata": {},
   "source": [
    "C. Use the create_dtm function and the `processed_text_bigrams` column to create a document-term matrix (`dtm_bigram`) with these bigrams. Keep the following three columns in the data: `id`, `topics_clean`, and `compound` \n",
    "\n",
    "D. Print the (1) dimensions of the `dtm` matrix from question 2.2  and (2) the dimensions of the `dtm_bigram` matrix. Comment on why the bigram matrix has more dimensions than the unigram matrix \n",
    "\n",
    "E. Find and print the 10 most prevelant bigrams for each of the three topics_clean using the `get_topwords` function from 2.2"
   ]
  },
  {
   "cell_type": "code",
   "execution_count": 124,
   "metadata": {},
   "outputs": [
    {
     "name": "stdout",
     "output_type": "stream",
     "text": [
      "dtm shape: (717, 6869)\n",
      "dtm_bigram.shape: (717, 72720)\n"
     ]
    },
    {
     "data": {
      "text/plain": [
       "fair_hous         231\n",
       "deputi_general    221\n",
       "princip_deputi    221\n",
       "vanita_gupta      202\n",
       "gupta_head        200\n",
       "general_vanita    199\n",
       "said_princip      186\n",
       "unit_state        156\n",
       "nation_origin     143\n",
       "consent_decre     128\n",
       "dtype: int64"
      ]
     },
     "execution_count": 124,
     "metadata": {},
     "output_type": "execute_result"
    },
    {
     "data": {
      "text/plain": [
       "safe_childhood       474\n",
       "project_safe         472\n",
       "child_pornographi    450\n",
       "child_exploit        281\n",
       "sexual_exploit       223\n",
       "exploit_children     200\n",
       "plead_guilti         197\n",
       "exploit_obscen       176\n",
       "obscen_section       175\n",
       "child_sexual         174\n",
       "dtype: int64"
      ]
     },
     "execution_count": 124,
     "metadata": {},
     "output_type": "execute_result"
    },
    {
     "data": {
      "text/plain": [
       "hate_crime          379\n",
       "african_american    367\n",
       "plead_guilti        275\n",
       "year_prison         161\n",
       "special_agent       124\n",
       "racial_motiv        114\n",
       "thoma_perez         111\n",
       "grand_juri          101\n",
       "perez_general        95\n",
       "said_thoma           91\n",
       "dtype: int64"
      ]
     },
     "execution_count": 124,
     "metadata": {},
     "output_type": "execute_result"
    }
   ],
   "source": [
    "# your code here\n",
    "#C\n",
    "metadata = doj_subset_wscore[[\"id\", \"topics_clean\", \"compound\"]]\n",
    "dtm_bigram = create_dtm(doj_subset_wscore[\"processed_text_bigrams\"], metadata)\n",
    "\n",
    "#D\n",
    "print(\"dtm shape:\",dtm.shape)\n",
    "print(\"dtm_bigram.shape:\", dtm_bigram.shape)\n",
    "# The bigram matrix has more dimensions than the unigram matrix because there are more unique word pairs than individual words. \n",
    "\n",
    "#E\n",
    "for topic in dtm_bigram[\"topics_clean\"].unique():\n",
    "    dtm_topic_subset = dtm_bigram[dtm_bigram[\"topics_clean\"] == topic]\n",
    "    get_topwords(dtm_topic_subset)"
   ]
  },
  {
   "cell_type": "markdown",
   "metadata": {},
   "source": [
    "# 4. Optional extra credit (2 points)\n",
    "\n",
    "You notice that the pharmaceutical kickbacks press release we analyzed in question 1 was for an indictment, and that in the original data, there's not a clear label for whether a press release outlines an indictment (charging someone with a crime), a conviction (convicting them after that charge either via a settlement or trial), or a sentencing (how many years of prison or supervised release a defendant is sentenced to after their conviction).\n",
    "\n",
    "You want to see if you can identify pairs of press releases where one press release is from one stage (e.g., indictment) and another is from a different stage (e.g., a sentencing).\n",
    "\n",
    "You decide that one way to approach is to find the pairwise string similarity between each of the processed press releases in `doj_subset`. There are many ways to do this, so Google for some approaches, focusing on ones that work well for entire documents rather than small strings.\n",
    "\n",
    "Find the top two pairs (so four press releases total)-- do they seem like different stages of the same crime or just press releases covering similar crimes?"
   ]
  },
  {
   "cell_type": "code",
   "execution_count": 79,
   "metadata": {},
   "outputs": [],
   "source": [
    "# your code here "
   ]
  },
  {
   "cell_type": "code",
   "execution_count": null,
   "metadata": {},
   "outputs": [],
   "source": []
  },
  {
   "cell_type": "code",
   "execution_count": null,
   "metadata": {},
   "outputs": [],
   "source": []
  },
  {
   "cell_type": "code",
   "execution_count": null,
   "metadata": {},
   "outputs": [],
   "source": []
  }
 ],
 "metadata": {
  "kernelspec": {
   "display_name": "Python 3 (ipykernel)",
   "language": "python",
   "name": "python3"
  },
  "language_info": {
   "codemirror_mode": {
    "name": "ipython",
    "version": 3
   },
   "file_extension": ".py",
   "mimetype": "text/x-python",
   "name": "python",
   "nbconvert_exporter": "python",
   "pygments_lexer": "ipython3",
   "version": "3.12.4"
  }
 },
 "nbformat": 4,
 "nbformat_minor": 4
}
